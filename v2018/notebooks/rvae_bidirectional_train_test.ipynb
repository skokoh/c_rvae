{
 "cells": [
  {
   "cell_type": "code",
   "execution_count": 1,
   "metadata": {
    "collapsed": false
   },
   "outputs": [
    {
     "name": "stderr",
     "output_type": "stream",
     "text": [
      "/home/eko/anaconda2/lib/python2.7/site-packages/h5py/__init__.py:34: FutureWarning: Conversion of the second argument of issubdtype from `float` to `np.floating` is deprecated. In future, it will be treated as `np.float64 == np.dtype(float).type`.\n",
      "  from ._conv import register_converters as _register_converters\n"
     ]
    }
   ],
   "source": [
    "import time\n",
    "from datetime import datetime\n",
    "import numpy as np\n",
    "import tensorflow as tf\n",
    "from model.vae import cnn_vae_rnn\n",
    "from util.miditools import piano_roll_to_pretty_midi\n",
    "\n",
    "import matplotlib.pyplot as plt\n"
   ]
  },
  {
   "cell_type": "code",
   "execution_count": 2,
   "metadata": {
    "collapsed": true
   },
   "outputs": [],
   "source": [
    "snapshot_interval = 200\n",
    "log_interval = 50\n",
    "\n",
    "checkpoint_file = './tfmodel/exp-new-bigru-iter-2000-0407.tfmodel'\n",
    "# mudb_file = '../Nottingham/preprocessing/CN_mudb_train.npz'\n",
    "# dev_file = '../Nottingham/preprocessing/CN_mudb_valid.npz' # success!!!\n",
    "dev_file = 'audio_files/preprocessing/mudb_test.npz' # success!!!\n",
    "# dev_file = 'audio_files/preprocessing/mudb_valid.npz' # success!!!\n",
    "\n",
    "\n",
    "# train_data = np.load(mudb_file)\n",
    "dev_data = np.load(dev_file)\n",
    "# print range(train_data['bars'])"
   ]
  },
  {
   "cell_type": "code",
   "execution_count": 3,
   "metadata": {
    "collapsed": false
   },
   "outputs": [
    {
     "name": "stdout",
     "output_type": "stream",
     "text": [
      "16.0\n",
      "16\n",
      "(8901, 256, 128)\n"
     ]
    }
   ],
   "source": [
    "# fs = train_data['fs']\n",
    "fs = dev_data['fs']\n",
    "print fs\n",
    "\n",
    "num_timesteps = int(fs)\n",
    "print num_timesteps\n",
    "\n",
    "# bars = train_data['bars']\n",
    "devBars = dev_data['bars']\n",
    "# np.random.shuffle(bars)\n",
    "\n",
    "print devBars.shape\n",
    "# print len(bars)"
   ]
  },
  {
   "cell_type": "code",
   "execution_count": 4,
   "metadata": {
    "collapsed": false
   },
   "outputs": [
    {
     "name": "stdout",
     "output_type": "stream",
     "text": [
      "16\n",
      "16\n"
     ]
    }
   ],
   "source": [
    "note_range = int(devBars.shape[2])\n",
    "\n",
    "\n",
    "# T = int(train_data['T']) #16\n",
    "T = int(dev_data['T']) #16\n",
    "\n",
    "print T\n",
    "\n",
    "# num_batches = int(bars.shape[0])\n",
    "num_batches = int(devBars.shape[0])\n",
    "\n",
    "height = num_timesteps #19\n",
    "print height\n",
    "\n",
    "width = note_range #128\n",
    "n_visible = note_range * num_timesteps\n",
    "n_epochs = 100 #3\n",
    "\n",
    "z_dim = 350\n",
    "X_dim = width * height\n",
    "n_hidden = z_dim\n",
    "h_dim = z_dim\n",
    "batch_size = 32\n",
    "\n",
    "trainBarsBatch = np.reshape(devBars, (-1, T, height, width, 1))\n",
    "trainBarsBatches = []\n",
    "i = 0\n",
    "while i < trainBarsBatch.shape[0] - 32:\n",
    "    trainBarsBatches.append(trainBarsBatch[i:i+32])\n",
    "    i += 32\n",
    "devBarsBatch = np.reshape(devBars, (-1, T, height, width, 1))\n",
    "devBarsBatches = []\n",
    "i = 0\n",
    "while i < devBarsBatch.shape[0] - 32:\n",
    "    devBarsBatches.append(devBarsBatch[i:i+32])\n",
    "    i += 32\n",
    "#devBarsBatch = np.array_split(devBarsBatch, batch_size)\n",
    "initializer = tf.contrib.layers.xavier_initializer()\n",
    "\n",
    "audio_sr = 44100\n",
    "\n",
    "devLoss = True\n",
    "devInterval = 100"
   ]
  },
  {
   "cell_type": "code",
   "execution_count": 5,
   "metadata": {
    "collapsed": true
   },
   "outputs": [],
   "source": [
    "##################################################################\n",
    "# Loading the model\n",
    "##################################################################\n",
    "with tf.name_scope('placeholders'):\n",
    "    z = tf.placeholder(tf.float32, shape=[None, z_dim], name=\"Generated_noise\") #z_dim=350\n",
    "    #(batch x T x width x height x channels)\n",
    "    z_rnn_samples = tf.placeholder(tf.float32, shape=[None, T, height, width, 1], name=\"Generated_midi_input\")\n",
    "    \n",
    "    X = tf.placeholder(tf.float32, shape=[None, T, height, width, 1], name=\"Training_samples\")\n",
    "    kl_annealing = tf.placeholder(tf.float32, name=\"KL_annealing_multiplier\")\n",
    "\n",
    "    \n",
    "# model selection\n",
    "model = cnn_vae_rnn(X, z, z_rnn_samples, X_dim, z_dim=z_dim, h_dim=h_dim, initializer=initializer, keep_prob=1.0)\n",
    "\n",
    "X_samples, out_samples, logits = (model['X_samples'], model['out_samples'], model['logits'])\n",
    "z_mu, z_logvar = (model['z_mu'], model['z_logvar'])"
   ]
  },
  {
   "cell_type": "code",
   "execution_count": 6,
   "metadata": {
    "collapsed": true
   },
   "outputs": [],
   "source": [
    "##################################################################\n",
    "# Losses\n",
    "##################################################################\n",
    "with tf.name_scope(\"Loss\"):\n",
    "    X_labels = tf.reshape(X, [-1, width*height])\n",
    "\n",
    "    with tf.name_scope(\"cross_entropy\"):\n",
    "#         recon_loss = tf.reduce_sum(tf.nn.sigmoid_cross_entropy_with_logits(logits=logits, labels=X_labels), 1) #recon_loss\n",
    "#         print X_labels\n",
    "        recon_loss = tf.reduce_sum(tf.nn.softmax(logits=logits), 1)\n",
    "    \n",
    "    with tf.name_scope(\"kl_divergence\"):\n",
    "        kl_loss = kl_annealing * 0.5 * tf.reduce_sum(tf.square(z_mu) + tf.exp(z_logvar) - z_logvar - 1.,1) #kl_loss\n",
    "    \n",
    "    recon_loss = tf.reduce_mean(tf.reshape(recon_loss, [-1, T]), axis=1)\n",
    "\n",
    "    loss = tf.reduce_mean(recon_loss + kl_loss)\n",
    "\n",
    "## recon_loss, loss graph visualization"
   ]
  },
  {
   "cell_type": "code",
   "execution_count": 7,
   "metadata": {
    "collapsed": true
   },
   "outputs": [],
   "source": [
    "##################################################################\n",
    "# Optimizer\n",
    "##################################################################\n",
    "with tf.name_scope(\"Optimizer\"):\n",
    "    solver = tf.train.AdamOptimizer()\n",
    "    grads = solver.compute_gradients(loss)\n",
    "    grads = [(tf.clip_by_norm(g, clip_norm=1), v) for g, v in grads]\n",
    "    train_op = solver.apply_gradients(grads)\n",
    "\n",
    "##################################################################\n",
    "# Logging\n",
    "##################################################################\n",
    "with tf.name_scope(\"Logging\"):\n",
    "    recon_loss_ph = tf.placeholder(tf.float32)\n",
    "    kl_loss_ph = tf.placeholder(tf.float32)\n",
    "    loss_ph = tf.placeholder(tf.float32)\n",
    "    audio_ph = tf.placeholder(tf.float32)\n",
    "\n",
    "    tf.summary.scalar(\"Reconstruction_loss\", recon_loss_ph)\n",
    "    tf.summary.scalar(\"KL_loss\", kl_loss_ph)\n",
    "    tf.summary.scalar(\"Loss\", loss_ph)\n",
    "    tf.summary.audio(\"sample_output\", audio_ph, audio_sr)\n",
    "    log_op = tf.summary.merge_all()\n",
    "\n",
    "writer = tf.summary.FileWriter('./tb/', graph=tf.get_default_graph())\n",
    "\n",
    "sess = tf.Session(config=tf.ConfigProto(gpu_options=tf.GPUOptions(allow_growth=True)))\n",
    "#sess = tf.Session(config=tf.ConfigProto(device_count={'GPU': 0}))\n",
    "\n",
    "# Run Initialization operations\n",
    "sess.run(tf.global_variables_initializer())\n",
    "\n",
    "saver = tf.train.Saver()\n",
    "\n",
    "loss_avg = 0.0\n",
    "decay = 0.99\n",
    "min_loss = 100.0\n",
    "min_dev_loss = 200.0\n",
    "time0 = time.time()\n",
    "\n",
    "### add t-sne clustering mean visualization\n",
    "### add deconvolutional layer visualization\n",
    "### "
   ]
  },
  {
   "cell_type": "code",
   "execution_count": 9,
   "metadata": {
    "collapsed": false
   },
   "outputs": [
    {
     "name": "stdout",
     "output_type": "stream",
     "text": [
      "========== EPOCH 0 ==========\n",
      "***recon_loss = 1.000000***\n",
      "\titer = 0, local_loss (cur) = 385.048645, local_loss (avg) = 6.131936, kl = 384.048645\n",
      "Tensor(\"vae_rnn/Encoder_train/Calculate_mu_sigma/add:0\", shape=(?, 350), dtype=float32)\n",
      "\n",
      "\tTotal time elapsed: 23.296174 sec. Average time per batch: 23.296174 sec\n",
      "\n"
     ]
    },
    {
     "ename": "KeyboardInterrupt",
     "evalue": "",
     "output_type": "error",
     "traceback": [
      "\u001b[0;31m-------------------------------------------------------------\u001b[0m",
      "\u001b[0;31mKeyboardInterrupt\u001b[0m           Traceback (most recent call last)",
      "\u001b[0;32m<ipython-input-9-3672b410cdd4>\u001b[0m in \u001b[0;36m<module>\u001b[0;34m()\u001b[0m\n\u001b[1;32m      9\u001b[0m     \u001b[0;32mfor\u001b[0m \u001b[0mbatch\u001b[0m \u001b[0;32min\u001b[0m \u001b[0mtrainBarsBatches\u001b[0m\u001b[0;34m:\u001b[0m\u001b[0;34m\u001b[0m\u001b[0m\n\u001b[1;32m     10\u001b[0m         \u001b[0mkl_an\u001b[0m \u001b[0;34m=\u001b[0m \u001b[0;36m1.0\u001b[0m\u001b[0;31m#min(1.0, (i / 10) / 200.)\u001b[0m\u001b[0;34m\u001b[0m\u001b[0m\n\u001b[0;32m---> 11\u001b[0;31m         \u001b[0m_\u001b[0m\u001b[0;34m,\u001b[0m\u001b[0mloss_out\u001b[0m\u001b[0;34m,\u001b[0m \u001b[0mkl\u001b[0m\u001b[0;34m,\u001b[0m \u001b[0mrecon\u001b[0m \u001b[0;34m=\u001b[0m \u001b[0msess\u001b[0m\u001b[0;34m.\u001b[0m\u001b[0mrun\u001b[0m\u001b[0;34m(\u001b[0m\u001b[0;34m[\u001b[0m\u001b[0mtrain_op\u001b[0m\u001b[0;34m,\u001b[0m \u001b[0mloss\u001b[0m\u001b[0;34m,\u001b[0m \u001b[0mkl_loss\u001b[0m\u001b[0;34m,\u001b[0m \u001b[0mrecon_loss\u001b[0m\u001b[0;34m]\u001b[0m\u001b[0;34m,\u001b[0m \u001b[0mfeed_dict\u001b[0m\u001b[0;34m=\u001b[0m\u001b[0;34m{\u001b[0m\u001b[0mX\u001b[0m\u001b[0;34m:\u001b[0m \u001b[0mbatch\u001b[0m\u001b[0;34m,\u001b[0m \u001b[0mkl_annealing\u001b[0m\u001b[0;34m:\u001b[0m \u001b[0mkl_an\u001b[0m\u001b[0;34m}\u001b[0m\u001b[0;34m)\u001b[0m\u001b[0;34m\u001b[0m\u001b[0m\n\u001b[0m\u001b[1;32m     12\u001b[0m \u001b[0;34m\u001b[0m\u001b[0m\n\u001b[1;32m     13\u001b[0m         \u001b[0;32mif\u001b[0m \u001b[0;34m(\u001b[0m\u001b[0mi\u001b[0m \u001b[0;34m%\u001b[0m \u001b[0mlog_interval\u001b[0m\u001b[0;34m)\u001b[0m \u001b[0;34m==\u001b[0m \u001b[0;36m0\u001b[0m\u001b[0;34m:\u001b[0m\u001b[0;34m\u001b[0m\u001b[0m\n",
      "\u001b[0;32m/home/eko/anaconda2/lib/python2.7/site-packages/tensorflow/python/client/session.pyc\u001b[0m in \u001b[0;36mrun\u001b[0;34m(self, fetches, feed_dict, options, run_metadata)\u001b[0m\n\u001b[1;32m    887\u001b[0m     \u001b[0;32mtry\u001b[0m\u001b[0;34m:\u001b[0m\u001b[0;34m\u001b[0m\u001b[0m\n\u001b[1;32m    888\u001b[0m       result = self._run(None, fetches, feed_dict, options_ptr,\n\u001b[0;32m--> 889\u001b[0;31m                          run_metadata_ptr)\n\u001b[0m\u001b[1;32m    890\u001b[0m       \u001b[0;32mif\u001b[0m \u001b[0mrun_metadata\u001b[0m\u001b[0;34m:\u001b[0m\u001b[0;34m\u001b[0m\u001b[0m\n\u001b[1;32m    891\u001b[0m         \u001b[0mproto_data\u001b[0m \u001b[0;34m=\u001b[0m \u001b[0mtf_session\u001b[0m\u001b[0;34m.\u001b[0m\u001b[0mTF_GetBuffer\u001b[0m\u001b[0;34m(\u001b[0m\u001b[0mrun_metadata_ptr\u001b[0m\u001b[0;34m)\u001b[0m\u001b[0;34m\u001b[0m\u001b[0m\n",
      "\u001b[0;32m/home/eko/anaconda2/lib/python2.7/site-packages/tensorflow/python/client/session.pyc\u001b[0m in \u001b[0;36m_run\u001b[0;34m(self, handle, fetches, feed_dict, options, run_metadata)\u001b[0m\n\u001b[1;32m   1118\u001b[0m     \u001b[0;32mif\u001b[0m \u001b[0mfinal_fetches\u001b[0m \u001b[0;32mor\u001b[0m \u001b[0mfinal_targets\u001b[0m \u001b[0;32mor\u001b[0m \u001b[0;34m(\u001b[0m\u001b[0mhandle\u001b[0m \u001b[0;32mand\u001b[0m \u001b[0mfeed_dict_tensor\u001b[0m\u001b[0;34m)\u001b[0m\u001b[0;34m:\u001b[0m\u001b[0;34m\u001b[0m\u001b[0m\n\u001b[1;32m   1119\u001b[0m       results = self._do_run(handle, final_targets, final_fetches,\n\u001b[0;32m-> 1120\u001b[0;31m                              feed_dict_tensor, options, run_metadata)\n\u001b[0m\u001b[1;32m   1121\u001b[0m     \u001b[0;32melse\u001b[0m\u001b[0;34m:\u001b[0m\u001b[0;34m\u001b[0m\u001b[0m\n\u001b[1;32m   1122\u001b[0m       \u001b[0mresults\u001b[0m \u001b[0;34m=\u001b[0m \u001b[0;34m[\u001b[0m\u001b[0;34m]\u001b[0m\u001b[0;34m\u001b[0m\u001b[0m\n",
      "\u001b[0;32m/home/eko/anaconda2/lib/python2.7/site-packages/tensorflow/python/client/session.pyc\u001b[0m in \u001b[0;36m_do_run\u001b[0;34m(self, handle, target_list, fetch_list, feed_dict, options, run_metadata)\u001b[0m\n\u001b[1;32m   1315\u001b[0m     \u001b[0;32mif\u001b[0m \u001b[0mhandle\u001b[0m \u001b[0;32mis\u001b[0m \u001b[0mNone\u001b[0m\u001b[0;34m:\u001b[0m\u001b[0;34m\u001b[0m\u001b[0m\n\u001b[1;32m   1316\u001b[0m       return self._do_call(_run_fn, self._session, feeds, fetches, targets,\n\u001b[0;32m-> 1317\u001b[0;31m                            options, run_metadata)\n\u001b[0m\u001b[1;32m   1318\u001b[0m     \u001b[0;32melse\u001b[0m\u001b[0;34m:\u001b[0m\u001b[0;34m\u001b[0m\u001b[0m\n\u001b[1;32m   1319\u001b[0m       \u001b[0;32mreturn\u001b[0m \u001b[0mself\u001b[0m\u001b[0;34m.\u001b[0m\u001b[0m_do_call\u001b[0m\u001b[0;34m(\u001b[0m\u001b[0m_prun_fn\u001b[0m\u001b[0;34m,\u001b[0m \u001b[0mself\u001b[0m\u001b[0;34m.\u001b[0m\u001b[0m_session\u001b[0m\u001b[0;34m,\u001b[0m \u001b[0mhandle\u001b[0m\u001b[0;34m,\u001b[0m \u001b[0mfeeds\u001b[0m\u001b[0;34m,\u001b[0m \u001b[0mfetches\u001b[0m\u001b[0;34m)\u001b[0m\u001b[0;34m\u001b[0m\u001b[0m\n",
      "\u001b[0;32m/home/eko/anaconda2/lib/python2.7/site-packages/tensorflow/python/client/session.pyc\u001b[0m in \u001b[0;36m_do_call\u001b[0;34m(self, fn, *args)\u001b[0m\n\u001b[1;32m   1321\u001b[0m   \u001b[0;32mdef\u001b[0m \u001b[0m_do_call\u001b[0m\u001b[0;34m(\u001b[0m\u001b[0mself\u001b[0m\u001b[0;34m,\u001b[0m \u001b[0mfn\u001b[0m\u001b[0;34m,\u001b[0m \u001b[0;34m*\u001b[0m\u001b[0margs\u001b[0m\u001b[0;34m)\u001b[0m\u001b[0;34m:\u001b[0m\u001b[0;34m\u001b[0m\u001b[0m\n\u001b[1;32m   1322\u001b[0m     \u001b[0;32mtry\u001b[0m\u001b[0;34m:\u001b[0m\u001b[0;34m\u001b[0m\u001b[0m\n\u001b[0;32m-> 1323\u001b[0;31m       \u001b[0;32mreturn\u001b[0m \u001b[0mfn\u001b[0m\u001b[0;34m(\u001b[0m\u001b[0;34m*\u001b[0m\u001b[0margs\u001b[0m\u001b[0;34m)\u001b[0m\u001b[0;34m\u001b[0m\u001b[0m\n\u001b[0m\u001b[1;32m   1324\u001b[0m     \u001b[0;32mexcept\u001b[0m \u001b[0merrors\u001b[0m\u001b[0;34m.\u001b[0m\u001b[0mOpError\u001b[0m \u001b[0;32mas\u001b[0m \u001b[0me\u001b[0m\u001b[0;34m:\u001b[0m\u001b[0;34m\u001b[0m\u001b[0m\n\u001b[1;32m   1325\u001b[0m       \u001b[0mmessage\u001b[0m \u001b[0;34m=\u001b[0m \u001b[0mcompat\u001b[0m\u001b[0;34m.\u001b[0m\u001b[0mas_text\u001b[0m\u001b[0;34m(\u001b[0m\u001b[0me\u001b[0m\u001b[0;34m.\u001b[0m\u001b[0mmessage\u001b[0m\u001b[0;34m)\u001b[0m\u001b[0;34m\u001b[0m\u001b[0m\n",
      "\u001b[0;32m/home/eko/anaconda2/lib/python2.7/site-packages/tensorflow/python/client/session.pyc\u001b[0m in \u001b[0;36m_run_fn\u001b[0;34m(session, feed_dict, fetch_list, target_list, options, run_metadata)\u001b[0m\n\u001b[1;32m   1300\u001b[0m           return tf_session.TF_Run(session, options,\n\u001b[1;32m   1301\u001b[0m                                    \u001b[0mfeed_dict\u001b[0m\u001b[0;34m,\u001b[0m \u001b[0mfetch_list\u001b[0m\u001b[0;34m,\u001b[0m \u001b[0mtarget_list\u001b[0m\u001b[0;34m,\u001b[0m\u001b[0;34m\u001b[0m\u001b[0m\n\u001b[0;32m-> 1302\u001b[0;31m                                    status, run_metadata)\n\u001b[0m\u001b[1;32m   1303\u001b[0m \u001b[0;34m\u001b[0m\u001b[0m\n\u001b[1;32m   1304\u001b[0m     \u001b[0;32mdef\u001b[0m \u001b[0m_prun_fn\u001b[0m\u001b[0;34m(\u001b[0m\u001b[0msession\u001b[0m\u001b[0;34m,\u001b[0m \u001b[0mhandle\u001b[0m\u001b[0;34m,\u001b[0m \u001b[0mfeed_dict\u001b[0m\u001b[0;34m,\u001b[0m \u001b[0mfetch_list\u001b[0m\u001b[0;34m)\u001b[0m\u001b[0;34m:\u001b[0m\u001b[0;34m\u001b[0m\u001b[0m\n",
      "\u001b[0;31mKeyboardInterrupt\u001b[0m: "
     ]
    }
   ],
   "source": [
    "##################################################################\n",
    "# Optimization loop\n",
    "##################################################################\n",
    "i = 0\n",
    "loss_visual_list = []\n",
    "\n",
    "for e in range(n_epochs):\n",
    "    print(\"%s EPOCH %d %s\" % (\"\".join(10*[\"=\"]), e, \"\".join(10*[\"=\"])))\n",
    "    for batch in trainBarsBatches:\n",
    "        kl_an = 1.0#min(1.0, (i / 10) / 200.)\n",
    "        _,loss_out, kl, recon = sess.run([train_op, loss, kl_loss, recon_loss], feed_dict={X: batch, kl_annealing: kl_an})\n",
    "\n",
    "        if (i % log_interval) == 0:\n",
    "            loss_avg = decay*loss_avg + (1-decay)*loss_out\n",
    "            print('***recon_loss = %f***' % np.mean(recon))\n",
    "#             print(accuracy) \n",
    "            \n",
    "            print('\\titer = %d, local_loss (cur) = %f, local_loss (avg) = %f, kl = %f'\n",
    "                % (i, loss_out, loss_avg, np.mean(kl)))\n",
    "            \n",
    "            print (z_mu)\n",
    "            \n",
    "            time_spent = time.time() - time0\n",
    "            print('\\n\\tTotal time elapsed: %f sec. Average time per batch: %f sec\\n' %\n",
    "                (time_spent, time_spent / (i+1)))\n",
    "            \n",
    "            loss_visual_list.append(loss_avg)\n",
    "            \n",
    "            #Random samples\n",
    "            z_in = np.random.randn(1, z_dim)\n",
    "            z_rnn_out = np.zeros((T,height,width,1))\n",
    "            first = True\n",
    "            for j in range(T):\n",
    "                z_rnn_out = np.expand_dims(z_rnn_out, axis=0)\n",
    "                samples = sess.run(X_samples, feed_dict={z: np.random.randn(1, z_dim), X: z_rnn_out})\n",
    "                frames = j + 1\n",
    "                samples = samples.reshape((-1, height, width, 1))\n",
    "                z_rnn_out = np.concatenate([samples[:frames], np.zeros((T-frames, height, width, 1))])\n",
    "            samples = samples.reshape((num_timesteps*(T), note_range))\n",
    "            thresh_S = samples >= 0.5\n",
    "            \n",
    "            pm_out = piano_roll_to_pretty_midi(thresh_S.T * 127, fs=fs)\n",
    "            midi_out = './tb/audio/test002_{0}.mid'.format(datetime.now().strftime(\"%Y.%m.%d.%H:%M:%S\"))\n",
    "            wav_out = './tb/audio/test002_{0}.wav'.format(datetime.now().strftime(\"%Y.%m.%d.%H:%M:%S\"))\n",
    "            audio = pm_out.synthesize() \n",
    "            audio = audio.reshape((1, len(audio)))\n",
    "            #Write out logs\n",
    "            summary = sess.run(log_op, feed_dict={recon_loss_ph: np.mean(recon), kl_loss_ph: np.mean(kl),\n",
    "                                                 loss_ph: loss_out, audio_ph: audio})\n",
    "            writer.add_summary(summary, i)\n",
    "                \n",
    "            \n",
    "#             plt.show()\n",
    "            \n",
    "#             plt.plot(np.mean(recon))\n",
    "#             plt.title('recon_loss function')\n",
    "#             plt.ylabel('loss')\n",
    "#             plt.xlabel('epoch')\n",
    "            \n",
    "#         plt.legend(['train', 'test'], loc='upper left')\n",
    "        \n",
    "        if devLoss and i % devInterval == 0:\n",
    "            #dls = []\n",
    "            #for dbatch in devBarsBatches:\n",
    "            #    dev_loss_out, kl, recon = sess.run([loss, kl_loss, recon_loss], feed_dict={X: dbatch, kl_annealing: kl_an})\n",
    "            #    dls.append(dev_loss_out)\n",
    "            #dev_loss_out = sum(dls) / len(dls)\n",
    "            #print(\"Dev set loss %.2f\" % dev_loss_out)\n",
    "\n",
    "            if loss_out < min_dev_loss:\n",
    "                print(\"Saving checkpoint with train loss %d\" % loss_out)\n",
    "                min_dev_loss = loss_out\n",
    "                \n",
    "\n",
    "                \n",
    "        i += 1\n",
    "        saver.save(sess, checkpoint_file)\n",
    "        \n",
    "plt.plot(loss_visual_list) \n",
    "plt.xlabel('epoch')\n",
    "plt.ylabel('loss') \n",
    "plt.title('local_loss function')\n",
    "plt.legend() \n",
    "plt.show()\n"
   ]
  },
  {
   "cell_type": "code",
   "execution_count": null,
   "metadata": {
    "collapsed": true
   },
   "outputs": [],
   "source": [
    "##################################################################\n",
    "# Optimization loop\n",
    "##################################################################\n",
    "# i = 0\n",
    "# losses = []\n",
    "# for batch in testBarsBatches:\n",
    "#     kl_an = 1.0#min(1.0, ((e+1)*num_batches) / (2*num_batches))\n",
    "#     loss_out, kl, recon = sess.run([loss, kl_loss, recon_loss], feed_dict={X: batch, kl_annealing: kl_an})\n",
    "#     losses.append(loss_out)\n",
    "# print(sum(losses) / len(losses))\n",
    "\n",
    "\n",
    "# bidirectional_generation\n",
    "\n",
    "#Random samples\n",
    "z_in = np.random.randn(1, z_dim)\n",
    "#z_in = np.random.normal(loc=0.0, scale=1.0, size=(1, z_dim))\n",
    "z_rnn_out = np.zeros((T,height,width,1))\n",
    "first = True\n",
    "for j in range(T):\n",
    "    z_rnn_out = np.expand_dims(z_rnn_out, axis=0)\n",
    "    samples = sess.run(X_samples, feed_dict={z: z_in, X: z_rnn_out})\n",
    "    frames = j + 1\n",
    "    samples = samples.reshape((-1, height, width, 1))\n",
    "    z_rnn_out = np.concatenate([samples[:frames], np.zeros((T-frames, height, width, 1))])\n",
    "samples = z_rnn_out.reshape((num_timesteps*T, note_range))\n",
    "thresh_S = samples >= 0.5\n",
    "\n",
    "pm_out = piano_roll_to_pretty_midi(thresh_S.T * 127, fs=fs)\n",
    "midi_out = './tb/audio/bach_{0}.mid'.format(datetime.now().strftime(\"%Y.%m.%d.%H:%M:%S\"))\n",
    "pm_out.write(midi_out)"
   ]
  }
 ],
 "metadata": {
  "kernelspec": {
   "display_name": "Python 2",
   "language": "python",
   "name": "python2"
  },
  "language_info": {
   "codemirror_mode": {
    "name": "ipython",
    "version": 2
   },
   "file_extension": ".py",
   "mimetype": "text/x-python",
   "name": "python",
   "nbconvert_exporter": "python",
   "pygments_lexer": "ipython2",
   "version": "2.7.13"
  }
 },
 "nbformat": 4,
 "nbformat_minor": 2
}
