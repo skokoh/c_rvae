{
 "cells": [
  {
   "cell_type": "markdown",
   "metadata": {},
   "source": [
    "## First, transpose each song into C (major|minor)"
   ]
  },
  {
   "cell_type": "code",
   "execution_count": null,
   "metadata": {
    "collapsed": true
   },
   "outputs": [],
   "source": [
    "import glob\n",
    "import os\n",
    "import numpy as np\n",
    "import music21\n",
    "import pretty_midi\n",
    "import matplotlib.pyplot as plt\n",
    "\n",
    "%matplotlib inline"
   ]
  },
  {
   "cell_type": "code",
   "execution_count": null,
   "metadata": {
    "collapsed": true
   },
   "outputs": [],
   "source": [
    "def slidingWindow(sequence,winSize,step=1):\n",
    "    \"\"\"Returns a generator that will iterate through\n",
    "    the defined chunks of input sequence.  Input sequence\n",
    "    must be iterable.\"\"\"\n",
    " \n",
    "    # Verify the inputs\n",
    "    try: it = iter(sequence)\n",
    "    except TypeError:\n",
    "        raise Exception(\"**ERROR** sequence must be iterable.\")\n",
    "    if step > winSize:\n",
    "        raise Exception(\"**ERROR** step must not be larger than winSize.\")\n",
    "    if winSize > len(sequence):\n",
    "        raise Exception(\"**ERROR** winSize must not be larger than sequence length.\")\n",
    " \n",
    "    # Pre-compute number of chunks to emit\n",
    "    numOfChunks = ((len(sequence)-winSize)//step)+1\n",
    " \n",
    "    # Do the work\n",
    "    i = 0\n",
    "    while (i + winSize) < len(sequence):\n",
    "        yield sequence[i:i+winSize]\n",
    "        i += step"
   ]
  },
  {
   "cell_type": "code",
   "execution_count": null,
   "metadata": {
    "collapsed": false
   },
   "outputs": [],
   "source": [
    "#See http://nickkellyresearch.com/python-script-transpose-midi-files-c-minor/\n",
    "#converts all midi files in the current folder\n",
    "#converting everything into the key of C major or C minor\n",
    "\n",
    "# major conversions\n",
    "key_halfsteps = dict([('G#', 4),(\"A-\", 4),(\"A\", 3),(\"A#\", 2),(\"B-\", 2),(\"B\", 1),(\"C\", 0),(\"C#\", -1),(\"D-\", -1),(\"D\", -2),(\"D#\", -3),(\"E-\", -3),(\"E\", -4),(\"F\", -5),(\"F#\", 6),(\"G-\", 6),(\"G\", 5)])\n",
    "\n",
    "\n",
    "# os.chdir(\"./audio_files/bach/JSB Chorales/test\")\n",
    "os.chdir(\"/home/eko/Downloads/lakh_train/\")\n",
    "\n",
    "for file in glob.glob(\"*.mid\"):\n",
    "    score = music21.converter.parse(file)\n",
    "    key = score.analyze('key')\n",
    "    halfSteps = key_halfsteps[key.tonic.name]\n",
    "    \n",
    "    newscore = score.transpose(halfSteps)\n",
    "    key = newscore.analyze('key')\n",
    "    print(key.tonic.name, key.mode)\n",
    "    newFileName = \"/home/eko/Downloads/lakh_train/preprocessing/CN_\" + file\n",
    "    newscore.write('midi',newFileName)\n"
   ]
  },
  {
   "cell_type": "code",
   "execution_count": null,
   "metadata": {
    "collapsed": true
   },
   "outputs": [],
   "source": []
  },
  {
   "cell_type": "markdown",
   "metadata": {},
   "source": [
    "## Create the mudb\n",
    "\n",
    "The Bach chorales are all the same tempo, so all we need to do is segment the file into frames"
   ]
  },
  {
   "cell_type": "code",
   "execution_count": null,
   "metadata": {
    "collapsed": true
   },
   "outputs": [],
   "source": [
    "# import mido\n",
    "# import warnings\n",
    "\n",
    "def create_mudb(data='train', num_bars=8):\n",
    "    bars = []\n",
    "    T = 2 * num_bars #Every fs time steps is half a bar\n",
    "    fs = 100\n",
    "    for file in glob.glob(\"/home/eko/winter2018/Nottingham/%s/*.mid\" % data):\n",
    "#     for file in glob.glob(\"/home/eko/Downloads/lakh_train/preprocessing/*.mid\"):\n",
    "\n",
    "        pm = pretty_midi.PrettyMIDI(file)\n",
    "#         pm = mido.MidiFile(file, debug=True)\n",
    "        warnings.simplefilter('ignore')\n",
    "\n",
    "        initial_tempo = pm.get_tempo_changes()[1][0]\n",
    "        fs = (initial_tempo / 60) * 8\n",
    "        piano_roll = pm.get_piano_roll(fs=fs)\n",
    "        piano_roll = (piano_roll.T > 0).astype(np.float32)\n",
    "        #Add an empty bar before the start\n",
    "        piano_roll = np.vstack((np.zeros((int(fs), len(piano_roll[0])), dtype=np.float32), piano_roll))\n",
    "#         fs = (initial_tempo / 60) * 8\n",
    "        windowSize = T * fs\n",
    "        \n",
    "#         print len(piano_roll)\n",
    "\n",
    "        if len(piano_roll) > windowSize:\n",
    "            for bar in slidingWindow(sequence=piano_roll, winSize=int(windowSize), step=int(fs)):\n",
    "                bars.append(bar)\n",
    "\n",
    "    bars = np.asarray(bars)\n",
    "    np.savez('/home/eko/winter2018/Nottingham/preprocessing/CN_mudb_%s.npz' % data, bars=bars, fs=fs, T=T, num_bars=num_bars)"
   ]
  },
  {
   "cell_type": "code",
   "execution_count": null,
   "metadata": {
    "collapsed": false
   },
   "outputs": [],
   "source": [
    "# create_mudb('train')\n",
    "create_mudb('valid')\n",
    "create_mudb('test')"
   ]
  },
  {
   "cell_type": "code",
   "execution_count": null,
   "metadata": {
    "collapsed": true
   },
   "outputs": [],
   "source": []
  }
 ],
 "metadata": {
  "kernelspec": {
   "display_name": "Python 2",
   "language": "python",
   "name": "python2"
  },
  "language_info": {
   "codemirror_mode": {
    "name": "ipython",
    "version": 2
   },
   "file_extension": ".py",
   "mimetype": "text/x-python",
   "name": "python",
   "nbconvert_exporter": "python",
   "pygments_lexer": "ipython2",
   "version": "2.7.13"
  }
 },
 "nbformat": 4,
 "nbformat_minor": 2
}
