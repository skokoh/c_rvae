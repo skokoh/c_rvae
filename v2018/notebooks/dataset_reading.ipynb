{
 "cells": [
  {
   "cell_type": "markdown",
   "metadata": {},
   "source": [
    "## First, transpose each song into C (major|minor)"
   ]
  },
  {
   "cell_type": "code",
   "execution_count": 1,
   "metadata": {
    "collapsed": true
   },
   "outputs": [],
   "source": [
    "import glob\n",
    "import os\n",
    "import numpy as np\n",
    "import music21\n",
    "import pretty_midi\n",
    "import matplotlib.pyplot as plt\n",
    "\n",
    "%matplotlib inline"
   ]
  },
  {
   "cell_type": "code",
   "execution_count": 2,
   "metadata": {
    "collapsed": true
   },
   "outputs": [],
   "source": [
    "def slidingWindow(sequence,winSize,step=1):\n",
    "    \"\"\"Returns a generator that will iterate through\n",
    "    the defined chunks of input sequence.  Input sequence\n",
    "    must be iterable.\"\"\"\n",
    " \n",
    "    # Verify the inputs\n",
    "    try: it = iter(sequence)\n",
    "    except TypeError:\n",
    "        raise Exception(\"**ERROR** sequence must be iterable.\")\n",
    "    if step > winSize:\n",
    "        raise Exception(\"**ERROR** step must not be larger than winSize.\")\n",
    "    if winSize > len(sequence):\n",
    "        raise Exception(\"**ERROR** winSize must not be larger than sequence length.\")\n",
    " \n",
    "    # Pre-compute number of chunks to emit\n",
    "    numOfChunks = ((len(sequence)-winSize)//step)+1\n",
    " \n",
    "    # Do the work\n",
    "    i = 0\n",
    "    while (i + winSize) < len(sequence):\n",
    "        yield sequence[i:i+winSize]\n",
    "        i += step"
   ]
  },
  {
   "cell_type": "code",
   "execution_count": 4,
   "metadata": {
    "collapsed": false
   },
   "outputs": [
    {
     "name": "stdout",
     "output_type": "stream",
     "text": [
      "('C', 'major')\n"
     ]
    },
    {
     "name": "stderr",
     "output_type": "stream",
     "text": [
      "midi.base.py: WARNING: Conversion error for <MidiEvent PROGRAM_CHANGE, t=0, track=1, channel=1>: Got incorrect data for <MidiEvent PROGRAM_CHANGE, t=0, track=1, channel=1> in .data: None,cannot parse Program Change; ignored.\n",
      "midi.base.py: WARNING: Conversion error for <MidiEvent PROGRAM_CHANGE, t=0, track=3, channel=1>: Got incorrect data for <MidiEvent PROGRAM_CHANGE, t=0, track=3, channel=1> in .data: None,cannot parse Program Change; ignored.\n",
      "midi.base.py: WARNING: Conversion error for <MidiEvent PROGRAM_CHANGE, t=0, track=9, channel=1>: Got incorrect data for <MidiEvent PROGRAM_CHANGE, t=0, track=9, channel=1> in .data: None,cannot parse Program Change; ignored.\n"
     ]
    },
    {
     "name": "stdout",
     "output_type": "stream",
     "text": [
      "('C', 'major')\n"
     ]
    },
    {
     "name": "stderr",
     "output_type": "stream",
     "text": [
      "midi.base.py: WARNING: Conversion error for <MidiEvent PROGRAM_CHANGE, t=0, track=4, channel=4>: Got incorrect data for <MidiEvent PROGRAM_CHANGE, t=0, track=4, channel=4> in .data: None,cannot parse Program Change; ignored.\n"
     ]
    },
    {
     "name": "stdout",
     "output_type": "stream",
     "text": [
      "('C', 'minor')\n"
     ]
    },
    {
     "name": "stderr",
     "output_type": "stream",
     "text": [
      "midi.base.py: WARNING: Conversion error for <MidiEvent PROGRAM_CHANGE, t=0, track=2, channel=2>: Got incorrect data for <MidiEvent PROGRAM_CHANGE, t=0, track=2, channel=2> in .data: None,cannot parse Program Change; ignored.\n"
     ]
    },
    {
     "name": "stdout",
     "output_type": "stream",
     "text": [
      "('C', 'major')\n"
     ]
    },
    {
     "name": "stderr",
     "output_type": "stream",
     "text": [
      "midi.base.py: WARNING: Conversion error for <MidiEvent PROGRAM_CHANGE, t=0, track=1, channel=1>: Got incorrect data for <MidiEvent PROGRAM_CHANGE, t=0, track=1, channel=1> in .data: None,cannot parse Program Change; ignored.\n",
      "midi.base.py: WARNING: Conversion error for <MidiEvent PROGRAM_CHANGE, t=0, track=2, channel=1>: Got incorrect data for <MidiEvent PROGRAM_CHANGE, t=0, track=2, channel=1> in .data: None,cannot parse Program Change; ignored.\n",
      "midi.base.py: WARNING: Conversion error for <MidiEvent PROGRAM_CHANGE, t=0, track=3, channel=1>: Got incorrect data for <MidiEvent PROGRAM_CHANGE, t=0, track=3, channel=1> in .data: None,cannot parse Program Change; ignored.\n",
      "midi.base.py: WARNING: Conversion error for <MidiEvent PROGRAM_CHANGE, t=0, track=4, channel=1>: Got incorrect data for <MidiEvent PROGRAM_CHANGE, t=0, track=4, channel=1> in .data: None,cannot parse Program Change; ignored.\n",
      "midi.base.py: WARNING: Conversion error for <MidiEvent PROGRAM_CHANGE, t=0, track=5, channel=1>: Got incorrect data for <MidiEvent PROGRAM_CHANGE, t=0, track=5, channel=1> in .data: None,cannot parse Program Change; ignored.\n",
      "midi.base.py: WARNING: Conversion error for <MidiEvent PROGRAM_CHANGE, t=0, track=7, channel=1>: Got incorrect data for <MidiEvent PROGRAM_CHANGE, t=0, track=7, channel=1> in .data: None,cannot parse Program Change; ignored.\n",
      "midi.base.py: WARNING: Conversion error for <MidiEvent PROGRAM_CHANGE, t=0, track=8, channel=1>: Got incorrect data for <MidiEvent PROGRAM_CHANGE, t=0, track=8, channel=1> in .data: None,cannot parse Program Change; ignored.\n"
     ]
    },
    {
     "name": "stdout",
     "output_type": "stream",
     "text": [
      "('C', 'major')\n"
     ]
    },
    {
     "name": "stderr",
     "output_type": "stream",
     "text": [
      "midi.base.py: WARNING: Conversion error for <MidiEvent PROGRAM_CHANGE, t=0, track=1, channel=4>: Got incorrect data for <MidiEvent PROGRAM_CHANGE, t=0, track=1, channel=4> in .data: None,cannot parse Program Change; ignored.\n",
      "midi.base.py: WARNING: Conversion error for <MidiEvent PROGRAM_CHANGE, t=0, track=1, channel=4>: Got incorrect data for <MidiEvent PROGRAM_CHANGE, t=0, track=1, channel=4> in .data: None,cannot parse Program Change; ignored.\n",
      "midi.base.py: WARNING: Conversion error for <MidiEvent PROGRAM_CHANGE, t=0, track=1, channel=4>: Got incorrect data for <MidiEvent PROGRAM_CHANGE, t=0, track=1, channel=4> in .data: None,cannot parse Program Change; ignored.\n"
     ]
    },
    {
     "name": "stdout",
     "output_type": "stream",
     "text": [
      "('C', 'major')\n"
     ]
    },
    {
     "name": "stderr",
     "output_type": "stream",
     "text": [
      "midi.base.py: WARNING: Conversion error for <MidiEvent PROGRAM_CHANGE, t=0, track=1, channel=1>: Got incorrect data for <MidiEvent PROGRAM_CHANGE, t=0, track=1, channel=1> in .data: None,cannot parse Program Change; ignored.\n",
      "midi.base.py: WARNING: Conversion error for <MidiEvent PROGRAM_CHANGE, t=0, track=1, channel=1>: Got incorrect data for <MidiEvent PROGRAM_CHANGE, t=0, track=1, channel=1> in .data: None,cannot parse Program Change; ignored.\n",
      "midi.base.py: WARNING: Conversion error for <MidiEvent PROGRAM_CHANGE, t=0, track=1, channel=1>: Got incorrect data for <MidiEvent PROGRAM_CHANGE, t=0, track=1, channel=1> in .data: None,cannot parse Program Change; ignored.\n",
      "midi.base.py: WARNING: Conversion error for <MidiEvent PROGRAM_CHANGE, t=0, track=1, channel=1>: Got incorrect data for <MidiEvent PROGRAM_CHANGE, t=0, track=1, channel=1> in .data: None,cannot parse Program Change; ignored.\n",
      "midi.base.py: WARNING: Conversion error for <MidiEvent PROGRAM_CHANGE, t=0, track=1, channel=1>: Got incorrect data for <MidiEvent PROGRAM_CHANGE, t=0, track=1, channel=1> in .data: None,cannot parse Program Change; ignored.\n",
      "midi.base.py: WARNING: Conversion error for <MidiEvent PROGRAM_CHANGE, t=0, track=1, channel=1>: Got incorrect data for <MidiEvent PROGRAM_CHANGE, t=0, track=1, channel=1> in .data: None,cannot parse Program Change; ignored.\n",
      "midi.base.py: WARNING: Conversion error for <MidiEvent PROGRAM_CHANGE, t=0, track=1, channel=1>: Got incorrect data for <MidiEvent PROGRAM_CHANGE, t=0, track=1, channel=1> in .data: None,cannot parse Program Change; ignored.\n",
      "midi.base.py: WARNING: Conversion error for <MidiEvent PROGRAM_CHANGE, t=0, track=1, channel=1>: Got incorrect data for <MidiEvent PROGRAM_CHANGE, t=0, track=1, channel=1> in .data: None,cannot parse Program Change; ignored.\n",
      "midi.base.py: WARNING: Conversion error for <MidiEvent PROGRAM_CHANGE, t=0, track=1, channel=1>: Got incorrect data for <MidiEvent PROGRAM_CHANGE, t=0, track=1, channel=1> in .data: None,cannot parse Program Change; ignored.\n",
      "midi.base.py: WARNING: Conversion error for <MidiEvent PROGRAM_CHANGE, t=0, track=1, channel=1>: Got incorrect data for <MidiEvent PROGRAM_CHANGE, t=0, track=1, channel=1> in .data: None,cannot parse Program Change; ignored.\n",
      "midi.base.py: WARNING: Conversion error for <MidiEvent PROGRAM_CHANGE, t=0, track=1, channel=1>: Got incorrect data for <MidiEvent PROGRAM_CHANGE, t=0, track=1, channel=1> in .data: None,cannot parse Program Change; ignored.\n"
     ]
    },
    {
     "name": "stdout",
     "output_type": "stream",
     "text": [
      "('C', 'major')\n"
     ]
    },
    {
     "name": "stderr",
     "output_type": "stream",
     "text": [
      "midi.base.py: WARNING: Conversion error for <MidiEvent PROGRAM_CHANGE, t=0, track=1, channel=1>: Got incorrect data for <MidiEvent PROGRAM_CHANGE, t=0, track=1, channel=1> in .data: None,cannot parse Program Change; ignored.\n",
      "midi.base.py: WARNING: Conversion error for <MidiEvent PROGRAM_CHANGE, t=0, track=2, channel=1>: Got incorrect data for <MidiEvent PROGRAM_CHANGE, t=0, track=2, channel=1> in .data: None,cannot parse Program Change; ignored.\n",
      "midi.base.py: WARNING: Conversion error for <MidiEvent PROGRAM_CHANGE, t=0, track=3, channel=1>: Got incorrect data for <MidiEvent PROGRAM_CHANGE, t=0, track=3, channel=1> in .data: None,cannot parse Program Change; ignored.\n",
      "midi.base.py: WARNING: Conversion error for <MidiEvent PROGRAM_CHANGE, t=0, track=5, channel=1>: Got incorrect data for <MidiEvent PROGRAM_CHANGE, t=0, track=5, channel=1> in .data: None,cannot parse Program Change; ignored.\n",
      "midi.base.py: WARNING: Conversion error for <MidiEvent PROGRAM_CHANGE, t=0, track=6, channel=1>: Got incorrect data for <MidiEvent PROGRAM_CHANGE, t=0, track=6, channel=1> in .data: None,cannot parse Program Change; ignored.\n",
      "midi.base.py: WARNING: Conversion error for <MidiEvent PROGRAM_CHANGE, t=0, track=7, channel=1>: Got incorrect data for <MidiEvent PROGRAM_CHANGE, t=0, track=7, channel=1> in .data: None,cannot parse Program Change; ignored.\n",
      "midi.base.py: WARNING: Conversion error for <MidiEvent PROGRAM_CHANGE, t=0, track=8, channel=1>: Got incorrect data for <MidiEvent PROGRAM_CHANGE, t=0, track=8, channel=1> in .data: None,cannot parse Program Change; ignored.\n",
      "midi.base.py: WARNING: Conversion error for <MidiEvent PROGRAM_CHANGE, t=0, track=9, channel=1>: Got incorrect data for <MidiEvent PROGRAM_CHANGE, t=0, track=9, channel=1> in .data: None,cannot parse Program Change; ignored.\n",
      "midi.base.py: WARNING: Conversion error for <MidiEvent PROGRAM_CHANGE, t=0, track=20, channel=1>: Got incorrect data for <MidiEvent PROGRAM_CHANGE, t=0, track=20, channel=1> in .data: None,cannot parse Program Change; ignored.\n",
      "midi.base.py: WARNING: Conversion error for <MidiEvent PROGRAM_CHANGE, t=0, track=21, channel=1>: Got incorrect data for <MidiEvent PROGRAM_CHANGE, t=0, track=21, channel=1> in .data: None,cannot parse Program Change; ignored.\n",
      "midi.base.py: WARNING: Conversion error for <MidiEvent PROGRAM_CHANGE, t=0, track=22, channel=1>: Got incorrect data for <MidiEvent PROGRAM_CHANGE, t=0, track=22, channel=1> in .data: None,cannot parse Program Change; ignored.\n",
      "midi.base.py: WARNING: Conversion error for <MidiEvent PROGRAM_CHANGE, t=0, track=23, channel=1>: Got incorrect data for <MidiEvent PROGRAM_CHANGE, t=0, track=23, channel=1> in .data: None,cannot parse Program Change; ignored.\n",
      "midi.base.py: WARNING: Conversion error for <MidiEvent PROGRAM_CHANGE, t=0, track=24, channel=1>: Got incorrect data for <MidiEvent PROGRAM_CHANGE, t=0, track=24, channel=1> in .data: None,cannot parse Program Change; ignored.\n"
     ]
    },
    {
     "name": "stdout",
     "output_type": "stream",
     "text": [
      "('C', 'major')\n"
     ]
    },
    {
     "name": "stderr",
     "output_type": "stream",
     "text": [
      "midi.base.py: WARNING: Conversion error for <MidiEvent PROGRAM_CHANGE, t=0, track=1, channel=1>: Got incorrect data for <MidiEvent PROGRAM_CHANGE, t=0, track=1, channel=1> in .data: None,cannot parse Program Change; ignored.\n",
      "midi.base.py: WARNING: Conversion error for <MidiEvent PROGRAM_CHANGE, t=0, track=1, channel=1>: Got incorrect data for <MidiEvent PROGRAM_CHANGE, t=0, track=1, channel=1> in .data: None,cannot parse Program Change; ignored.\n",
      "midi.base.py: WARNING: Conversion error for <MidiEvent PROGRAM_CHANGE, t=0, track=1, channel=1>: Got incorrect data for <MidiEvent PROGRAM_CHANGE, t=0, track=1, channel=1> in .data: None,cannot parse Program Change; ignored.\n",
      "midi.base.py: WARNING: Conversion error for <MidiEvent PROGRAM_CHANGE, t=0, track=1, channel=1>: Got incorrect data for <MidiEvent PROGRAM_CHANGE, t=0, track=1, channel=1> in .data: None,cannot parse Program Change; ignored.\n",
      "midi.base.py: WARNING: Conversion error for <MidiEvent PROGRAM_CHANGE, t=0, track=1, channel=1>: Got incorrect data for <MidiEvent PROGRAM_CHANGE, t=0, track=1, channel=1> in .data: None,cannot parse Program Change; ignored.\n",
      "midi.base.py: WARNING: Conversion error for <MidiEvent PROGRAM_CHANGE, t=0, track=1, channel=1>: Got incorrect data for <MidiEvent PROGRAM_CHANGE, t=0, track=1, channel=1> in .data: None,cannot parse Program Change; ignored.\n",
      "midi.base.py: WARNING: Conversion error for <MidiEvent PROGRAM_CHANGE, t=0, track=1, channel=1>: Got incorrect data for <MidiEvent PROGRAM_CHANGE, t=0, track=1, channel=1> in .data: None,cannot parse Program Change; ignored.\n"
     ]
    },
    {
     "name": "stdout",
     "output_type": "stream",
     "text": [
      "('C', 'major')\n"
     ]
    },
    {
     "name": "stderr",
     "output_type": "stream",
     "text": [
      "midi.base.py: WARNING: Conversion error for <MidiEvent PROGRAM_CHANGE, t=0, track=1, channel=1>: Got incorrect data for <MidiEvent PROGRAM_CHANGE, t=0, track=1, channel=1> in .data: None,cannot parse Program Change; ignored.\n",
      "midi.base.py: WARNING: Conversion error for <MidiEvent PROGRAM_CHANGE, t=0, track=3, channel=1>: Got incorrect data for <MidiEvent PROGRAM_CHANGE, t=0, track=3, channel=1> in .data: None,cannot parse Program Change; ignored.\n",
      "midi.base.py: WARNING: Conversion error for <MidiEvent PROGRAM_CHANGE, t=0, track=5, channel=1>: Got incorrect data for <MidiEvent PROGRAM_CHANGE, t=0, track=5, channel=1> in .data: None,cannot parse Program Change; ignored.\n",
      "midi.base.py: WARNING: Conversion error for <MidiEvent PROGRAM_CHANGE, t=0, track=6, channel=1>: Got incorrect data for <MidiEvent PROGRAM_CHANGE, t=0, track=6, channel=1> in .data: None,cannot parse Program Change; ignored.\n",
      "midi.base.py: WARNING: Conversion error for <MidiEvent PROGRAM_CHANGE, t=0, track=10, channel=1>: Got incorrect data for <MidiEvent PROGRAM_CHANGE, t=0, track=10, channel=1> in .data: None,cannot parse Program Change; ignored.\n",
      "midi.base.py: WARNING: Conversion error for <MidiEvent PROGRAM_CHANGE, t=0, track=11, channel=1>: Got incorrect data for <MidiEvent PROGRAM_CHANGE, t=0, track=11, channel=1> in .data: None,cannot parse Program Change; ignored.\n",
      "midi.base.py: WARNING: Conversion error for <MidiEvent PROGRAM_CHANGE, t=0, track=12, channel=1>: Got incorrect data for <MidiEvent PROGRAM_CHANGE, t=0, track=12, channel=1> in .data: None,cannot parse Program Change; ignored.\n",
      "midi.base.py: WARNING: Conversion error for <MidiEvent PROGRAM_CHANGE, t=0, track=13, channel=1>: Got incorrect data for <MidiEvent PROGRAM_CHANGE, t=0, track=13, channel=1> in .data: None,cannot parse Program Change; ignored.\n"
     ]
    },
    {
     "name": "stdout",
     "output_type": "stream",
     "text": [
      "('C', 'minor')\n",
      "('C', 'minor')\n"
     ]
    },
    {
     "name": "stderr",
     "output_type": "stream",
     "text": [
      "midi.base.py: WARNING: Conversion error for <MidiEvent PROGRAM_CHANGE, t=0, track=3, channel=3>: Got incorrect data for <MidiEvent PROGRAM_CHANGE, t=0, track=3, channel=3> in .data: None,cannot parse Program Change; ignored.\n"
     ]
    },
    {
     "name": "stdout",
     "output_type": "stream",
     "text": [
      "('C', 'major')\n"
     ]
    },
    {
     "name": "stderr",
     "output_type": "stream",
     "text": [
      "midi.base.py: WARNING: Conversion error for <MidiEvent PROGRAM_CHANGE, t=0, track=3, channel=3>: Got incorrect data for <MidiEvent PROGRAM_CHANGE, t=0, track=3, channel=3> in .data: None,cannot parse Program Change; ignored.\n",
      "midi.base.py: WARNING: Conversion error for <MidiEvent PROGRAM_CHANGE, t=0, track=6, channel=3>: Got incorrect data for <MidiEvent PROGRAM_CHANGE, t=0, track=6, channel=3> in .data: None,cannot parse Program Change; ignored.\n",
      "midi.base.py: WARNING: Conversion error for <MidiEvent PROGRAM_CHANGE, t=0, track=10, channel=3>: Got incorrect data for <MidiEvent PROGRAM_CHANGE, t=0, track=10, channel=3> in .data: None,cannot parse Program Change; ignored.\n"
     ]
    },
    {
     "name": "stdout",
     "output_type": "stream",
     "text": [
      "('C', 'minor')\n"
     ]
    },
    {
     "name": "stderr",
     "output_type": "stream",
     "text": [
      "midi.base.py: WARNING: Conversion error for <MidiEvent PROGRAM_CHANGE, t=0, track=1, channel=1>: Got incorrect data for <MidiEvent PROGRAM_CHANGE, t=0, track=1, channel=1> in .data: None,cannot parse Program Change; ignored.\n",
      "midi.base.py: WARNING: Conversion error for <MidiEvent PROGRAM_CHANGE, t=0, track=1, channel=1>: Got incorrect data for <MidiEvent PROGRAM_CHANGE, t=0, track=1, channel=1> in .data: None,cannot parse Program Change; ignored.\n"
     ]
    },
    {
     "name": "stdout",
     "output_type": "stream",
     "text": [
      "('C', 'major')\n"
     ]
    },
    {
     "name": "stderr",
     "output_type": "stream",
     "text": [
      "midi.base.py: WARNING: Conversion error for <MidiEvent PROGRAM_CHANGE, t=0, track=4, channel=4>: Got incorrect data for <MidiEvent PROGRAM_CHANGE, t=0, track=4, channel=4> in .data: None,cannot parse Program Change; ignored.\n",
      "midi.base.py: WARNING: Conversion error for <MidiEvent PROGRAM_CHANGE, t=0, track=7, channel=4>: Got incorrect data for <MidiEvent PROGRAM_CHANGE, t=0, track=7, channel=4> in .data: None,cannot parse Program Change; ignored.\n"
     ]
    },
    {
     "name": "stdout",
     "output_type": "stream",
     "text": [
      "('C', 'minor')\n"
     ]
    },
    {
     "name": "stderr",
     "output_type": "stream",
     "text": [
      "midi.base.py: WARNING: Conversion error for <MidiEvent PROGRAM_CHANGE, t=0, track=2, channel=2>: Got incorrect data for <MidiEvent PROGRAM_CHANGE, t=0, track=2, channel=2> in .data: None,cannot parse Program Change; ignored.\n",
      "midi.base.py: WARNING: Conversion error for <MidiEvent PROGRAM_CHANGE, t=0, track=3, channel=2>: Got incorrect data for <MidiEvent PROGRAM_CHANGE, t=0, track=3, channel=2> in .data: None,cannot parse Program Change; ignored.\n",
      "midi.base.py: WARNING: Conversion error for <MidiEvent PROGRAM_CHANGE, t=0, track=6, channel=2>: Got incorrect data for <MidiEvent PROGRAM_CHANGE, t=0, track=6, channel=2> in .data: None,cannot parse Program Change; ignored.\n",
      "midi.base.py: WARNING: Conversion error for <MidiEvent PROGRAM_CHANGE, t=0, track=9, channel=2>: Got incorrect data for <MidiEvent PROGRAM_CHANGE, t=0, track=9, channel=2> in .data: None,cannot parse Program Change; ignored.\n",
      "midi.base.py: WARNING: Conversion error for <MidiEvent PROGRAM_CHANGE, t=0, track=11, channel=2>: Got incorrect data for <MidiEvent PROGRAM_CHANGE, t=0, track=11, channel=2> in .data: None,cannot parse Program Change; ignored.\n"
     ]
    },
    {
     "name": "stdout",
     "output_type": "stream",
     "text": [
      "('C', 'major')\n"
     ]
    },
    {
     "name": "stderr",
     "output_type": "stream",
     "text": [
      "midi.base.py: WARNING: Conversion error for <MidiEvent PROGRAM_CHANGE, t=0, track=2, channel=2>: Got incorrect data for <MidiEvent PROGRAM_CHANGE, t=0, track=2, channel=2> in .data: None,cannot parse Program Change; ignored.\n",
      "midi.base.py: WARNING: Conversion error for <MidiEvent PROGRAM_CHANGE, t=0, track=3, channel=2>: Got incorrect data for <MidiEvent PROGRAM_CHANGE, t=0, track=3, channel=2> in .data: None,cannot parse Program Change; ignored.\n",
      "midi.base.py: WARNING: Conversion error for <MidiEvent PROGRAM_CHANGE, t=0, track=4, channel=2>: Got incorrect data for <MidiEvent PROGRAM_CHANGE, t=0, track=4, channel=2> in .data: None,cannot parse Program Change; ignored.\n",
      "midi.base.py: WARNING: Conversion error for <MidiEvent PROGRAM_CHANGE, t=0, track=7, channel=2>: Got incorrect data for <MidiEvent PROGRAM_CHANGE, t=0, track=7, channel=2> in .data: None,cannot parse Program Change; ignored.\n"
     ]
    },
    {
     "name": "stdout",
     "output_type": "stream",
     "text": [
      "('C', 'minor')\n"
     ]
    },
    {
     "name": "stderr",
     "output_type": "stream",
     "text": [
      "midi.base.py: WARNING: Conversion error for <MidiEvent PROGRAM_CHANGE, t=0, track=1, channel=2>: Got incorrect data for <MidiEvent PROGRAM_CHANGE, t=0, track=1, channel=2> in .data: None,cannot parse Program Change; ignored.\n",
      "midi.base.py: WARNING: Conversion error for <MidiEvent PROGRAM_CHANGE, t=0, track=1, channel=2>: Got incorrect data for <MidiEvent PROGRAM_CHANGE, t=0, track=1, channel=2> in .data: None,cannot parse Program Change; ignored.\n",
      "midi.base.py: WARNING: Conversion error for <MidiEvent PROGRAM_CHANGE, t=0, track=1, channel=2>: Got incorrect data for <MidiEvent PROGRAM_CHANGE, t=0, track=1, channel=2> in .data: None,cannot parse Program Change; ignored.\n",
      "midi.base.py: WARNING: Conversion error for <MidiEvent PROGRAM_CHANGE, t=0, track=1, channel=2>: Got incorrect data for <MidiEvent PROGRAM_CHANGE, t=0, track=1, channel=2> in .data: None,cannot parse Program Change; ignored.\n",
      "midi.base.py: WARNING: Conversion error for <MidiEvent PROGRAM_CHANGE, t=0, track=1, channel=2>: Got incorrect data for <MidiEvent PROGRAM_CHANGE, t=0, track=1, channel=2> in .data: None,cannot parse Program Change; ignored.\n",
      "midi.base.py: WARNING: Conversion error for <MidiEvent PROGRAM_CHANGE, t=0, track=1, channel=2>: Got incorrect data for <MidiEvent PROGRAM_CHANGE, t=0, track=1, channel=2> in .data: None,cannot parse Program Change; ignored.\n",
      "midi.base.py: WARNING: Conversion error for <MidiEvent PROGRAM_CHANGE, t=0, track=1, channel=2>: Got incorrect data for <MidiEvent PROGRAM_CHANGE, t=0, track=1, channel=2> in .data: None,cannot parse Program Change; ignored.\n"
     ]
    },
    {
     "name": "stdout",
     "output_type": "stream",
     "text": [
      "('C', 'major')\n"
     ]
    },
    {
     "name": "stderr",
     "output_type": "stream",
     "text": [
      "midi.base.py: WARNING: Conversion error for <MidiEvent PROGRAM_CHANGE, t=0, track=3, channel=3>: Got incorrect data for <MidiEvent PROGRAM_CHANGE, t=0, track=3, channel=3> in .data: None,cannot parse Program Change; ignored.\n",
      "midi.base.py: WARNING: Conversion error for <MidiEvent PROGRAM_CHANGE, t=0, track=6, channel=3>: Got incorrect data for <MidiEvent PROGRAM_CHANGE, t=0, track=6, channel=3> in .data: None,cannot parse Program Change; ignored.\n",
      "midi.base.py: WARNING: Conversion error for <MidiEvent PROGRAM_CHANGE, t=0, track=7, channel=3>: Got incorrect data for <MidiEvent PROGRAM_CHANGE, t=0, track=7, channel=3> in .data: None,cannot parse Program Change; ignored.\n",
      "midi.base.py: WARNING: Conversion error for <MidiEvent PROGRAM_CHANGE, t=0, track=10, channel=3>: Got incorrect data for <MidiEvent PROGRAM_CHANGE, t=0, track=10, channel=3> in .data: None,cannot parse Program Change; ignored.\n",
      "midi.base.py: WARNING: Conversion error for <MidiEvent PROGRAM_CHANGE, t=0, track=11, channel=3>: Got incorrect data for <MidiEvent PROGRAM_CHANGE, t=0, track=11, channel=3> in .data: None,cannot parse Program Change; ignored.\n"
     ]
    },
    {
     "name": "stdout",
     "output_type": "stream",
     "text": [
      "('C', 'major')\n"
     ]
    },
    {
     "name": "stderr",
     "output_type": "stream",
     "text": [
      "midi.base.py: WARNING: Conversion error for <MidiEvent PROGRAM_CHANGE, t=0, track=3, channel=3>: Got incorrect data for <MidiEvent PROGRAM_CHANGE, t=0, track=3, channel=3> in .data: None,cannot parse Program Change; ignored.\n",
      "midi.base.py: WARNING: Conversion error for <MidiEvent PROGRAM_CHANGE, t=0, track=9, channel=3>: Got incorrect data for <MidiEvent PROGRAM_CHANGE, t=0, track=9, channel=3> in .data: None,cannot parse Program Change; ignored.\n"
     ]
    },
    {
     "name": "stdout",
     "output_type": "stream",
     "text": [
      "('C', 'minor')\n"
     ]
    },
    {
     "name": "stderr",
     "output_type": "stream",
     "text": [
      "midi.base.py: WARNING: Conversion error for <MidiEvent PROGRAM_CHANGE, t=0, track=1, channel=1>: Got incorrect data for <MidiEvent PROGRAM_CHANGE, t=0, track=1, channel=1> in .data: None,cannot parse Program Change; ignored.\n",
      "midi.base.py: WARNING: Conversion error for <MidiEvent PROGRAM_CHANGE, t=0, track=2, channel=1>: Got incorrect data for <MidiEvent PROGRAM_CHANGE, t=0, track=2, channel=1> in .data: None,cannot parse Program Change; ignored.\n",
      "midi.base.py: WARNING: Conversion error for <MidiEvent PROGRAM_CHANGE, t=0, track=2, channel=1>: Got incorrect data for <MidiEvent PROGRAM_CHANGE, t=0, track=2, channel=1> in .data: None,cannot parse Program Change; ignored.\n",
      "midi.base.py: WARNING: Conversion error for <MidiEvent PROGRAM_CHANGE, t=0, track=5, channel=1>: Got incorrect data for <MidiEvent PROGRAM_CHANGE, t=0, track=5, channel=1> in .data: None,cannot parse Program Change; ignored.\n",
      "midi.base.py: WARNING: Conversion error for <MidiEvent PROGRAM_CHANGE, t=0, track=6, channel=1>: Got incorrect data for <MidiEvent PROGRAM_CHANGE, t=0, track=6, channel=1> in .data: None,cannot parse Program Change; ignored.\n",
      "midi.base.py: WARNING: Conversion error for <MidiEvent PROGRAM_CHANGE, t=0, track=7, channel=1>: Got incorrect data for <MidiEvent PROGRAM_CHANGE, t=0, track=7, channel=1> in .data: None,cannot parse Program Change; ignored.\n",
      "midi.base.py: WARNING: Conversion error for <MidiEvent PROGRAM_CHANGE, t=0, track=7, channel=1>: Got incorrect data for <MidiEvent PROGRAM_CHANGE, t=0, track=7, channel=1> in .data: None,cannot parse Program Change; ignored.\n",
      "midi.base.py: WARNING: Conversion error for <MidiEvent PROGRAM_CHANGE, t=0, track=8, channel=1>: Got incorrect data for <MidiEvent PROGRAM_CHANGE, t=0, track=8, channel=1> in .data: None,cannot parse Program Change; ignored.\n",
      "midi.base.py: WARNING: Conversion error for <MidiEvent PROGRAM_CHANGE, t=0, track=10, channel=1>: Got incorrect data for <MidiEvent PROGRAM_CHANGE, t=0, track=10, channel=1> in .data: None,cannot parse Program Change; ignored.\n",
      "midi.base.py: WARNING: Conversion error for <MidiEvent PROGRAM_CHANGE, t=0, track=11, channel=1>: Got incorrect data for <MidiEvent PROGRAM_CHANGE, t=0, track=11, channel=1> in .data: None,cannot parse Program Change; ignored.\n",
      "midi.base.py: WARNING: Conversion error for <MidiEvent PROGRAM_CHANGE, t=0, track=14, channel=1>: Got incorrect data for <MidiEvent PROGRAM_CHANGE, t=0, track=14, channel=1> in .data: None,cannot parse Program Change; ignored.\n"
     ]
    },
    {
     "name": "stdout",
     "output_type": "stream",
     "text": [
      "('C', 'major')\n"
     ]
    },
    {
     "name": "stderr",
     "output_type": "stream",
     "text": [
      "midi.base.py: WARNING: Conversion error for <MidiEvent PROGRAM_CHANGE, t=0, track=1, channel=1>: Got incorrect data for <MidiEvent PROGRAM_CHANGE, t=0, track=1, channel=1> in .data: None,cannot parse Program Change; ignored.\n"
     ]
    },
    {
     "name": "stdout",
     "output_type": "stream",
     "text": [
      "('C', 'major')\n"
     ]
    },
    {
     "name": "stderr",
     "output_type": "stream",
     "text": [
      "midi.base.py: WARNING: Conversion error for <MidiEvent PROGRAM_CHANGE, t=0, track=1, channel=3>: Got incorrect data for <MidiEvent PROGRAM_CHANGE, t=0, track=1, channel=3> in .data: None,cannot parse Program Change; ignored.\n",
      "midi.base.py: WARNING: Conversion error for <MidiEvent PROGRAM_CHANGE, t=0, track=1, channel=3>: Got incorrect data for <MidiEvent PROGRAM_CHANGE, t=0, track=1, channel=3> in .data: None,cannot parse Program Change; ignored.\n",
      "midi.base.py: WARNING: Conversion error for <MidiEvent PROGRAM_CHANGE, t=0, track=1, channel=3>: Got incorrect data for <MidiEvent PROGRAM_CHANGE, t=0, track=1, channel=3> in .data: None,cannot parse Program Change; ignored.\n",
      "midi.base.py: WARNING: Conversion error for <MidiEvent PROGRAM_CHANGE, t=0, track=1, channel=3>: Got incorrect data for <MidiEvent PROGRAM_CHANGE, t=0, track=1, channel=3> in .data: None,cannot parse Program Change; ignored.\n",
      "midi.base.py: WARNING: Conversion error for <MidiEvent PROGRAM_CHANGE, t=0, track=1, channel=3>: Got incorrect data for <MidiEvent PROGRAM_CHANGE, t=0, track=1, channel=3> in .data: None,cannot parse Program Change; ignored.\n"
     ]
    },
    {
     "name": "stdout",
     "output_type": "stream",
     "text": [
      "('C', 'minor')\n"
     ]
    },
    {
     "name": "stderr",
     "output_type": "stream",
     "text": [
      "midi.base.py: WARNING: Conversion error for <MidiEvent PROGRAM_CHANGE, t=0, track=2, channel=2>: Got incorrect data for <MidiEvent PROGRAM_CHANGE, t=0, track=2, channel=2> in .data: None,cannot parse Program Change; ignored.\n"
     ]
    },
    {
     "name": "stdout",
     "output_type": "stream",
     "text": [
      "('C', 'major')\n"
     ]
    },
    {
     "name": "stderr",
     "output_type": "stream",
     "text": [
      "midi.base.py: WARNING: Conversion error for <MidiEvent PROGRAM_CHANGE, t=0, track=1, channel=1>: Got incorrect data for <MidiEvent PROGRAM_CHANGE, t=0, track=1, channel=1> in .data: None,cannot parse Program Change; ignored.\n",
      "midi.base.py: WARNING: Conversion error for <MidiEvent PROGRAM_CHANGE, t=0, track=1, channel=1>: Got incorrect data for <MidiEvent PROGRAM_CHANGE, t=0, track=1, channel=1> in .data: None,cannot parse Program Change; ignored.\n",
      "midi.base.py: WARNING: Conversion error for <MidiEvent PROGRAM_CHANGE, t=0, track=1, channel=1>: Got incorrect data for <MidiEvent PROGRAM_CHANGE, t=0, track=1, channel=1> in .data: None,cannot parse Program Change; ignored.\n",
      "midi.base.py: WARNING: Conversion error for <MidiEvent PROGRAM_CHANGE, t=0, track=1, channel=1>: Got incorrect data for <MidiEvent PROGRAM_CHANGE, t=0, track=1, channel=1> in .data: None,cannot parse Program Change; ignored.\n",
      "midi.base.py: WARNING: Conversion error for <MidiEvent PROGRAM_CHANGE, t=0, track=1, channel=1>: Got incorrect data for <MidiEvent PROGRAM_CHANGE, t=0, track=1, channel=1> in .data: None,cannot parse Program Change; ignored.\n",
      "midi.base.py: WARNING: Conversion error for <MidiEvent PROGRAM_CHANGE, t=0, track=1, channel=1>: Got incorrect data for <MidiEvent PROGRAM_CHANGE, t=0, track=1, channel=1> in .data: None,cannot parse Program Change; ignored.\n",
      "midi.base.py: WARNING: Conversion error for <MidiEvent PROGRAM_CHANGE, t=0, track=1, channel=1>: Got incorrect data for <MidiEvent PROGRAM_CHANGE, t=0, track=1, channel=1> in .data: None,cannot parse Program Change; ignored.\n",
      "midi.base.py: WARNING: Conversion error for <MidiEvent PROGRAM_CHANGE, t=0, track=1, channel=1>: Got incorrect data for <MidiEvent PROGRAM_CHANGE, t=0, track=1, channel=1> in .data: None,cannot parse Program Change; ignored.\n",
      "midi.base.py: WARNING: Conversion error for <MidiEvent PROGRAM_CHANGE, t=0, track=1, channel=1>: Got incorrect data for <MidiEvent PROGRAM_CHANGE, t=0, track=1, channel=1> in .data: None,cannot parse Program Change; ignored.\n",
      "midi.base.py: WARNING: Conversion error for <MidiEvent PROGRAM_CHANGE, t=0, track=1, channel=1>: Got incorrect data for <MidiEvent PROGRAM_CHANGE, t=0, track=1, channel=1> in .data: None,cannot parse Program Change; ignored.\n",
      "midi.base.py: WARNING: Conversion error for <MidiEvent PROGRAM_CHANGE, t=0, track=1, channel=1>: Got incorrect data for <MidiEvent PROGRAM_CHANGE, t=0, track=1, channel=1> in .data: None,cannot parse Program Change; ignored.\n",
      "midi.base.py: WARNING: Conversion error for <MidiEvent PROGRAM_CHANGE, t=0, track=1, channel=1>: Got incorrect data for <MidiEvent PROGRAM_CHANGE, t=0, track=1, channel=1> in .data: None,cannot parse Program Change; ignored.\n"
     ]
    },
    {
     "name": "stdout",
     "output_type": "stream",
     "text": [
      "('C', 'minor')\n"
     ]
    },
    {
     "name": "stderr",
     "output_type": "stream",
     "text": [
      "midi.base.py: WARNING: Conversion error for <MidiEvent PROGRAM_CHANGE, t=0, track=2, channel=2>: Got incorrect data for <MidiEvent PROGRAM_CHANGE, t=0, track=2, channel=2> in .data: None,cannot parse Program Change; ignored.\n",
      "midi.base.py: WARNING: Conversion error for <MidiEvent PROGRAM_CHANGE, t=0, track=3, channel=2>: Got incorrect data for <MidiEvent PROGRAM_CHANGE, t=0, track=3, channel=2> in .data: None,cannot parse Program Change; ignored.\n",
      "midi.base.py: WARNING: Conversion error for <MidiEvent PROGRAM_CHANGE, t=0, track=4, channel=2>: Got incorrect data for <MidiEvent PROGRAM_CHANGE, t=0, track=4, channel=2> in .data: None,cannot parse Program Change; ignored.\n"
     ]
    },
    {
     "name": "stdout",
     "output_type": "stream",
     "text": [
      "('C', 'minor')\n"
     ]
    },
    {
     "name": "stderr",
     "output_type": "stream",
     "text": [
      "midi.base.py: WARNING: Conversion error for <MidiEvent PROGRAM_CHANGE, t=0, track=1, channel=1>: Got incorrect data for <MidiEvent PROGRAM_CHANGE, t=0, track=1, channel=1> in .data: None,cannot parse Program Change; ignored.\n",
      "midi.base.py: WARNING: Conversion error for <MidiEvent PROGRAM_CHANGE, t=0, track=2, channel=1>: Got incorrect data for <MidiEvent PROGRAM_CHANGE, t=0, track=2, channel=1> in .data: None,cannot parse Program Change; ignored.\n",
      "midi.base.py: WARNING: Conversion error for <MidiEvent PROGRAM_CHANGE, t=0, track=3, channel=1>: Got incorrect data for <MidiEvent PROGRAM_CHANGE, t=0, track=3, channel=1> in .data: None,cannot parse Program Change; ignored.\n",
      "midi.base.py: WARNING: Conversion error for <MidiEvent PROGRAM_CHANGE, t=0, track=3, channel=1>: Got incorrect data for <MidiEvent PROGRAM_CHANGE, t=0, track=3, channel=1> in .data: None,cannot parse Program Change; ignored.\n",
      "midi.base.py: WARNING: Conversion error for <MidiEvent PROGRAM_CHANGE, t=0, track=3, channel=1>: Got incorrect data for <MidiEvent PROGRAM_CHANGE, t=0, track=3, channel=1> in .data: None,cannot parse Program Change; ignored.\n",
      "midi.base.py: WARNING: Conversion error for <MidiEvent PROGRAM_CHANGE, t=0, track=3, channel=1>: Got incorrect data for <MidiEvent PROGRAM_CHANGE, t=0, track=3, channel=1> in .data: None,cannot parse Program Change; ignored.\n",
      "midi.base.py: WARNING: Conversion error for <MidiEvent PROGRAM_CHANGE, t=0, track=3, channel=1>: Got incorrect data for <MidiEvent PROGRAM_CHANGE, t=0, track=3, channel=1> in .data: None,cannot parse Program Change; ignored.\n",
      "midi.base.py: WARNING: Conversion error for <MidiEvent PROGRAM_CHANGE, t=0, track=4, channel=1>: Got incorrect data for <MidiEvent PROGRAM_CHANGE, t=0, track=4, channel=1> in .data: None,cannot parse Program Change; ignored.\n",
      "midi.base.py: WARNING: Conversion error for <MidiEvent PROGRAM_CHANGE, t=0, track=5, channel=1>: Got incorrect data for <MidiEvent PROGRAM_CHANGE, t=0, track=5, channel=1> in .data: None,cannot parse Program Change; ignored.\n",
      "midi.base.py: WARNING: Conversion error for <MidiEvent PROGRAM_CHANGE, t=0, track=6, channel=1>: Got incorrect data for <MidiEvent PROGRAM_CHANGE, t=0, track=6, channel=1> in .data: None,cannot parse Program Change; ignored.\n",
      "midi.base.py: WARNING: Conversion error for <MidiEvent PROGRAM_CHANGE, t=0, track=9, channel=1>: Got incorrect data for <MidiEvent PROGRAM_CHANGE, t=0, track=9, channel=1> in .data: None,cannot parse Program Change; ignored.\n",
      "midi.base.py: WARNING: Conversion error for <MidiEvent PROGRAM_CHANGE, t=0, track=10, channel=1>: Got incorrect data for <MidiEvent PROGRAM_CHANGE, t=0, track=10, channel=1> in .data: None,cannot parse Program Change; ignored.\n",
      "midi.base.py: WARNING: Conversion error for <MidiEvent PROGRAM_CHANGE, t=0, track=11, channel=1>: Got incorrect data for <MidiEvent PROGRAM_CHANGE, t=0, track=11, channel=1> in .data: None,cannot parse Program Change; ignored.\n",
      "midi.base.py: WARNING: Conversion error for <MidiEvent PROGRAM_CHANGE, t=0, track=12, channel=1>: Got incorrect data for <MidiEvent PROGRAM_CHANGE, t=0, track=12, channel=1> in .data: None,cannot parse Program Change; ignored.\n"
     ]
    },
    {
     "name": "stdout",
     "output_type": "stream",
     "text": [
      "('C', 'major')\n"
     ]
    },
    {
     "name": "stderr",
     "output_type": "stream",
     "text": [
      "midi.base.py: WARNING: Conversion error for <MidiEvent PROGRAM_CHANGE, t=0, track=2, channel=2>: Got incorrect data for <MidiEvent PROGRAM_CHANGE, t=0, track=2, channel=2> in .data: None,cannot parse Program Change; ignored.\n",
      "midi.base.py: WARNING: Conversion error for <MidiEvent PROGRAM_CHANGE, t=0, track=3, channel=2>: Got incorrect data for <MidiEvent PROGRAM_CHANGE, t=0, track=3, channel=2> in .data: None,cannot parse Program Change; ignored.\n",
      "midi.base.py: WARNING: Conversion error for <MidiEvent PROGRAM_CHANGE, t=0, track=4, channel=2>: Got incorrect data for <MidiEvent PROGRAM_CHANGE, t=0, track=4, channel=2> in .data: None,cannot parse Program Change; ignored.\n",
      "midi.base.py: WARNING: Conversion error for <MidiEvent PROGRAM_CHANGE, t=0, track=5, channel=2>: Got incorrect data for <MidiEvent PROGRAM_CHANGE, t=0, track=5, channel=2> in .data: None,cannot parse Program Change; ignored.\n"
     ]
    },
    {
     "name": "stdout",
     "output_type": "stream",
     "text": [
      "('C', 'major')\n"
     ]
    },
    {
     "name": "stderr",
     "output_type": "stream",
     "text": [
      "midi.base.py: WARNING: Conversion error for <MidiEvent PROGRAM_CHANGE, t=0, track=1, channel=3>: Got incorrect data for <MidiEvent PROGRAM_CHANGE, t=0, track=1, channel=3> in .data: None,cannot parse Program Change; ignored.\n",
      "midi.base.py: WARNING: Conversion error for <MidiEvent PROGRAM_CHANGE, t=0, track=1, channel=3>: Got incorrect data for <MidiEvent PROGRAM_CHANGE, t=0, track=1, channel=3> in .data: None,cannot parse Program Change; ignored.\n",
      "midi.base.py: WARNING: Conversion error for <MidiEvent PROGRAM_CHANGE, t=0, track=1, channel=3>: Got incorrect data for <MidiEvent PROGRAM_CHANGE, t=0, track=1, channel=3> in .data: None,cannot parse Program Change; ignored.\n",
      "midi.base.py: WARNING: Conversion error for <MidiEvent PROGRAM_CHANGE, t=0, track=1, channel=3>: Got incorrect data for <MidiEvent PROGRAM_CHANGE, t=0, track=1, channel=3> in .data: None,cannot parse Program Change; ignored.\n",
      "midi.base.py: WARNING: Conversion error for <MidiEvent PROGRAM_CHANGE, t=0, track=1, channel=3>: Got incorrect data for <MidiEvent PROGRAM_CHANGE, t=0, track=1, channel=3> in .data: None,cannot parse Program Change; ignored.\n"
     ]
    },
    {
     "name": "stdout",
     "output_type": "stream",
     "text": [
      "('C', 'major')\n"
     ]
    },
    {
     "name": "stderr",
     "output_type": "stream",
     "text": [
      "midi.base.py: WARNING: Conversion error for <MidiEvent PROGRAM_CHANGE, t=0, track=3, channel=3>: Got incorrect data for <MidiEvent PROGRAM_CHANGE, t=0, track=3, channel=3> in .data: None,cannot parse Program Change; ignored.\n",
      "midi.base.py: WARNING: Conversion error for <MidiEvent PROGRAM_CHANGE, t=0, track=3, channel=3>: Got incorrect data for <MidiEvent PROGRAM_CHANGE, t=0, track=3, channel=3> in .data: None,cannot parse Program Change; ignored.\n",
      "midi.base.py: WARNING: Conversion error for <MidiEvent PROGRAM_CHANGE, t=0, track=5, channel=3>: Got incorrect data for <MidiEvent PROGRAM_CHANGE, t=0, track=5, channel=3> in .data: None,cannot parse Program Change; ignored.\n"
     ]
    },
    {
     "name": "stdout",
     "output_type": "stream",
     "text": [
      "('C', 'minor')\n"
     ]
    },
    {
     "name": "stderr",
     "output_type": "stream",
     "text": [
      "midi.base.py: WARNING: Conversion error for <MidiEvent PROGRAM_CHANGE, t=0, track=1, channel=2>: Got incorrect data for <MidiEvent PROGRAM_CHANGE, t=0, track=1, channel=2> in .data: None,cannot parse Program Change; ignored.\n",
      "midi.base.py: WARNING: Conversion error for <MidiEvent PROGRAM_CHANGE, t=0, track=1, channel=2>: Got incorrect data for <MidiEvent PROGRAM_CHANGE, t=0, track=1, channel=2> in .data: None,cannot parse Program Change; ignored.\n",
      "midi.base.py: WARNING: Conversion error for <MidiEvent PROGRAM_CHANGE, t=0, track=1, channel=2>: Got incorrect data for <MidiEvent PROGRAM_CHANGE, t=0, track=1, channel=2> in .data: None,cannot parse Program Change; ignored.\n"
     ]
    },
    {
     "name": "stdout",
     "output_type": "stream",
     "text": [
      "('C', 'major')\n"
     ]
    },
    {
     "name": "stderr",
     "output_type": "stream",
     "text": [
      "midi.base.py: WARNING: Conversion error for <MidiEvent PROGRAM_CHANGE, t=0, track=3, channel=2>: Got incorrect data for <MidiEvent PROGRAM_CHANGE, t=0, track=3, channel=2> in .data: None,cannot parse Program Change; ignored.\n",
      "midi.base.py: WARNING: Conversion error for <MidiEvent PROGRAM_CHANGE, t=0, track=5, channel=2>: Got incorrect data for <MidiEvent PROGRAM_CHANGE, t=0, track=5, channel=2> in .data: None,cannot parse Program Change; ignored.\n",
      "midi.base.py: WARNING: Conversion error for <MidiEvent PROGRAM_CHANGE, t=0, track=7, channel=2>: Got incorrect data for <MidiEvent PROGRAM_CHANGE, t=0, track=7, channel=2> in .data: None,cannot parse Program Change; ignored.\n"
     ]
    },
    {
     "name": "stdout",
     "output_type": "stream",
     "text": [
      "('C', 'major')\n"
     ]
    },
    {
     "name": "stderr",
     "output_type": "stream",
     "text": [
      "midi.base.py: WARNING: Conversion error for <MidiEvent PROGRAM_CHANGE, t=0, track=5, channel=5>: Got incorrect data for <MidiEvent PROGRAM_CHANGE, t=0, track=5, channel=5> in .data: None,cannot parse Program Change; ignored.\n",
      "midi.base.py: WARNING: Conversion error for <MidiEvent PROGRAM_CHANGE, t=0, track=6, channel=5>: Got incorrect data for <MidiEvent PROGRAM_CHANGE, t=0, track=6, channel=5> in .data: None,cannot parse Program Change; ignored.\n",
      "midi.base.py: WARNING: Conversion error for <MidiEvent PROGRAM_CHANGE, t=0, track=7, channel=5>: Got incorrect data for <MidiEvent PROGRAM_CHANGE, t=0, track=7, channel=5> in .data: None,cannot parse Program Change; ignored.\n"
     ]
    },
    {
     "name": "stdout",
     "output_type": "stream",
     "text": [
      "('C', 'major')\n"
     ]
    },
    {
     "name": "stderr",
     "output_type": "stream",
     "text": [
      "midi.base.py: WARNING: Conversion error for <MidiEvent PROGRAM_CHANGE, t=0, track=1, channel=2>: Got incorrect data for <MidiEvent PROGRAM_CHANGE, t=0, track=1, channel=2> in .data: None,cannot parse Program Change; ignored.\n",
      "midi.base.py: WARNING: Conversion error for <MidiEvent PROGRAM_CHANGE, t=0, track=1, channel=2>: Got incorrect data for <MidiEvent PROGRAM_CHANGE, t=0, track=1, channel=2> in .data: None,cannot parse Program Change; ignored.\n",
      "midi.base.py: WARNING: Conversion error for <MidiEvent PROGRAM_CHANGE, t=0, track=1, channel=2>: Got incorrect data for <MidiEvent PROGRAM_CHANGE, t=0, track=1, channel=2> in .data: None,cannot parse Program Change; ignored.\n"
     ]
    },
    {
     "name": "stdout",
     "output_type": "stream",
     "text": [
      "('C', 'major')\n"
     ]
    },
    {
     "name": "stderr",
     "output_type": "stream",
     "text": [
      "midi.base.py: WARNING: Conversion error for <MidiEvent PROGRAM_CHANGE, t=0, track=3, channel=2>: Got incorrect data for <MidiEvent PROGRAM_CHANGE, t=0, track=3, channel=2> in .data: None,cannot parse Program Change; ignored.\n",
      "midi.base.py: WARNING: Conversion error for <MidiEvent PROGRAM_CHANGE, t=0, track=4, channel=4>: Got incorrect data for <MidiEvent PROGRAM_CHANGE, t=0, track=4, channel=4> in .data: None,cannot parse Program Change; ignored.\n",
      "midi.base.py: WARNING: Conversion error for <MidiEvent PROGRAM_CHANGE, t=0, track=4, channel=4>: Got incorrect data for <MidiEvent PROGRAM_CHANGE, t=0, track=4, channel=4> in .data: None,cannot parse Program Change; ignored.\n"
     ]
    },
    {
     "name": "stdout",
     "output_type": "stream",
     "text": [
      "('C', 'major')\n"
     ]
    },
    {
     "name": "stderr",
     "output_type": "stream",
     "text": [
      "midi.base.py: WARNING: Conversion error for <MidiEvent PROGRAM_CHANGE, t=0, track=1, channel=1>: Got incorrect data for <MidiEvent PROGRAM_CHANGE, t=0, track=1, channel=1> in .data: None,cannot parse Program Change; ignored.\n",
      "midi.base.py: WARNING: Conversion error for <MidiEvent PROGRAM_CHANGE, t=0, track=1, channel=1>: Got incorrect data for <MidiEvent PROGRAM_CHANGE, t=0, track=1, channel=1> in .data: None,cannot parse Program Change; ignored.\n",
      "midi.base.py: WARNING: Conversion error for <MidiEvent PROGRAM_CHANGE, t=0, track=1, channel=1>: Got incorrect data for <MidiEvent PROGRAM_CHANGE, t=0, track=1, channel=1> in .data: None,cannot parse Program Change; ignored.\n"
     ]
    },
    {
     "name": "stdout",
     "output_type": "stream",
     "text": [
      "('C', 'major')\n",
      "('C', 'major')\n"
     ]
    },
    {
     "name": "stderr",
     "output_type": "stream",
     "text": [
      "midi.base.py: WARNING: Conversion error for <MidiEvent PROGRAM_CHANGE, t=0, track=1, channel=1>: Got incorrect data for <MidiEvent PROGRAM_CHANGE, t=0, track=1, channel=1> in .data: None,cannot parse Program Change; ignored.\n",
      "midi.base.py: WARNING: Conversion error for <MidiEvent PROGRAM_CHANGE, t=0, track=2, channel=1>: Got incorrect data for <MidiEvent PROGRAM_CHANGE, t=0, track=2, channel=1> in .data: None,cannot parse Program Change; ignored.\n",
      "midi.base.py: WARNING: Conversion error for <MidiEvent PROGRAM_CHANGE, t=0, track=8, channel=1>: Got incorrect data for <MidiEvent PROGRAM_CHANGE, t=0, track=8, channel=1> in .data: None,cannot parse Program Change; ignored.\n",
      "midi.base.py: WARNING: Conversion error for <MidiEvent PROGRAM_CHANGE, t=0, track=11, channel=1>: Got incorrect data for <MidiEvent PROGRAM_CHANGE, t=0, track=11, channel=1> in .data: None,cannot parse Program Change; ignored.\n",
      "midi.base.py: WARNING: Conversion error for <MidiEvent PROGRAM_CHANGE, t=0, track=21, channel=1>: Got incorrect data for <MidiEvent PROGRAM_CHANGE, t=0, track=21, channel=1> in .data: None,cannot parse Program Change; ignored.\n",
      "midi.base.py: WARNING: Conversion error for <MidiEvent PROGRAM_CHANGE, t=0, track=22, channel=1>: Got incorrect data for <MidiEvent PROGRAM_CHANGE, t=0, track=22, channel=1> in .data: None,cannot parse Program Change; ignored.\n",
      "midi.base.py: WARNING: Conversion error for <MidiEvent PROGRAM_CHANGE, t=0, track=23, channel=1>: Got incorrect data for <MidiEvent PROGRAM_CHANGE, t=0, track=23, channel=1> in .data: None,cannot parse Program Change; ignored.\n",
      "midi.base.py: WARNING: Conversion error for <MidiEvent PROGRAM_CHANGE, t=0, track=24, channel=1>: Got incorrect data for <MidiEvent PROGRAM_CHANGE, t=0, track=24, channel=1> in .data: None,cannot parse Program Change; ignored.\n",
      "midi.base.py: WARNING: Conversion error for <MidiEvent PROGRAM_CHANGE, t=0, track=25, channel=1>: Got incorrect data for <MidiEvent PROGRAM_CHANGE, t=0, track=25, channel=1> in .data: None,cannot parse Program Change; ignored.\n"
     ]
    },
    {
     "name": "stdout",
     "output_type": "stream",
     "text": [
      "('C', 'major')\n"
     ]
    },
    {
     "name": "stderr",
     "output_type": "stream",
     "text": [
      "midi.base.py: WARNING: Conversion error for <MidiEvent PROGRAM_CHANGE, t=0, track=1, channel=1>: Got incorrect data for <MidiEvent PROGRAM_CHANGE, t=0, track=1, channel=1> in .data: None,cannot parse Program Change; ignored.\n",
      "midi.base.py: WARNING: Conversion error for <MidiEvent PROGRAM_CHANGE, t=0, track=6, channel=1>: Got incorrect data for <MidiEvent PROGRAM_CHANGE, t=0, track=6, channel=1> in .data: None,cannot parse Program Change; ignored.\n",
      "midi.base.py: WARNING: Conversion error for <MidiEvent PROGRAM_CHANGE, t=0, track=8, channel=1>: Got incorrect data for <MidiEvent PROGRAM_CHANGE, t=0, track=8, channel=1> in .data: None,cannot parse Program Change; ignored.\n"
     ]
    },
    {
     "name": "stdout",
     "output_type": "stream",
     "text": [
      "('C', 'major')\n"
     ]
    },
    {
     "name": "stderr",
     "output_type": "stream",
     "text": [
      "midi.base.py: WARNING: Conversion error for <MidiEvent PROGRAM_CHANGE, t=0, track=1, channel=1>: Got incorrect data for <MidiEvent PROGRAM_CHANGE, t=0, track=1, channel=1> in .data: None,cannot parse Program Change; ignored.\n",
      "midi.base.py: WARNING: Conversion error for <MidiEvent PROGRAM_CHANGE, t=0, track=3, channel=1>: Got incorrect data for <MidiEvent PROGRAM_CHANGE, t=0, track=3, channel=1> in .data: None,cannot parse Program Change; ignored.\n",
      "midi.base.py: WARNING: Conversion error for <MidiEvent PROGRAM_CHANGE, t=0, track=4, channel=1>: Got incorrect data for <MidiEvent PROGRAM_CHANGE, t=0, track=4, channel=1> in .data: None,cannot parse Program Change; ignored.\n",
      "midi.base.py: WARNING: Conversion error for <MidiEvent PROGRAM_CHANGE, t=0, track=5, channel=1>: Got incorrect data for <MidiEvent PROGRAM_CHANGE, t=0, track=5, channel=1> in .data: None,cannot parse Program Change; ignored.\n"
     ]
    },
    {
     "name": "stdout",
     "output_type": "stream",
     "text": [
      "('C', 'major')\n"
     ]
    },
    {
     "name": "stderr",
     "output_type": "stream",
     "text": [
      "midi.base.py: WARNING: Conversion error for <MidiEvent PROGRAM_CHANGE, t=0, track=2, channel=2>: Got incorrect data for <MidiEvent PROGRAM_CHANGE, t=0, track=2, channel=2> in .data: None,cannot parse Program Change; ignored.\n",
      "midi.base.py: WARNING: Conversion error for <MidiEvent PROGRAM_CHANGE, t=0, track=3, channel=2>: Got incorrect data for <MidiEvent PROGRAM_CHANGE, t=0, track=3, channel=2> in .data: None,cannot parse Program Change; ignored.\n",
      "midi.base.py: WARNING: Conversion error for <MidiEvent PROGRAM_CHANGE, t=0, track=4, channel=2>: Got incorrect data for <MidiEvent PROGRAM_CHANGE, t=0, track=4, channel=2> in .data: None,cannot parse Program Change; ignored.\n",
      "midi.base.py: WARNING: Conversion error for <MidiEvent PROGRAM_CHANGE, t=0, track=5, channel=2>: Got incorrect data for <MidiEvent PROGRAM_CHANGE, t=0, track=5, channel=2> in .data: None,cannot parse Program Change; ignored.\n",
      "midi.base.py: WARNING: Conversion error for <MidiEvent PROGRAM_CHANGE, t=0, track=7, channel=2>: Got incorrect data for <MidiEvent PROGRAM_CHANGE, t=0, track=7, channel=2> in .data: None,cannot parse Program Change; ignored.\n",
      "midi.base.py: WARNING: Conversion error for <MidiEvent PROGRAM_CHANGE, t=0, track=8, channel=2>: Got incorrect data for <MidiEvent PROGRAM_CHANGE, t=0, track=8, channel=2> in .data: None,cannot parse Program Change; ignored.\n",
      "midi.base.py: WARNING: Conversion error for <MidiEvent PROGRAM_CHANGE, t=0, track=8, channel=2>: Got incorrect data for <MidiEvent PROGRAM_CHANGE, t=0, track=8, channel=2> in .data: None,cannot parse Program Change; ignored.\n",
      "midi.base.py: WARNING: Conversion error for <MidiEvent PROGRAM_CHANGE, t=0, track=9, channel=2>: Got incorrect data for <MidiEvent PROGRAM_CHANGE, t=0, track=9, channel=2> in .data: None,cannot parse Program Change; ignored.\n"
     ]
    },
    {
     "name": "stdout",
     "output_type": "stream",
     "text": [
      "('C', 'major')\n"
     ]
    },
    {
     "name": "stderr",
     "output_type": "stream",
     "text": [
      "midi.base.py: WARNING: Conversion error for <MidiEvent PROGRAM_CHANGE, t=0, track=1, channel=1>: Got incorrect data for <MidiEvent PROGRAM_CHANGE, t=0, track=1, channel=1> in .data: None,cannot parse Program Change; ignored.\n",
      "midi.base.py: WARNING: Conversion error for <MidiEvent PROGRAM_CHANGE, t=0, track=1, channel=1>: Got incorrect data for <MidiEvent PROGRAM_CHANGE, t=0, track=1, channel=1> in .data: None,cannot parse Program Change; ignored.\n",
      "midi.base.py: WARNING: Conversion error for <MidiEvent PROGRAM_CHANGE, t=0, track=1, channel=1>: Got incorrect data for <MidiEvent PROGRAM_CHANGE, t=0, track=1, channel=1> in .data: None,cannot parse Program Change; ignored.\n",
      "midi.base.py: WARNING: Conversion error for <MidiEvent PROGRAM_CHANGE, t=0, track=1, channel=1>: Got incorrect data for <MidiEvent PROGRAM_CHANGE, t=0, track=1, channel=1> in .data: None,cannot parse Program Change; ignored.\n",
      "midi.base.py: WARNING: Conversion error for <MidiEvent PROGRAM_CHANGE, t=0, track=1, channel=1>: Got incorrect data for <MidiEvent PROGRAM_CHANGE, t=0, track=1, channel=1> in .data: None,cannot parse Program Change; ignored.\n",
      "midi.base.py: WARNING: Conversion error for <MidiEvent PROGRAM_CHANGE, t=0, track=1, channel=1>: Got incorrect data for <MidiEvent PROGRAM_CHANGE, t=0, track=1, channel=1> in .data: None,cannot parse Program Change; ignored.\n",
      "midi.base.py: WARNING: Conversion error for <MidiEvent PROGRAM_CHANGE, t=0, track=1, channel=1>: Got incorrect data for <MidiEvent PROGRAM_CHANGE, t=0, track=1, channel=1> in .data: None,cannot parse Program Change; ignored.\n",
      "midi.base.py: WARNING: Conversion error for <MidiEvent PROGRAM_CHANGE, t=0, track=1, channel=1>: Got incorrect data for <MidiEvent PROGRAM_CHANGE, t=0, track=1, channel=1> in .data: None,cannot parse Program Change; ignored.\n",
      "midi.base.py: WARNING: Conversion error for <MidiEvent PROGRAM_CHANGE, t=0, track=1, channel=1>: Got incorrect data for <MidiEvent PROGRAM_CHANGE, t=0, track=1, channel=1> in .data: None,cannot parse Program Change; ignored.\n",
      "midi.base.py: WARNING: Conversion error for <MidiEvent PROGRAM_CHANGE, t=0, track=1, channel=1>: Got incorrect data for <MidiEvent PROGRAM_CHANGE, t=0, track=1, channel=1> in .data: None,cannot parse Program Change; ignored.\n",
      "midi.base.py: WARNING: Conversion error for <MidiEvent PROGRAM_CHANGE, t=0, track=1, channel=1>: Got incorrect data for <MidiEvent PROGRAM_CHANGE, t=0, track=1, channel=1> in .data: None,cannot parse Program Change; ignored.\n"
     ]
    },
    {
     "name": "stdout",
     "output_type": "stream",
     "text": [
      "('C', 'minor')\n"
     ]
    },
    {
     "name": "stderr",
     "output_type": "stream",
     "text": [
      "midi.base.py: WARNING: Conversion error for <MidiEvent PROGRAM_CHANGE, t=0, track=1, channel=1>: Got incorrect data for <MidiEvent PROGRAM_CHANGE, t=0, track=1, channel=1> in .data: None,cannot parse Program Change; ignored.\n",
      "midi.base.py: WARNING: Conversion error for <MidiEvent PROGRAM_CHANGE, t=0, track=1, channel=1>: Got incorrect data for <MidiEvent PROGRAM_CHANGE, t=0, track=1, channel=1> in .data: None,cannot parse Program Change; ignored.\n"
     ]
    },
    {
     "name": "stdout",
     "output_type": "stream",
     "text": [
      "('C', 'minor')\n"
     ]
    },
    {
     "name": "stderr",
     "output_type": "stream",
     "text": [
      "midi.base.py: WARNING: Conversion error for <MidiEvent PROGRAM_CHANGE, t=0, track=5, channel=5>: Got incorrect data for <MidiEvent PROGRAM_CHANGE, t=0, track=5, channel=5> in .data: None,cannot parse Program Change; ignored.\n"
     ]
    },
    {
     "name": "stdout",
     "output_type": "stream",
     "text": [
      "('C', 'major')\n"
     ]
    },
    {
     "name": "stderr",
     "output_type": "stream",
     "text": [
      "midi.base.py: WARNING: Conversion error for <MidiEvent PROGRAM_CHANGE, t=0, track=5, channel=1>: Got incorrect data for <MidiEvent PROGRAM_CHANGE, t=0, track=5, channel=1> in .data: None,cannot parse Program Change; ignored.\n"
     ]
    },
    {
     "name": "stdout",
     "output_type": "stream",
     "text": [
      "('C', 'major')\n"
     ]
    },
    {
     "name": "stderr",
     "output_type": "stream",
     "text": [
      "midi.base.py: WARNING: Conversion error for <MidiEvent PROGRAM_CHANGE, t=0, track=1, channel=1>: Got incorrect data for <MidiEvent PROGRAM_CHANGE, t=0, track=1, channel=1> in .data: None,cannot parse Program Change; ignored.\n"
     ]
    },
    {
     "name": "stdout",
     "output_type": "stream",
     "text": [
      "('C', 'minor')\n"
     ]
    },
    {
     "name": "stderr",
     "output_type": "stream",
     "text": [
      "midi.base.py: WARNING: Conversion error for <MidiEvent PROGRAM_CHANGE, t=0, track=1, channel=1>: Got incorrect data for <MidiEvent PROGRAM_CHANGE, t=0, track=1, channel=1> in .data: None,cannot parse Program Change; ignored.\n",
      "midi.base.py: WARNING: Conversion error for <MidiEvent PROGRAM_CHANGE, t=0, track=2, channel=1>: Got incorrect data for <MidiEvent PROGRAM_CHANGE, t=0, track=2, channel=1> in .data: None,cannot parse Program Change; ignored.\n",
      "midi.base.py: WARNING: Conversion error for <MidiEvent PROGRAM_CHANGE, t=0, track=3, channel=1>: Got incorrect data for <MidiEvent PROGRAM_CHANGE, t=0, track=3, channel=1> in .data: None,cannot parse Program Change; ignored.\n",
      "midi.base.py: WARNING: Conversion error for <MidiEvent PROGRAM_CHANGE, t=0, track=4, channel=1>: Got incorrect data for <MidiEvent PROGRAM_CHANGE, t=0, track=4, channel=1> in .data: None,cannot parse Program Change; ignored.\n"
     ]
    },
    {
     "name": "stdout",
     "output_type": "stream",
     "text": [
      "('C', 'minor')\n"
     ]
    },
    {
     "name": "stderr",
     "output_type": "stream",
     "text": [
      "midi.base.py: WARNING: Conversion error for <MidiEvent PROGRAM_CHANGE, t=0, track=1, channel=1>: Got incorrect data for <MidiEvent PROGRAM_CHANGE, t=0, track=1, channel=1> in .data: None,cannot parse Program Change; ignored.\n",
      "midi.base.py: WARNING: Conversion error for <MidiEvent PROGRAM_CHANGE, t=0, track=1, channel=1>: Got incorrect data for <MidiEvent PROGRAM_CHANGE, t=0, track=1, channel=1> in .data: None,cannot parse Program Change; ignored.\n",
      "midi.base.py: WARNING: Conversion error for <MidiEvent PROGRAM_CHANGE, t=0, track=1, channel=1>: Got incorrect data for <MidiEvent PROGRAM_CHANGE, t=0, track=1, channel=1> in .data: None,cannot parse Program Change; ignored.\n",
      "midi.base.py: WARNING: Conversion error for <MidiEvent PROGRAM_CHANGE, t=0, track=1, channel=1>: Got incorrect data for <MidiEvent PROGRAM_CHANGE, t=0, track=1, channel=1> in .data: None,cannot parse Program Change; ignored.\n",
      "midi.base.py: WARNING: Conversion error for <MidiEvent PROGRAM_CHANGE, t=0, track=1, channel=1>: Got incorrect data for <MidiEvent PROGRAM_CHANGE, t=0, track=1, channel=1> in .data: None,cannot parse Program Change; ignored.\n"
     ]
    },
    {
     "name": "stdout",
     "output_type": "stream",
     "text": [
      "('C', 'minor')\n"
     ]
    },
    {
     "name": "stderr",
     "output_type": "stream",
     "text": [
      "midi.base.py: WARNING: Conversion error for <MidiEvent PROGRAM_CHANGE, t=0, track=1, channel=1>: Got incorrect data for <MidiEvent PROGRAM_CHANGE, t=0, track=1, channel=1> in .data: None,cannot parse Program Change; ignored.\n",
      "midi.base.py: WARNING: Conversion error for <MidiEvent PROGRAM_CHANGE, t=0, track=2, channel=2>: Got incorrect data for <MidiEvent PROGRAM_CHANGE, t=0, track=2, channel=2> in .data: None,cannot parse Program Change; ignored.\n",
      "midi.base.py: WARNING: Conversion error for <MidiEvent PROGRAM_CHANGE, t=0, track=5, channel=1>: Got incorrect data for <MidiEvent PROGRAM_CHANGE, t=0, track=5, channel=1> in .data: None,cannot parse Program Change; ignored.\n",
      "midi.base.py: WARNING: Conversion error for <MidiEvent PROGRAM_CHANGE, t=0, track=6, channel=1>: Got incorrect data for <MidiEvent PROGRAM_CHANGE, t=0, track=6, channel=1> in .data: None,cannot parse Program Change; ignored.\n",
      "midi.base.py: WARNING: Conversion error for <MidiEvent PROGRAM_CHANGE, t=0, track=7, channel=1>: Got incorrect data for <MidiEvent PROGRAM_CHANGE, t=0, track=7, channel=1> in .data: None,cannot parse Program Change; ignored.\n",
      "midi.base.py: WARNING: Conversion error for <MidiEvent PROGRAM_CHANGE, t=0, track=9, channel=1>: Got incorrect data for <MidiEvent PROGRAM_CHANGE, t=0, track=9, channel=1> in .data: None,cannot parse Program Change; ignored.\n"
     ]
    },
    {
     "name": "stdout",
     "output_type": "stream",
     "text": [
      "('C', 'major')\n"
     ]
    },
    {
     "name": "stderr",
     "output_type": "stream",
     "text": [
      "midi.base.py: WARNING: Conversion error for <MidiEvent PROGRAM_CHANGE, t=0, track=1, channel=1>: Got incorrect data for <MidiEvent PROGRAM_CHANGE, t=0, track=1, channel=1> in .data: None,cannot parse Program Change; ignored.\n",
      "midi.base.py: WARNING: Conversion error for <MidiEvent PROGRAM_CHANGE, t=0, track=1, channel=1>: Got incorrect data for <MidiEvent PROGRAM_CHANGE, t=0, track=1, channel=1> in .data: None,cannot parse Program Change; ignored.\n",
      "midi.base.py: WARNING: Conversion error for <MidiEvent PROGRAM_CHANGE, t=0, track=1, channel=1>: Got incorrect data for <MidiEvent PROGRAM_CHANGE, t=0, track=1, channel=1> in .data: None,cannot parse Program Change; ignored.\n",
      "midi.base.py: WARNING: Conversion error for <MidiEvent PROGRAM_CHANGE, t=0, track=1, channel=1>: Got incorrect data for <MidiEvent PROGRAM_CHANGE, t=0, track=1, channel=1> in .data: None,cannot parse Program Change; ignored.\n"
     ]
    },
    {
     "name": "stdout",
     "output_type": "stream",
     "text": [
      "('C', 'minor')\n"
     ]
    },
    {
     "name": "stderr",
     "output_type": "stream",
     "text": [
      "midi.base.py: WARNING: Conversion error for <MidiEvent PROGRAM_CHANGE, t=0, track=1, channel=1>: Got incorrect data for <MidiEvent PROGRAM_CHANGE, t=0, track=1, channel=1> in .data: None,cannot parse Program Change; ignored.\n",
      "midi.base.py: WARNING: Conversion error for <MidiEvent PROGRAM_CHANGE, t=0, track=1, channel=1>: Got incorrect data for <MidiEvent PROGRAM_CHANGE, t=0, track=1, channel=1> in .data: None,cannot parse Program Change; ignored.\n",
      "midi.base.py: WARNING: Conversion error for <MidiEvent PROGRAM_CHANGE, t=0, track=1, channel=1>: Got incorrect data for <MidiEvent PROGRAM_CHANGE, t=0, track=1, channel=1> in .data: None,cannot parse Program Change; ignored.\n",
      "midi.base.py: WARNING: Conversion error for <MidiEvent PROGRAM_CHANGE, t=0, track=1, channel=1>: Got incorrect data for <MidiEvent PROGRAM_CHANGE, t=0, track=1, channel=1> in .data: None,cannot parse Program Change; ignored.\n",
      "midi.base.py: WARNING: Conversion error for <MidiEvent PROGRAM_CHANGE, t=0, track=1, channel=1>: Got incorrect data for <MidiEvent PROGRAM_CHANGE, t=0, track=1, channel=1> in .data: None,cannot parse Program Change; ignored.\n",
      "midi.base.py: WARNING: Conversion error for <MidiEvent PROGRAM_CHANGE, t=0, track=1, channel=1>: Got incorrect data for <MidiEvent PROGRAM_CHANGE, t=0, track=1, channel=1> in .data: None,cannot parse Program Change; ignored.\n",
      "midi.base.py: WARNING: Conversion error for <MidiEvent PROGRAM_CHANGE, t=0, track=1, channel=1>: Got incorrect data for <MidiEvent PROGRAM_CHANGE, t=0, track=1, channel=1> in .data: None,cannot parse Program Change; ignored.\n"
     ]
    },
    {
     "name": "stdout",
     "output_type": "stream",
     "text": [
      "('C', 'minor')\n"
     ]
    },
    {
     "name": "stderr",
     "output_type": "stream",
     "text": [
      "midi.base.py: WARNING: Conversion error for <MidiEvent PROGRAM_CHANGE, t=0, track=1, channel=1>: Got incorrect data for <MidiEvent PROGRAM_CHANGE, t=0, track=1, channel=1> in .data: None,cannot parse Program Change; ignored.\n",
      "midi.base.py: WARNING: Conversion error for <MidiEvent PROGRAM_CHANGE, t=0, track=1, channel=1>: Got incorrect data for <MidiEvent PROGRAM_CHANGE, t=0, track=1, channel=1> in .data: None,cannot parse Program Change; ignored.\n",
      "midi.base.py: WARNING: Conversion error for <MidiEvent PROGRAM_CHANGE, t=0, track=1, channel=1>: Got incorrect data for <MidiEvent PROGRAM_CHANGE, t=0, track=1, channel=1> in .data: None,cannot parse Program Change; ignored.\n",
      "midi.base.py: WARNING: Conversion error for <MidiEvent PROGRAM_CHANGE, t=0, track=1, channel=1>: Got incorrect data for <MidiEvent PROGRAM_CHANGE, t=0, track=1, channel=1> in .data: None,cannot parse Program Change; ignored.\n"
     ]
    },
    {
     "name": "stdout",
     "output_type": "stream",
     "text": [
      "('C', 'major')\n"
     ]
    },
    {
     "name": "stderr",
     "output_type": "stream",
     "text": [
      "midi.base.py: WARNING: Conversion error for <MidiEvent PROGRAM_CHANGE, t=0, track=2, channel=2>: Got incorrect data for <MidiEvent PROGRAM_CHANGE, t=0, track=2, channel=2> in .data: None,cannot parse Program Change; ignored.\n",
      "midi.base.py: WARNING: Conversion error for <MidiEvent PROGRAM_CHANGE, t=0, track=3, channel=2>: Got incorrect data for <MidiEvent PROGRAM_CHANGE, t=0, track=3, channel=2> in .data: None,cannot parse Program Change; ignored.\n",
      "midi.base.py: WARNING: Conversion error for <MidiEvent PROGRAM_CHANGE, t=0, track=4, channel=2>: Got incorrect data for <MidiEvent PROGRAM_CHANGE, t=0, track=4, channel=2> in .data: None,cannot parse Program Change; ignored.\n",
      "midi.base.py: WARNING: Conversion error for <MidiEvent PROGRAM_CHANGE, t=0, track=5, channel=2>: Got incorrect data for <MidiEvent PROGRAM_CHANGE, t=0, track=5, channel=2> in .data: None,cannot parse Program Change; ignored.\n"
     ]
    },
    {
     "name": "stdout",
     "output_type": "stream",
     "text": [
      "('C', 'major')\n"
     ]
    },
    {
     "name": "stderr",
     "output_type": "stream",
     "text": [
      "midi.base.py: WARNING: Conversion error for <MidiEvent PROGRAM_CHANGE, t=0, track=3, channel=3>: Got incorrect data for <MidiEvent PROGRAM_CHANGE, t=0, track=3, channel=3> in .data: None,cannot parse Program Change; ignored.\n",
      "midi.base.py: WARNING: Conversion error for <MidiEvent PROGRAM_CHANGE, t=0, track=5, channel=3>: Got incorrect data for <MidiEvent PROGRAM_CHANGE, t=0, track=5, channel=3> in .data: None,cannot parse Program Change; ignored.\n",
      "midi.base.py: WARNING: Conversion error for <MidiEvent PROGRAM_CHANGE, t=0, track=8, channel=3>: Got incorrect data for <MidiEvent PROGRAM_CHANGE, t=0, track=8, channel=3> in .data: None,cannot parse Program Change; ignored.\n"
     ]
    },
    {
     "name": "stdout",
     "output_type": "stream",
     "text": [
      "('C', 'minor')\n"
     ]
    },
    {
     "name": "stderr",
     "output_type": "stream",
     "text": [
      "midi.base.py: WARNING: Conversion error for <MidiEvent PROGRAM_CHANGE, t=0, track=1, channel=1>: Got incorrect data for <MidiEvent PROGRAM_CHANGE, t=0, track=1, channel=1> in .data: None,cannot parse Program Change; ignored.\n",
      "midi.base.py: WARNING: Conversion error for <MidiEvent PROGRAM_CHANGE, t=0, track=1, channel=1>: Got incorrect data for <MidiEvent PROGRAM_CHANGE, t=0, track=1, channel=1> in .data: None,cannot parse Program Change; ignored.\n",
      "midi.base.py: WARNING: Conversion error for <MidiEvent PROGRAM_CHANGE, t=0, track=1, channel=1>: Got incorrect data for <MidiEvent PROGRAM_CHANGE, t=0, track=1, channel=1> in .data: None,cannot parse Program Change; ignored.\n",
      "midi.base.py: WARNING: Conversion error for <MidiEvent PROGRAM_CHANGE, t=0, track=1, channel=1>: Got incorrect data for <MidiEvent PROGRAM_CHANGE, t=0, track=1, channel=1> in .data: None,cannot parse Program Change; ignored.\n"
     ]
    },
    {
     "name": "stdout",
     "output_type": "stream",
     "text": [
      "('C', 'major')\n"
     ]
    },
    {
     "name": "stderr",
     "output_type": "stream",
     "text": [
      "midi.base.py: WARNING: Conversion error for <MidiEvent PROGRAM_CHANGE, t=0, track=1, channel=1>: Got incorrect data for <MidiEvent PROGRAM_CHANGE, t=0, track=1, channel=1> in .data: None,cannot parse Program Change; ignored.\n",
      "midi.base.py: WARNING: Conversion error for <MidiEvent PROGRAM_CHANGE, t=0, track=1, channel=1>: Got incorrect data for <MidiEvent PROGRAM_CHANGE, t=0, track=1, channel=1> in .data: None,cannot parse Program Change; ignored.\n",
      "midi.base.py: WARNING: Conversion error for <MidiEvent PROGRAM_CHANGE, t=0, track=1, channel=1>: Got incorrect data for <MidiEvent PROGRAM_CHANGE, t=0, track=1, channel=1> in .data: None,cannot parse Program Change; ignored.\n"
     ]
    },
    {
     "name": "stdout",
     "output_type": "stream",
     "text": [
      "('C', 'major')\n"
     ]
    },
    {
     "name": "stderr",
     "output_type": "stream",
     "text": [
      "midi.base.py: WARNING: Conversion error for <MidiEvent PROGRAM_CHANGE, t=0, track=1, channel=3>: Got incorrect data for <MidiEvent PROGRAM_CHANGE, t=0, track=1, channel=3> in .data: None,cannot parse Program Change; ignored.\n",
      "midi.base.py: WARNING: Conversion error for <MidiEvent PROGRAM_CHANGE, t=0, track=1, channel=3>: Got incorrect data for <MidiEvent PROGRAM_CHANGE, t=0, track=1, channel=3> in .data: None,cannot parse Program Change; ignored.\n",
      "midi.base.py: WARNING: Conversion error for <MidiEvent PROGRAM_CHANGE, t=0, track=1, channel=3>: Got incorrect data for <MidiEvent PROGRAM_CHANGE, t=0, track=1, channel=3> in .data: None,cannot parse Program Change; ignored.\n",
      "midi.base.py: WARNING: Conversion error for <MidiEvent PROGRAM_CHANGE, t=0, track=1, channel=3>: Got incorrect data for <MidiEvent PROGRAM_CHANGE, t=0, track=1, channel=3> in .data: None,cannot parse Program Change; ignored.\n",
      "midi.base.py: WARNING: Conversion error for <MidiEvent PROGRAM_CHANGE, t=0, track=1, channel=3>: Got incorrect data for <MidiEvent PROGRAM_CHANGE, t=0, track=1, channel=3> in .data: None,cannot parse Program Change; ignored.\n"
     ]
    },
    {
     "name": "stdout",
     "output_type": "stream",
     "text": [
      "('C', 'major')\n"
     ]
    },
    {
     "name": "stderr",
     "output_type": "stream",
     "text": [
      "midi.base.py: WARNING: Conversion error for <MidiEvent PROGRAM_CHANGE, t=0, track=1, channel=1>: Got incorrect data for <MidiEvent PROGRAM_CHANGE, t=0, track=1, channel=1> in .data: None,cannot parse Program Change; ignored.\n",
      "midi.base.py: WARNING: Conversion error for <MidiEvent PROGRAM_CHANGE, t=0, track=1, channel=1>: Got incorrect data for <MidiEvent PROGRAM_CHANGE, t=0, track=1, channel=1> in .data: None,cannot parse Program Change; ignored.\n",
      "midi.base.py: WARNING: Conversion error for <MidiEvent PROGRAM_CHANGE, t=0, track=1, channel=1>: Got incorrect data for <MidiEvent PROGRAM_CHANGE, t=0, track=1, channel=1> in .data: None,cannot parse Program Change; ignored.\n",
      "midi.base.py: WARNING: Conversion error for <MidiEvent PROGRAM_CHANGE, t=0, track=1, channel=1>: Got incorrect data for <MidiEvent PROGRAM_CHANGE, t=0, track=1, channel=1> in .data: None,cannot parse Program Change; ignored.\n",
      "midi.base.py: WARNING: Conversion error for <MidiEvent PROGRAM_CHANGE, t=0, track=1, channel=1>: Got incorrect data for <MidiEvent PROGRAM_CHANGE, t=0, track=1, channel=1> in .data: None,cannot parse Program Change; ignored.\n"
     ]
    },
    {
     "name": "stdout",
     "output_type": "stream",
     "text": [
      "('C', 'major')\n"
     ]
    },
    {
     "name": "stderr",
     "output_type": "stream",
     "text": [
      "midi.base.py: WARNING: Conversion error for <MidiEvent PROGRAM_CHANGE, t=0, track=5, channel=4>: Got incorrect data for <MidiEvent PROGRAM_CHANGE, t=0, track=5, channel=4> in .data: None,cannot parse Program Change; ignored.\n"
     ]
    },
    {
     "name": "stdout",
     "output_type": "stream",
     "text": [
      "('C', 'major')\n"
     ]
    },
    {
     "name": "stderr",
     "output_type": "stream",
     "text": [
      "midi.base.py: WARNING: Conversion error for <MidiEvent PROGRAM_CHANGE, t=0, track=2, channel=2>: Got incorrect data for <MidiEvent PROGRAM_CHANGE, t=0, track=2, channel=2> in .data: None,cannot parse Program Change; ignored.\n",
      "midi.base.py: WARNING: Conversion error for <MidiEvent PROGRAM_CHANGE, t=0, track=3, channel=2>: Got incorrect data for <MidiEvent PROGRAM_CHANGE, t=0, track=3, channel=2> in .data: None,cannot parse Program Change; ignored.\n",
      "midi.base.py: WARNING: Conversion error for <MidiEvent PROGRAM_CHANGE, t=0, track=5, channel=2>: Got incorrect data for <MidiEvent PROGRAM_CHANGE, t=0, track=5, channel=2> in .data: None,cannot parse Program Change; ignored.\n",
      "midi.base.py: WARNING: Conversion error for <MidiEvent PROGRAM_CHANGE, t=0, track=7, channel=2>: Got incorrect data for <MidiEvent PROGRAM_CHANGE, t=0, track=7, channel=2> in .data: None,cannot parse Program Change; ignored.\n",
      "midi.base.py: WARNING: Conversion error for <MidiEvent PROGRAM_CHANGE, t=0, track=8, channel=2>: Got incorrect data for <MidiEvent PROGRAM_CHANGE, t=0, track=8, channel=2> in .data: None,cannot parse Program Change; ignored.\n",
      "midi.base.py: WARNING: Conversion error for <MidiEvent PROGRAM_CHANGE, t=0, track=10, channel=2>: Got incorrect data for <MidiEvent PROGRAM_CHANGE, t=0, track=10, channel=2> in .data: None,cannot parse Program Change; ignored.\n",
      "midi.base.py: WARNING: Conversion error for <MidiEvent PROGRAM_CHANGE, t=0, track=14, channel=2>: Got incorrect data for <MidiEvent PROGRAM_CHANGE, t=0, track=14, channel=2> in .data: None,cannot parse Program Change; ignored.\n"
     ]
    },
    {
     "name": "stdout",
     "output_type": "stream",
     "text": [
      "('C', 'major')\n"
     ]
    },
    {
     "name": "stderr",
     "output_type": "stream",
     "text": [
      "midi.base.py: WARNING: Conversion error for <MidiEvent PROGRAM_CHANGE, t=0, track=2, channel=2>: Got incorrect data for <MidiEvent PROGRAM_CHANGE, t=0, track=2, channel=2> in .data: None,cannot parse Program Change; ignored.\n",
      "midi.base.py: WARNING: Conversion error for <MidiEvent PROGRAM_CHANGE, t=0, track=3, channel=2>: Got incorrect data for <MidiEvent PROGRAM_CHANGE, t=0, track=3, channel=2> in .data: None,cannot parse Program Change; ignored.\n",
      "midi.base.py: WARNING: Conversion error for <MidiEvent PROGRAM_CHANGE, t=0, track=5, channel=2>: Got incorrect data for <MidiEvent PROGRAM_CHANGE, t=0, track=5, channel=2> in .data: None,cannot parse Program Change; ignored.\n",
      "midi.base.py: WARNING: Conversion error for <MidiEvent PROGRAM_CHANGE, t=0, track=6, channel=2>: Got incorrect data for <MidiEvent PROGRAM_CHANGE, t=0, track=6, channel=2> in .data: None,cannot parse Program Change; ignored.\n",
      "midi.base.py: WARNING: Conversion error for <MidiEvent PROGRAM_CHANGE, t=0, track=7, channel=2>: Got incorrect data for <MidiEvent PROGRAM_CHANGE, t=0, track=7, channel=2> in .data: None,cannot parse Program Change; ignored.\n",
      "midi.base.py: WARNING: Conversion error for <MidiEvent PROGRAM_CHANGE, t=0, track=8, channel=2>: Got incorrect data for <MidiEvent PROGRAM_CHANGE, t=0, track=8, channel=2> in .data: None,cannot parse Program Change; ignored.\n",
      "midi.base.py: WARNING: Conversion error for <MidiEvent PROGRAM_CHANGE, t=0, track=10, channel=2>: Got incorrect data for <MidiEvent PROGRAM_CHANGE, t=0, track=10, channel=2> in .data: None,cannot parse Program Change; ignored.\n",
      "midi.base.py: WARNING: Conversion error for <MidiEvent PROGRAM_CHANGE, t=0, track=12, channel=2>: Got incorrect data for <MidiEvent PROGRAM_CHANGE, t=0, track=12, channel=2> in .data: None,cannot parse Program Change; ignored.\n",
      "midi.base.py: WARNING: Conversion error for <MidiEvent PROGRAM_CHANGE, t=0, track=13, channel=2>: Got incorrect data for <MidiEvent PROGRAM_CHANGE, t=0, track=13, channel=2> in .data: None,cannot parse Program Change; ignored.\n"
     ]
    },
    {
     "name": "stdout",
     "output_type": "stream",
     "text": [
      "('C', 'major')\n"
     ]
    },
    {
     "name": "stderr",
     "output_type": "stream",
     "text": [
      "midi.base.py: WARNING: Conversion error for <MidiEvent PROGRAM_CHANGE, t=0, track=3, channel=1>: Got incorrect data for <MidiEvent PROGRAM_CHANGE, t=0, track=3, channel=1> in .data: None,cannot parse Program Change; ignored.\n",
      "midi.base.py: WARNING: Conversion error for <MidiEvent PROGRAM_CHANGE, t=0, track=6, channel=1>: Got incorrect data for <MidiEvent PROGRAM_CHANGE, t=0, track=6, channel=1> in .data: None,cannot parse Program Change; ignored.\n",
      "midi.base.py: WARNING: Conversion error for <MidiEvent PROGRAM_CHANGE, t=0, track=10, channel=1>: Got incorrect data for <MidiEvent PROGRAM_CHANGE, t=0, track=10, channel=1> in .data: None,cannot parse Program Change; ignored.\n"
     ]
    },
    {
     "name": "stdout",
     "output_type": "stream",
     "text": [
      "('C', 'major')\n",
      "('C', 'major')\n"
     ]
    },
    {
     "name": "stderr",
     "output_type": "stream",
     "text": [
      "midi.base.py: WARNING: Conversion error for <MidiEvent PROGRAM_CHANGE, t=0, track=1, channel=1>: Got incorrect data for <MidiEvent PROGRAM_CHANGE, t=0, track=1, channel=1> in .data: None,cannot parse Program Change; ignored.\n",
      "midi.base.py: WARNING: Conversion error for <MidiEvent PROGRAM_CHANGE, t=0, track=1, channel=1>: Got incorrect data for <MidiEvent PROGRAM_CHANGE, t=0, track=1, channel=1> in .data: None,cannot parse Program Change; ignored.\n",
      "midi.base.py: WARNING: Conversion error for <MidiEvent PROGRAM_CHANGE, t=0, track=1, channel=1>: Got incorrect data for <MidiEvent PROGRAM_CHANGE, t=0, track=1, channel=1> in .data: None,cannot parse Program Change; ignored.\n",
      "midi.base.py: WARNING: Conversion error for <MidiEvent PROGRAM_CHANGE, t=0, track=1, channel=1>: Got incorrect data for <MidiEvent PROGRAM_CHANGE, t=0, track=1, channel=1> in .data: None,cannot parse Program Change; ignored.\n",
      "midi.base.py: WARNING: Conversion error for <MidiEvent PROGRAM_CHANGE, t=0, track=1, channel=1>: Got incorrect data for <MidiEvent PROGRAM_CHANGE, t=0, track=1, channel=1> in .data: None,cannot parse Program Change; ignored.\n",
      "midi.base.py: WARNING: Conversion error for <MidiEvent PROGRAM_CHANGE, t=0, track=1, channel=1>: Got incorrect data for <MidiEvent PROGRAM_CHANGE, t=0, track=1, channel=1> in .data: None,cannot parse Program Change; ignored.\n",
      "midi.base.py: WARNING: Conversion error for <MidiEvent PROGRAM_CHANGE, t=0, track=1, channel=1>: Got incorrect data for <MidiEvent PROGRAM_CHANGE, t=0, track=1, channel=1> in .data: None,cannot parse Program Change; ignored.\n",
      "midi.base.py: WARNING: Conversion error for <MidiEvent PROGRAM_CHANGE, t=0, track=1, channel=1>: Got incorrect data for <MidiEvent PROGRAM_CHANGE, t=0, track=1, channel=1> in .data: None,cannot parse Program Change; ignored.\n",
      "midi.base.py: WARNING: Conversion error for <MidiEvent PROGRAM_CHANGE, t=0, track=1, channel=1>: Got incorrect data for <MidiEvent PROGRAM_CHANGE, t=0, track=1, channel=1> in .data: None,cannot parse Program Change; ignored.\n"
     ]
    },
    {
     "name": "stdout",
     "output_type": "stream",
     "text": [
      "('C', 'major')\n"
     ]
    },
    {
     "name": "stderr",
     "output_type": "stream",
     "text": [
      "midi.base.py: WARNING: Conversion error for <MidiEvent PROGRAM_CHANGE, t=0, track=1, channel=1>: Got incorrect data for <MidiEvent PROGRAM_CHANGE, t=0, track=1, channel=1> in .data: None,cannot parse Program Change; ignored.\n",
      "midi.base.py: WARNING: Conversion error for <MidiEvent PROGRAM_CHANGE, t=0, track=1, channel=1>: Got incorrect data for <MidiEvent PROGRAM_CHANGE, t=0, track=1, channel=1> in .data: None,cannot parse Program Change; ignored.\n",
      "midi.base.py: WARNING: Conversion error for <MidiEvent PROGRAM_CHANGE, t=0, track=1, channel=1>: Got incorrect data for <MidiEvent PROGRAM_CHANGE, t=0, track=1, channel=1> in .data: None,cannot parse Program Change; ignored.\n",
      "midi.base.py: WARNING: Conversion error for <MidiEvent PROGRAM_CHANGE, t=0, track=3, channel=1>: Got incorrect data for <MidiEvent PROGRAM_CHANGE, t=0, track=3, channel=1> in .data: None,cannot parse Program Change; ignored.\n",
      "midi.base.py: WARNING: Conversion error for <MidiEvent PROGRAM_CHANGE, t=0, track=3, channel=1>: Got incorrect data for <MidiEvent PROGRAM_CHANGE, t=0, track=3, channel=1> in .data: None,cannot parse Program Change; ignored.\n",
      "midi.base.py: WARNING: Conversion error for <MidiEvent PROGRAM_CHANGE, t=0, track=3, channel=1>: Got incorrect data for <MidiEvent PROGRAM_CHANGE, t=0, track=3, channel=1> in .data: None,cannot parse Program Change; ignored.\n",
      "midi.base.py: WARNING: Conversion error for <MidiEvent PROGRAM_CHANGE, t=0, track=3, channel=1>: Got incorrect data for <MidiEvent PROGRAM_CHANGE, t=0, track=3, channel=1> in .data: None,cannot parse Program Change; ignored.\n",
      "midi.base.py: WARNING: Conversion error for <MidiEvent PROGRAM_CHANGE, t=0, track=3, channel=1>: Got incorrect data for <MidiEvent PROGRAM_CHANGE, t=0, track=3, channel=1> in .data: None,cannot parse Program Change; ignored.\n"
     ]
    },
    {
     "name": "stdout",
     "output_type": "stream",
     "text": [
      "('C', 'major')\n"
     ]
    },
    {
     "name": "stderr",
     "output_type": "stream",
     "text": [
      "midi.base.py: WARNING: Conversion error for <MidiEvent PROGRAM_CHANGE, t=0, track=1, channel=1>: Got incorrect data for <MidiEvent PROGRAM_CHANGE, t=0, track=1, channel=1> in .data: None,cannot parse Program Change; ignored.\n",
      "midi.base.py: WARNING: Conversion error for <MidiEvent PROGRAM_CHANGE, t=0, track=3, channel=1>: Got incorrect data for <MidiEvent PROGRAM_CHANGE, t=0, track=3, channel=1> in .data: None,cannot parse Program Change; ignored.\n"
     ]
    },
    {
     "name": "stdout",
     "output_type": "stream",
     "text": [
      "('C', 'major')\n"
     ]
    },
    {
     "name": "stderr",
     "output_type": "stream",
     "text": [
      "midi.base.py: WARNING: Conversion error for <MidiEvent PROGRAM_CHANGE, t=0, track=3, channel=3>: Got incorrect data for <MidiEvent PROGRAM_CHANGE, t=0, track=3, channel=3> in .data: None,cannot parse Program Change; ignored.\n",
      "midi.base.py: WARNING: Conversion error for <MidiEvent PROGRAM_CHANGE, t=0, track=4, channel=3>: Got incorrect data for <MidiEvent PROGRAM_CHANGE, t=0, track=4, channel=3> in .data: None,cannot parse Program Change; ignored.\n",
      "midi.base.py: WARNING: Conversion error for <MidiEvent PROGRAM_CHANGE, t=0, track=5, channel=3>: Got incorrect data for <MidiEvent PROGRAM_CHANGE, t=0, track=5, channel=3> in .data: None,cannot parse Program Change; ignored.\n",
      "midi.base.py: WARNING: Conversion error for <MidiEvent PROGRAM_CHANGE, t=0, track=7, channel=3>: Got incorrect data for <MidiEvent PROGRAM_CHANGE, t=0, track=7, channel=3> in .data: None,cannot parse Program Change; ignored.\n",
      "midi.base.py: WARNING: Conversion error for <MidiEvent PROGRAM_CHANGE, t=0, track=8, channel=3>: Got incorrect data for <MidiEvent PROGRAM_CHANGE, t=0, track=8, channel=3> in .data: None,cannot parse Program Change; ignored.\n",
      "midi.base.py: WARNING: Conversion error for <MidiEvent PROGRAM_CHANGE, t=0, track=10, channel=3>: Got incorrect data for <MidiEvent PROGRAM_CHANGE, t=0, track=10, channel=3> in .data: None,cannot parse Program Change; ignored.\n",
      "midi.base.py: WARNING: Conversion error for <MidiEvent PROGRAM_CHANGE, t=0, track=11, channel=3>: Got incorrect data for <MidiEvent PROGRAM_CHANGE, t=0, track=11, channel=3> in .data: None,cannot parse Program Change; ignored.\n"
     ]
    },
    {
     "name": "stdout",
     "output_type": "stream",
     "text": [
      "('C', 'major')\n"
     ]
    },
    {
     "name": "stderr",
     "output_type": "stream",
     "text": [
      "midi.base.py: WARNING: Conversion error for <MidiEvent PROGRAM_CHANGE, t=0, track=2, channel=2>: Got incorrect data for <MidiEvent PROGRAM_CHANGE, t=0, track=2, channel=2> in .data: None,cannot parse Program Change; ignored.\n",
      "midi.base.py: WARNING: Conversion error for <MidiEvent PROGRAM_CHANGE, t=0, track=4, channel=2>: Got incorrect data for <MidiEvent PROGRAM_CHANGE, t=0, track=4, channel=2> in .data: None,cannot parse Program Change; ignored.\n",
      "midi.base.py: WARNING: Conversion error for <MidiEvent PROGRAM_CHANGE, t=0, track=5, channel=2>: Got incorrect data for <MidiEvent PROGRAM_CHANGE, t=0, track=5, channel=2> in .data: None,cannot parse Program Change; ignored.\n",
      "midi.base.py: WARNING: Conversion error for <MidiEvent PROGRAM_CHANGE, t=0, track=6, channel=2>: Got incorrect data for <MidiEvent PROGRAM_CHANGE, t=0, track=6, channel=2> in .data: None,cannot parse Program Change; ignored.\n",
      "midi.base.py: WARNING: Conversion error for <MidiEvent PROGRAM_CHANGE, t=0, track=7, channel=2>: Got incorrect data for <MidiEvent PROGRAM_CHANGE, t=0, track=7, channel=2> in .data: None,cannot parse Program Change; ignored.\n",
      "midi.base.py: WARNING: Conversion error for <MidiEvent PROGRAM_CHANGE, t=0, track=9, channel=2>: Got incorrect data for <MidiEvent PROGRAM_CHANGE, t=0, track=9, channel=2> in .data: None,cannot parse Program Change; ignored.\n"
     ]
    },
    {
     "name": "stdout",
     "output_type": "stream",
     "text": [
      "('C', 'major')\n"
     ]
    },
    {
     "name": "stderr",
     "output_type": "stream",
     "text": [
      "midi.base.py: WARNING: Conversion error for <MidiEvent PROGRAM_CHANGE, t=0, track=4, channel=4>: Got incorrect data for <MidiEvent PROGRAM_CHANGE, t=0, track=4, channel=4> in .data: None,cannot parse Program Change; ignored.\n",
      "midi.base.py: WARNING: Conversion error for <MidiEvent PROGRAM_CHANGE, t=0, track=4, channel=4>: Got incorrect data for <MidiEvent PROGRAM_CHANGE, t=0, track=4, channel=4> in .data: None,cannot parse Program Change; ignored.\n",
      "midi.base.py: WARNING: Conversion error for <MidiEvent PROGRAM_CHANGE, t=0, track=5, channel=4>: Got incorrect data for <MidiEvent PROGRAM_CHANGE, t=0, track=5, channel=4> in .data: None,cannot parse Program Change; ignored.\n",
      "midi.base.py: WARNING: Conversion error for <MidiEvent PROGRAM_CHANGE, t=0, track=5, channel=4>: Got incorrect data for <MidiEvent PROGRAM_CHANGE, t=0, track=5, channel=4> in .data: None,cannot parse Program Change; ignored.\n",
      "midi.base.py: WARNING: Conversion error for <MidiEvent PROGRAM_CHANGE, t=0, track=7, channel=4>: Got incorrect data for <MidiEvent PROGRAM_CHANGE, t=0, track=7, channel=4> in .data: None,cannot parse Program Change; ignored.\n",
      "midi.base.py: WARNING: Conversion error for <MidiEvent PROGRAM_CHANGE, t=0, track=7, channel=4>: Got incorrect data for <MidiEvent PROGRAM_CHANGE, t=0, track=7, channel=4> in .data: None,cannot parse Program Change; ignored.\n",
      "midi.base.py: WARNING: Conversion error for <MidiEvent PROGRAM_CHANGE, t=0, track=8, channel=4>: Got incorrect data for <MidiEvent PROGRAM_CHANGE, t=0, track=8, channel=4> in .data: None,cannot parse Program Change; ignored.\n",
      "midi.base.py: WARNING: Conversion error for <MidiEvent PROGRAM_CHANGE, t=0, track=8, channel=4>: Got incorrect data for <MidiEvent PROGRAM_CHANGE, t=0, track=8, channel=4> in .data: None,cannot parse Program Change; ignored.\n"
     ]
    },
    {
     "name": "stdout",
     "output_type": "stream",
     "text": [
      "('C', 'major')\n"
     ]
    },
    {
     "name": "stderr",
     "output_type": "stream",
     "text": [
      "midi.base.py: WARNING: Conversion error for <MidiEvent PROGRAM_CHANGE, t=0, track=1, channel=1>: Got incorrect data for <MidiEvent PROGRAM_CHANGE, t=0, track=1, channel=1> in .data: None,cannot parse Program Change; ignored.\n",
      "midi.base.py: WARNING: Conversion error for <MidiEvent PROGRAM_CHANGE, t=0, track=1, channel=1>: Got incorrect data for <MidiEvent PROGRAM_CHANGE, t=0, track=1, channel=1> in .data: None,cannot parse Program Change; ignored.\n",
      "midi.base.py: WARNING: Conversion error for <MidiEvent PROGRAM_CHANGE, t=0, track=1, channel=1>: Got incorrect data for <MidiEvent PROGRAM_CHANGE, t=0, track=1, channel=1> in .data: None,cannot parse Program Change; ignored.\n"
     ]
    },
    {
     "name": "stdout",
     "output_type": "stream",
     "text": [
      "('C', 'major')\n"
     ]
    },
    {
     "name": "stderr",
     "output_type": "stream",
     "text": [
      "midi.base.py: WARNING: Conversion error for <MidiEvent PROGRAM_CHANGE, t=0, track=1, channel=1>: Got incorrect data for <MidiEvent PROGRAM_CHANGE, t=0, track=1, channel=1> in .data: None,cannot parse Program Change; ignored.\n",
      "midi.base.py: WARNING: Conversion error for <MidiEvent PROGRAM_CHANGE, t=0, track=4, channel=1>: Got incorrect data for <MidiEvent PROGRAM_CHANGE, t=0, track=4, channel=1> in .data: None,cannot parse Program Change; ignored.\n",
      "midi.base.py: WARNING: Conversion error for <MidiEvent PROGRAM_CHANGE, t=0, track=5, channel=1>: Got incorrect data for <MidiEvent PROGRAM_CHANGE, t=0, track=5, channel=1> in .data: None,cannot parse Program Change; ignored.\n",
      "midi.base.py: WARNING: Conversion error for <MidiEvent PROGRAM_CHANGE, t=0, track=6, channel=1>: Got incorrect data for <MidiEvent PROGRAM_CHANGE, t=0, track=6, channel=1> in .data: None,cannot parse Program Change; ignored.\n",
      "midi.base.py: WARNING: Conversion error for <MidiEvent PROGRAM_CHANGE, t=0, track=8, channel=1>: Got incorrect data for <MidiEvent PROGRAM_CHANGE, t=0, track=8, channel=1> in .data: None,cannot parse Program Change; ignored.\n",
      "midi.base.py: WARNING: Conversion error for <MidiEvent PROGRAM_CHANGE, t=0, track=8, channel=1>: Got incorrect data for <MidiEvent PROGRAM_CHANGE, t=0, track=8, channel=1> in .data: None,cannot parse Program Change; ignored.\n"
     ]
    },
    {
     "name": "stdout",
     "output_type": "stream",
     "text": [
      "('C', 'major')\n"
     ]
    },
    {
     "name": "stderr",
     "output_type": "stream",
     "text": [
      "midi.base.py: WARNING: Conversion error for <MidiEvent PROGRAM_CHANGE, t=0, track=1, channel=1>: Got incorrect data for <MidiEvent PROGRAM_CHANGE, t=0, track=1, channel=1> in .data: None,cannot parse Program Change; ignored.\n",
      "midi.base.py: WARNING: Conversion error for <MidiEvent PROGRAM_CHANGE, t=0, track=1, channel=1>: Got incorrect data for <MidiEvent PROGRAM_CHANGE, t=0, track=1, channel=1> in .data: None,cannot parse Program Change; ignored.\n",
      "midi.base.py: WARNING: Conversion error for <MidiEvent PROGRAM_CHANGE, t=0, track=1, channel=1>: Got incorrect data for <MidiEvent PROGRAM_CHANGE, t=0, track=1, channel=1> in .data: None,cannot parse Program Change; ignored.\n",
      "midi.base.py: WARNING: Conversion error for <MidiEvent PROGRAM_CHANGE, t=0, track=1, channel=1>: Got incorrect data for <MidiEvent PROGRAM_CHANGE, t=0, track=1, channel=1> in .data: None,cannot parse Program Change; ignored.\n",
      "midi.base.py: WARNING: Conversion error for <MidiEvent PROGRAM_CHANGE, t=0, track=1, channel=1>: Got incorrect data for <MidiEvent PROGRAM_CHANGE, t=0, track=1, channel=1> in .data: None,cannot parse Program Change; ignored.\n",
      "midi.base.py: WARNING: Conversion error for <MidiEvent PROGRAM_CHANGE, t=0, track=1, channel=1>: Got incorrect data for <MidiEvent PROGRAM_CHANGE, t=0, track=1, channel=1> in .data: None,cannot parse Program Change; ignored.\n",
      "midi.base.py: WARNING: Conversion error for <MidiEvent PROGRAM_CHANGE, t=0, track=1, channel=1>: Got incorrect data for <MidiEvent PROGRAM_CHANGE, t=0, track=1, channel=1> in .data: None,cannot parse Program Change; ignored.\n"
     ]
    },
    {
     "name": "stdout",
     "output_type": "stream",
     "text": [
      "('C', 'minor')\n"
     ]
    },
    {
     "name": "stderr",
     "output_type": "stream",
     "text": [
      "midi.base.py: WARNING: Conversion error for <MidiEvent PROGRAM_CHANGE, t=0, track=1, channel=1>: Got incorrect data for <MidiEvent PROGRAM_CHANGE, t=0, track=1, channel=1> in .data: None,cannot parse Program Change; ignored.\n",
      "midi.base.py: WARNING: Conversion error for <MidiEvent PROGRAM_CHANGE, t=0, track=3, channel=3>: Got incorrect data for <MidiEvent PROGRAM_CHANGE, t=0, track=3, channel=3> in .data: None,cannot parse Program Change; ignored.\n",
      "midi.base.py: WARNING: Conversion error for <MidiEvent PROGRAM_CHANGE, t=0, track=4, channel=1>: Got incorrect data for <MidiEvent PROGRAM_CHANGE, t=0, track=4, channel=1> in .data: None,cannot parse Program Change; ignored.\n",
      "midi.base.py: WARNING: Conversion error for <MidiEvent PROGRAM_CHANGE, t=0, track=4, channel=1>: Got incorrect data for <MidiEvent PROGRAM_CHANGE, t=0, track=4, channel=1> in .data: None,cannot parse Program Change; ignored.\n",
      "midi.base.py: WARNING: Conversion error for <MidiEvent PROGRAM_CHANGE, t=0, track=4, channel=1>: Got incorrect data for <MidiEvent PROGRAM_CHANGE, t=0, track=4, channel=1> in .data: None,cannot parse Program Change; ignored.\n",
      "midi.base.py: WARNING: Conversion error for <MidiEvent PROGRAM_CHANGE, t=0, track=14, channel=1>: Got incorrect data for <MidiEvent PROGRAM_CHANGE, t=0, track=14, channel=1> in .data: None,cannot parse Program Change; ignored.\n"
     ]
    },
    {
     "name": "stdout",
     "output_type": "stream",
     "text": [
      "('C', 'major')\n"
     ]
    },
    {
     "name": "stderr",
     "output_type": "stream",
     "text": [
      "midi.base.py: WARNING: Conversion error for <MidiEvent PROGRAM_CHANGE, t=0, track=1, channel=4>: Got incorrect data for <MidiEvent PROGRAM_CHANGE, t=0, track=1, channel=4> in .data: None,cannot parse Program Change; ignored.\n",
      "midi.base.py: WARNING: Conversion error for <MidiEvent PROGRAM_CHANGE, t=0, track=1, channel=4>: Got incorrect data for <MidiEvent PROGRAM_CHANGE, t=0, track=1, channel=4> in .data: None,cannot parse Program Change; ignored.\n",
      "midi.base.py: WARNING: Conversion error for <MidiEvent PROGRAM_CHANGE, t=0, track=1, channel=4>: Got incorrect data for <MidiEvent PROGRAM_CHANGE, t=0, track=1, channel=4> in .data: None,cannot parse Program Change; ignored.\n",
      "midi.base.py: WARNING: Conversion error for <MidiEvent PROGRAM_CHANGE, t=0, track=1, channel=4>: Got incorrect data for <MidiEvent PROGRAM_CHANGE, t=0, track=1, channel=4> in .data: None,cannot parse Program Change; ignored.\n"
     ]
    },
    {
     "name": "stdout",
     "output_type": "stream",
     "text": [
      "('C', 'major')\n"
     ]
    },
    {
     "name": "stderr",
     "output_type": "stream",
     "text": [
      "midi.base.py: WARNING: Conversion error for <MidiEvent PROGRAM_CHANGE, t=0, track=1, channel=1>: Got incorrect data for <MidiEvent PROGRAM_CHANGE, t=0, track=1, channel=1> in .data: None,cannot parse Program Change; ignored.\n",
      "midi.base.py: WARNING: Conversion error for <MidiEvent PROGRAM_CHANGE, t=0, track=1, channel=1>: Got incorrect data for <MidiEvent PROGRAM_CHANGE, t=0, track=1, channel=1> in .data: None,cannot parse Program Change; ignored.\n",
      "midi.base.py: WARNING: Conversion error for <MidiEvent PROGRAM_CHANGE, t=0, track=1, channel=1>: Got incorrect data for <MidiEvent PROGRAM_CHANGE, t=0, track=1, channel=1> in .data: None,cannot parse Program Change; ignored.\n",
      "midi.base.py: WARNING: Conversion error for <MidiEvent PROGRAM_CHANGE, t=0, track=1, channel=1>: Got incorrect data for <MidiEvent PROGRAM_CHANGE, t=0, track=1, channel=1> in .data: None,cannot parse Program Change; ignored.\n",
      "midi.base.py: WARNING: Conversion error for <MidiEvent PROGRAM_CHANGE, t=0, track=1, channel=1>: Got incorrect data for <MidiEvent PROGRAM_CHANGE, t=0, track=1, channel=1> in .data: None,cannot parse Program Change; ignored.\n",
      "midi.base.py: WARNING: Conversion error for <MidiEvent PROGRAM_CHANGE, t=0, track=1, channel=1>: Got incorrect data for <MidiEvent PROGRAM_CHANGE, t=0, track=1, channel=1> in .data: None,cannot parse Program Change; ignored.\n",
      "midi.base.py: WARNING: Conversion error for <MidiEvent PROGRAM_CHANGE, t=0, track=1, channel=1>: Got incorrect data for <MidiEvent PROGRAM_CHANGE, t=0, track=1, channel=1> in .data: None,cannot parse Program Change; ignored.\n",
      "midi.base.py: WARNING: Conversion error for <MidiEvent PROGRAM_CHANGE, t=0, track=1, channel=1>: Got incorrect data for <MidiEvent PROGRAM_CHANGE, t=0, track=1, channel=1> in .data: None,cannot parse Program Change; ignored.\n",
      "midi.base.py: WARNING: Conversion error for <MidiEvent PROGRAM_CHANGE, t=0, track=1, channel=1>: Got incorrect data for <MidiEvent PROGRAM_CHANGE, t=0, track=1, channel=1> in .data: None,cannot parse Program Change; ignored.\n"
     ]
    },
    {
     "name": "stdout",
     "output_type": "stream",
     "text": [
      "('C', 'major')\n"
     ]
    },
    {
     "name": "stderr",
     "output_type": "stream",
     "text": [
      "midi.base.py: WARNING: Conversion error for <MidiEvent PROGRAM_CHANGE, t=0, track=2, channel=2>: Got incorrect data for <MidiEvent PROGRAM_CHANGE, t=0, track=2, channel=2> in .data: None,cannot parse Program Change; ignored.\n",
      "midi.base.py: WARNING: Conversion error for <MidiEvent PROGRAM_CHANGE, t=0, track=3, channel=2>: Got incorrect data for <MidiEvent PROGRAM_CHANGE, t=0, track=3, channel=2> in .data: None,cannot parse Program Change; ignored.\n",
      "midi.base.py: WARNING: Conversion error for <MidiEvent PROGRAM_CHANGE, t=0, track=4, channel=2>: Got incorrect data for <MidiEvent PROGRAM_CHANGE, t=0, track=4, channel=2> in .data: None,cannot parse Program Change; ignored.\n",
      "midi.base.py: WARNING: Conversion error for <MidiEvent PROGRAM_CHANGE, t=0, track=5, channel=2>: Got incorrect data for <MidiEvent PROGRAM_CHANGE, t=0, track=5, channel=2> in .data: None,cannot parse Program Change; ignored.\n",
      "midi.base.py: WARNING: Conversion error for <MidiEvent PROGRAM_CHANGE, t=0, track=6, channel=2>: Got incorrect data for <MidiEvent PROGRAM_CHANGE, t=0, track=6, channel=2> in .data: None,cannot parse Program Change; ignored.\n"
     ]
    },
    {
     "name": "stdout",
     "output_type": "stream",
     "text": [
      "('C', 'minor')\n"
     ]
    },
    {
     "name": "stderr",
     "output_type": "stream",
     "text": [
      "midi.base.py: WARNING: Conversion error for <MidiEvent PROGRAM_CHANGE, t=0, track=1, channel=1>: Got incorrect data for <MidiEvent PROGRAM_CHANGE, t=0, track=1, channel=1> in .data: None,cannot parse Program Change; ignored.\n",
      "midi.base.py: WARNING: Conversion error for <MidiEvent PROGRAM_CHANGE, t=0, track=1, channel=1>: Got incorrect data for <MidiEvent PROGRAM_CHANGE, t=0, track=1, channel=1> in .data: None,cannot parse Program Change; ignored.\n",
      "midi.base.py: WARNING: Conversion error for <MidiEvent PROGRAM_CHANGE, t=0, track=2, channel=1>: Got incorrect data for <MidiEvent PROGRAM_CHANGE, t=0, track=2, channel=1> in .data: None,cannot parse Program Change; ignored.\n",
      "midi.base.py: WARNING: Conversion error for <MidiEvent PROGRAM_CHANGE, t=0, track=2, channel=1>: Got incorrect data for <MidiEvent PROGRAM_CHANGE, t=0, track=2, channel=1> in .data: None,cannot parse Program Change; ignored.\n",
      "midi.base.py: WARNING: Conversion error for <MidiEvent PROGRAM_CHANGE, t=0, track=3, channel=1>: Got incorrect data for <MidiEvent PROGRAM_CHANGE, t=0, track=3, channel=1> in .data: None,cannot parse Program Change; ignored.\n",
      "midi.base.py: WARNING: Conversion error for <MidiEvent PROGRAM_CHANGE, t=0, track=3, channel=1>: Got incorrect data for <MidiEvent PROGRAM_CHANGE, t=0, track=3, channel=1> in .data: None,cannot parse Program Change; ignored.\n",
      "midi.base.py: WARNING: Conversion error for <MidiEvent PROGRAM_CHANGE, t=0, track=4, channel=1>: Got incorrect data for <MidiEvent PROGRAM_CHANGE, t=0, track=4, channel=1> in .data: None,cannot parse Program Change; ignored.\n",
      "midi.base.py: WARNING: Conversion error for <MidiEvent PROGRAM_CHANGE, t=0, track=4, channel=1>: Got incorrect data for <MidiEvent PROGRAM_CHANGE, t=0, track=4, channel=1> in .data: None,cannot parse Program Change; ignored.\n",
      "midi.base.py: WARNING: Conversion error for <MidiEvent PROGRAM_CHANGE, t=0, track=6, channel=1>: Got incorrect data for <MidiEvent PROGRAM_CHANGE, t=0, track=6, channel=1> in .data: None,cannot parse Program Change; ignored.\n",
      "midi.base.py: WARNING: Conversion error for <MidiEvent PROGRAM_CHANGE, t=0, track=6, channel=1>: Got incorrect data for <MidiEvent PROGRAM_CHANGE, t=0, track=6, channel=1> in .data: None,cannot parse Program Change; ignored.\n"
     ]
    },
    {
     "name": "stdout",
     "output_type": "stream",
     "text": [
      "('C', 'major')\n"
     ]
    },
    {
     "name": "stderr",
     "output_type": "stream",
     "text": [
      "midi.base.py: WARNING: Conversion error for <MidiEvent PROGRAM_CHANGE, t=0, track=1, channel=1>: Got incorrect data for <MidiEvent PROGRAM_CHANGE, t=0, track=1, channel=1> in .data: None,cannot parse Program Change; ignored.\n",
      "midi.base.py: WARNING: Conversion error for <MidiEvent PROGRAM_CHANGE, t=0, track=2, channel=1>: Got incorrect data for <MidiEvent PROGRAM_CHANGE, t=0, track=2, channel=1> in .data: None,cannot parse Program Change; ignored.\n",
      "midi.base.py: WARNING: Conversion error for <MidiEvent PROGRAM_CHANGE, t=0, track=8, channel=1>: Got incorrect data for <MidiEvent PROGRAM_CHANGE, t=0, track=8, channel=1> in .data: None,cannot parse Program Change; ignored.\n",
      "midi.base.py: WARNING: Conversion error for <MidiEvent PROGRAM_CHANGE, t=0, track=11, channel=1>: Got incorrect data for <MidiEvent PROGRAM_CHANGE, t=0, track=11, channel=1> in .data: None,cannot parse Program Change; ignored.\n",
      "midi.base.py: WARNING: Conversion error for <MidiEvent PROGRAM_CHANGE, t=0, track=21, channel=1>: Got incorrect data for <MidiEvent PROGRAM_CHANGE, t=0, track=21, channel=1> in .data: None,cannot parse Program Change; ignored.\n",
      "midi.base.py: WARNING: Conversion error for <MidiEvent PROGRAM_CHANGE, t=0, track=22, channel=1>: Got incorrect data for <MidiEvent PROGRAM_CHANGE, t=0, track=22, channel=1> in .data: None,cannot parse Program Change; ignored.\n",
      "midi.base.py: WARNING: Conversion error for <MidiEvent PROGRAM_CHANGE, t=0, track=23, channel=1>: Got incorrect data for <MidiEvent PROGRAM_CHANGE, t=0, track=23, channel=1> in .data: None,cannot parse Program Change; ignored.\n",
      "midi.base.py: WARNING: Conversion error for <MidiEvent PROGRAM_CHANGE, t=0, track=24, channel=1>: Got incorrect data for <MidiEvent PROGRAM_CHANGE, t=0, track=24, channel=1> in .data: None,cannot parse Program Change; ignored.\n",
      "midi.base.py: WARNING: Conversion error for <MidiEvent PROGRAM_CHANGE, t=0, track=25, channel=1>: Got incorrect data for <MidiEvent PROGRAM_CHANGE, t=0, track=25, channel=1> in .data: None,cannot parse Program Change; ignored.\n"
     ]
    },
    {
     "name": "stdout",
     "output_type": "stream",
     "text": [
      "('C', 'major')\n"
     ]
    },
    {
     "name": "stderr",
     "output_type": "stream",
     "text": [
      "midi.base.py: WARNING: Conversion error for <MidiEvent PROGRAM_CHANGE, t=0, track=1, channel=1>: Got incorrect data for <MidiEvent PROGRAM_CHANGE, t=0, track=1, channel=1> in .data: None,cannot parse Program Change; ignored.\n",
      "midi.base.py: WARNING: Conversion error for <MidiEvent PROGRAM_CHANGE, t=0, track=1, channel=1>: Got incorrect data for <MidiEvent PROGRAM_CHANGE, t=0, track=1, channel=1> in .data: None,cannot parse Program Change; ignored.\n",
      "midi.base.py: WARNING: Conversion error for <MidiEvent PROGRAM_CHANGE, t=0, track=1, channel=1>: Got incorrect data for <MidiEvent PROGRAM_CHANGE, t=0, track=1, channel=1> in .data: None,cannot parse Program Change; ignored.\n"
     ]
    },
    {
     "name": "stdout",
     "output_type": "stream",
     "text": [
      "('C', 'major')\n"
     ]
    },
    {
     "name": "stderr",
     "output_type": "stream",
     "text": [
      "midi.base.py: WARNING: Conversion error for <MidiEvent PROGRAM_CHANGE, t=0, track=2, channel=2>: Got incorrect data for <MidiEvent PROGRAM_CHANGE, t=0, track=2, channel=2> in .data: None,cannot parse Program Change; ignored.\n",
      "midi.base.py: WARNING: Conversion error for <MidiEvent PROGRAM_CHANGE, t=0, track=3, channel=2>: Got incorrect data for <MidiEvent PROGRAM_CHANGE, t=0, track=3, channel=2> in .data: None,cannot parse Program Change; ignored.\n",
      "midi.base.py: WARNING: Conversion error for <MidiEvent PROGRAM_CHANGE, t=0, track=5, channel=2>: Got incorrect data for <MidiEvent PROGRAM_CHANGE, t=0, track=5, channel=2> in .data: None,cannot parse Program Change; ignored.\n",
      "midi.base.py: WARNING: Conversion error for <MidiEvent PROGRAM_CHANGE, t=0, track=7, channel=2>: Got incorrect data for <MidiEvent PROGRAM_CHANGE, t=0, track=7, channel=2> in .data: None,cannot parse Program Change; ignored.\n",
      "midi.base.py: WARNING: Conversion error for <MidiEvent PROGRAM_CHANGE, t=0, track=8, channel=2>: Got incorrect data for <MidiEvent PROGRAM_CHANGE, t=0, track=8, channel=2> in .data: None,cannot parse Program Change; ignored.\n",
      "midi.base.py: WARNING: Conversion error for <MidiEvent PROGRAM_CHANGE, t=0, track=10, channel=2>: Got incorrect data for <MidiEvent PROGRAM_CHANGE, t=0, track=10, channel=2> in .data: None,cannot parse Program Change; ignored.\n",
      "midi.base.py: WARNING: Conversion error for <MidiEvent PROGRAM_CHANGE, t=0, track=14, channel=2>: Got incorrect data for <MidiEvent PROGRAM_CHANGE, t=0, track=14, channel=2> in .data: None,cannot parse Program Change; ignored.\n"
     ]
    },
    {
     "name": "stdout",
     "output_type": "stream",
     "text": [
      "('C', 'major')\n"
     ]
    },
    {
     "name": "stderr",
     "output_type": "stream",
     "text": [
      "midi.base.py: WARNING: Conversion error for <MidiEvent PROGRAM_CHANGE, t=0, track=1, channel=1>: Got incorrect data for <MidiEvent PROGRAM_CHANGE, t=0, track=1, channel=1> in .data: None,cannot parse Program Change; ignored.\n",
      "midi.base.py: WARNING: Conversion error for <MidiEvent PROGRAM_CHANGE, t=0, track=1, channel=1>: Got incorrect data for <MidiEvent PROGRAM_CHANGE, t=0, track=1, channel=1> in .data: None,cannot parse Program Change; ignored.\n",
      "midi.base.py: WARNING: Conversion error for <MidiEvent PROGRAM_CHANGE, t=0, track=1, channel=1>: Got incorrect data for <MidiEvent PROGRAM_CHANGE, t=0, track=1, channel=1> in .data: None,cannot parse Program Change; ignored.\n",
      "midi.base.py: WARNING: Conversion error for <MidiEvent PROGRAM_CHANGE, t=0, track=1, channel=1>: Got incorrect data for <MidiEvent PROGRAM_CHANGE, t=0, track=1, channel=1> in .data: None,cannot parse Program Change; ignored.\n",
      "midi.base.py: WARNING: Conversion error for <MidiEvent PROGRAM_CHANGE, t=0, track=1, channel=1>: Got incorrect data for <MidiEvent PROGRAM_CHANGE, t=0, track=1, channel=1> in .data: None,cannot parse Program Change; ignored.\n",
      "midi.base.py: WARNING: Conversion error for <MidiEvent PROGRAM_CHANGE, t=0, track=1, channel=1>: Got incorrect data for <MidiEvent PROGRAM_CHANGE, t=0, track=1, channel=1> in .data: None,cannot parse Program Change; ignored.\n",
      "midi.base.py: WARNING: Conversion error for <MidiEvent PROGRAM_CHANGE, t=0, track=1, channel=1>: Got incorrect data for <MidiEvent PROGRAM_CHANGE, t=0, track=1, channel=1> in .data: None,cannot parse Program Change; ignored.\n",
      "midi.base.py: WARNING: Conversion error for <MidiEvent PROGRAM_CHANGE, t=0, track=1, channel=1>: Got incorrect data for <MidiEvent PROGRAM_CHANGE, t=0, track=1, channel=1> in .data: None,cannot parse Program Change; ignored.\n",
      "midi.base.py: WARNING: Conversion error for <MidiEvent PROGRAM_CHANGE, t=0, track=1, channel=1>: Got incorrect data for <MidiEvent PROGRAM_CHANGE, t=0, track=1, channel=1> in .data: None,cannot parse Program Change; ignored.\n",
      "midi.base.py: WARNING: Conversion error for <MidiEvent PROGRAM_CHANGE, t=0, track=1, channel=1>: Got incorrect data for <MidiEvent PROGRAM_CHANGE, t=0, track=1, channel=1> in .data: None,cannot parse Program Change; ignored.\n",
      "midi.base.py: WARNING: Conversion error for <MidiEvent PROGRAM_CHANGE, t=0, track=1, channel=1>: Got incorrect data for <MidiEvent PROGRAM_CHANGE, t=0, track=1, channel=1> in .data: None,cannot parse Program Change; ignored.\n",
      "midi.base.py: WARNING: Conversion error for <MidiEvent PROGRAM_CHANGE, t=0, track=1, channel=1>: Got incorrect data for <MidiEvent PROGRAM_CHANGE, t=0, track=1, channel=1> in .data: None,cannot parse Program Change; ignored.\n",
      "midi.base.py: WARNING: Conversion error for <MidiEvent PROGRAM_CHANGE, t=0, track=1, channel=1>: Got incorrect data for <MidiEvent PROGRAM_CHANGE, t=0, track=1, channel=1> in .data: None,cannot parse Program Change; ignored.\n",
      "midi.base.py: WARNING: Conversion error for <MidiEvent PROGRAM_CHANGE, t=0, track=1, channel=1>: Got incorrect data for <MidiEvent PROGRAM_CHANGE, t=0, track=1, channel=1> in .data: None,cannot parse Program Change; ignored.\n",
      "midi.base.py: WARNING: Conversion error for <MidiEvent PROGRAM_CHANGE, t=0, track=1, channel=1>: Got incorrect data for <MidiEvent PROGRAM_CHANGE, t=0, track=1, channel=1> in .data: None,cannot parse Program Change; ignored.\n"
     ]
    },
    {
     "name": "stdout",
     "output_type": "stream",
     "text": [
      "('C', 'minor')\n"
     ]
    },
    {
     "name": "stderr",
     "output_type": "stream",
     "text": [
      "midi.base.py: WARNING: Conversion error for <MidiEvent PROGRAM_CHANGE, t=0, track=3, channel=3>: Got incorrect data for <MidiEvent PROGRAM_CHANGE, t=0, track=3, channel=3> in .data: None,cannot parse Program Change; ignored.\n",
      "midi.base.py: WARNING: Conversion error for <MidiEvent PROGRAM_CHANGE, t=0, track=4, channel=4>: Got incorrect data for <MidiEvent PROGRAM_CHANGE, t=0, track=4, channel=4> in .data: None,cannot parse Program Change; ignored.\n",
      "midi.base.py: WARNING: Conversion error for <MidiEvent PROGRAM_CHANGE, t=0, track=4, channel=4>: Got incorrect data for <MidiEvent PROGRAM_CHANGE, t=0, track=4, channel=4> in .data: None,cannot parse Program Change; ignored.\n",
      "midi.base.py: WARNING: Conversion error for <MidiEvent PROGRAM_CHANGE, t=0, track=4, channel=4>: Got incorrect data for <MidiEvent PROGRAM_CHANGE, t=0, track=4, channel=4> in .data: None,cannot parse Program Change; ignored.\n",
      "midi.base.py: WARNING: Conversion error for <MidiEvent PROGRAM_CHANGE, t=0, track=14, channel=4>: Got incorrect data for <MidiEvent PROGRAM_CHANGE, t=0, track=14, channel=4> in .data: None,cannot parse Program Change; ignored.\n"
     ]
    },
    {
     "name": "stdout",
     "output_type": "stream",
     "text": [
      "('C', 'major')\n"
     ]
    },
    {
     "name": "stderr",
     "output_type": "stream",
     "text": [
      "midi.base.py: WARNING: Conversion error for <MidiEvent PROGRAM_CHANGE, t=0, track=1, channel=1>: Got incorrect data for <MidiEvent PROGRAM_CHANGE, t=0, track=1, channel=1> in .data: None,cannot parse Program Change; ignored.\n",
      "midi.base.py: WARNING: Conversion error for <MidiEvent PROGRAM_CHANGE, t=0, track=3, channel=1>: Got incorrect data for <MidiEvent PROGRAM_CHANGE, t=0, track=3, channel=1> in .data: None,cannot parse Program Change; ignored.\n",
      "midi.base.py: WARNING: Conversion error for <MidiEvent PROGRAM_CHANGE, t=0, track=5, channel=1>: Got incorrect data for <MidiEvent PROGRAM_CHANGE, t=0, track=5, channel=1> in .data: None,cannot parse Program Change; ignored.\n",
      "midi.base.py: WARNING: Conversion error for <MidiEvent PROGRAM_CHANGE, t=0, track=6, channel=1>: Got incorrect data for <MidiEvent PROGRAM_CHANGE, t=0, track=6, channel=1> in .data: None,cannot parse Program Change; ignored.\n",
      "midi.base.py: WARNING: Conversion error for <MidiEvent PROGRAM_CHANGE, t=0, track=10, channel=1>: Got incorrect data for <MidiEvent PROGRAM_CHANGE, t=0, track=10, channel=1> in .data: None,cannot parse Program Change; ignored.\n",
      "midi.base.py: WARNING: Conversion error for <MidiEvent PROGRAM_CHANGE, t=0, track=11, channel=1>: Got incorrect data for <MidiEvent PROGRAM_CHANGE, t=0, track=11, channel=1> in .data: None,cannot parse Program Change; ignored.\n",
      "midi.base.py: WARNING: Conversion error for <MidiEvent PROGRAM_CHANGE, t=0, track=12, channel=1>: Got incorrect data for <MidiEvent PROGRAM_CHANGE, t=0, track=12, channel=1> in .data: None,cannot parse Program Change; ignored.\n"
     ]
    },
    {
     "name": "stdout",
     "output_type": "stream",
     "text": [
      "('C', 'major')\n"
     ]
    },
    {
     "name": "stderr",
     "output_type": "stream",
     "text": [
      "midi.base.py: WARNING: Conversion error for <MidiEvent PROGRAM_CHANGE, t=0, track=1, channel=1>: Got incorrect data for <MidiEvent PROGRAM_CHANGE, t=0, track=1, channel=1> in .data: None,cannot parse Program Change; ignored.\n",
      "midi.base.py: WARNING: Conversion error for <MidiEvent PROGRAM_CHANGE, t=0, track=1, channel=1>: Got incorrect data for <MidiEvent PROGRAM_CHANGE, t=0, track=1, channel=1> in .data: None,cannot parse Program Change; ignored.\n",
      "midi.base.py: WARNING: Conversion error for <MidiEvent PROGRAM_CHANGE, t=0, track=1, channel=1>: Got incorrect data for <MidiEvent PROGRAM_CHANGE, t=0, track=1, channel=1> in .data: None,cannot parse Program Change; ignored.\n",
      "midi.base.py: WARNING: Conversion error for <MidiEvent PROGRAM_CHANGE, t=0, track=1, channel=1>: Got incorrect data for <MidiEvent PROGRAM_CHANGE, t=0, track=1, channel=1> in .data: None,cannot parse Program Change; ignored.\n",
      "midi.base.py: WARNING: Conversion error for <MidiEvent PROGRAM_CHANGE, t=0, track=1, channel=1>: Got incorrect data for <MidiEvent PROGRAM_CHANGE, t=0, track=1, channel=1> in .data: None,cannot parse Program Change; ignored.\n",
      "midi.base.py: WARNING: Conversion error for <MidiEvent PROGRAM_CHANGE, t=0, track=1, channel=1>: Got incorrect data for <MidiEvent PROGRAM_CHANGE, t=0, track=1, channel=1> in .data: None,cannot parse Program Change; ignored.\n",
      "midi.base.py: WARNING: Conversion error for <MidiEvent PROGRAM_CHANGE, t=0, track=1, channel=1>: Got incorrect data for <MidiEvent PROGRAM_CHANGE, t=0, track=1, channel=1> in .data: None,cannot parse Program Change; ignored.\n"
     ]
    },
    {
     "name": "stdout",
     "output_type": "stream",
     "text": [
      "('C', 'minor')\n"
     ]
    },
    {
     "name": "stderr",
     "output_type": "stream",
     "text": [
      "midi.base.py: WARNING: Conversion error for <MidiEvent PROGRAM_CHANGE, t=0, track=1, channel=1>: Got incorrect data for <MidiEvent PROGRAM_CHANGE, t=0, track=1, channel=1> in .data: None,cannot parse Program Change; ignored.\n"
     ]
    },
    {
     "name": "stdout",
     "output_type": "stream",
     "text": [
      "('C', 'minor')\n"
     ]
    },
    {
     "name": "stderr",
     "output_type": "stream",
     "text": [
      "midi.base.py: WARNING: Conversion error for <MidiEvent PROGRAM_CHANGE, t=0, track=1, channel=1>: Got incorrect data for <MidiEvent PROGRAM_CHANGE, t=0, track=1, channel=1> in .data: None,cannot parse Program Change; ignored.\n",
      "midi.base.py: WARNING: Conversion error for <MidiEvent PROGRAM_CHANGE, t=0, track=1, channel=1>: Got incorrect data for <MidiEvent PROGRAM_CHANGE, t=0, track=1, channel=1> in .data: None,cannot parse Program Change; ignored.\n",
      "midi.base.py: WARNING: Conversion error for <MidiEvent PROGRAM_CHANGE, t=0, track=2, channel=1>: Got incorrect data for <MidiEvent PROGRAM_CHANGE, t=0, track=2, channel=1> in .data: None,cannot parse Program Change; ignored.\n",
      "midi.base.py: WARNING: Conversion error for <MidiEvent PROGRAM_CHANGE, t=0, track=2, channel=1>: Got incorrect data for <MidiEvent PROGRAM_CHANGE, t=0, track=2, channel=1> in .data: None,cannot parse Program Change; ignored.\n"
     ]
    },
    {
     "name": "stdout",
     "output_type": "stream",
     "text": [
      "('C', 'major')\n"
     ]
    },
    {
     "name": "stderr",
     "output_type": "stream",
     "text": [
      "midi.base.py: WARNING: Conversion error for <MidiEvent PROGRAM_CHANGE, t=0, track=1, channel=1>: Got incorrect data for <MidiEvent PROGRAM_CHANGE, t=0, track=1, channel=1> in .data: None,cannot parse Program Change; ignored.\n",
      "midi.base.py: WARNING: Conversion error for <MidiEvent PROGRAM_CHANGE, t=0, track=2, channel=1>: Got incorrect data for <MidiEvent PROGRAM_CHANGE, t=0, track=2, channel=1> in .data: None,cannot parse Program Change; ignored.\n",
      "midi.base.py: WARNING: Conversion error for <MidiEvent PROGRAM_CHANGE, t=0, track=3, channel=1>: Got incorrect data for <MidiEvent PROGRAM_CHANGE, t=0, track=3, channel=1> in .data: None,cannot parse Program Change; ignored.\n",
      "midi.base.py: WARNING: Conversion error for <MidiEvent PROGRAM_CHANGE, t=0, track=6, channel=1>: Got incorrect data for <MidiEvent PROGRAM_CHANGE, t=0, track=6, channel=1> in .data: None,cannot parse Program Change; ignored.\n",
      "midi.base.py: WARNING: Conversion error for <MidiEvent PROGRAM_CHANGE, t=0, track=7, channel=1>: Got incorrect data for <MidiEvent PROGRAM_CHANGE, t=0, track=7, channel=1> in .data: None,cannot parse Program Change; ignored.\n",
      "midi.base.py: WARNING: Conversion error for <MidiEvent PROGRAM_CHANGE, t=0, track=8, channel=1>: Got incorrect data for <MidiEvent PROGRAM_CHANGE, t=0, track=8, channel=1> in .data: None,cannot parse Program Change; ignored.\n",
      "midi.base.py: WARNING: Conversion error for <MidiEvent PROGRAM_CHANGE, t=0, track=9, channel=1>: Got incorrect data for <MidiEvent PROGRAM_CHANGE, t=0, track=9, channel=1> in .data: None,cannot parse Program Change; ignored.\n"
     ]
    },
    {
     "name": "stdout",
     "output_type": "stream",
     "text": [
      "('C', 'major')\n",
      "('C', 'major')\n"
     ]
    },
    {
     "name": "stderr",
     "output_type": "stream",
     "text": [
      "midi.base.py: WARNING: Conversion error for <MidiEvent PROGRAM_CHANGE, t=0, track=1, channel=1>: Got incorrect data for <MidiEvent PROGRAM_CHANGE, t=0, track=1, channel=1> in .data: None,cannot parse Program Change; ignored.\n",
      "midi.base.py: WARNING: Conversion error for <MidiEvent PROGRAM_CHANGE, t=0, track=3, channel=1>: Got incorrect data for <MidiEvent PROGRAM_CHANGE, t=0, track=3, channel=1> in .data: None,cannot parse Program Change; ignored.\n",
      "midi.base.py: WARNING: Conversion error for <MidiEvent PROGRAM_CHANGE, t=0, track=5, channel=4>: Got incorrect data for <MidiEvent PROGRAM_CHANGE, t=0, track=5, channel=4> in .data: None,cannot parse Program Change; ignored.\n",
      "midi.base.py: WARNING: Conversion error for <MidiEvent PROGRAM_CHANGE, t=0, track=6, channel=1>: Got incorrect data for <MidiEvent PROGRAM_CHANGE, t=0, track=6, channel=1> in .data: None,cannot parse Program Change; ignored.\n",
      "midi.base.py: WARNING: Conversion error for <MidiEvent PROGRAM_CHANGE, t=0, track=6, channel=1>: Got incorrect data for <MidiEvent PROGRAM_CHANGE, t=0, track=6, channel=1> in .data: None,cannot parse Program Change; ignored.\n",
      "midi.base.py: WARNING: Conversion error for <MidiEvent PROGRAM_CHANGE, t=0, track=10, channel=1>: Got incorrect data for <MidiEvent PROGRAM_CHANGE, t=0, track=10, channel=1> in .data: None,cannot parse Program Change; ignored.\n",
      "midi.base.py: WARNING: Conversion error for <MidiEvent PROGRAM_CHANGE, t=0, track=10, channel=1>: Got incorrect data for <MidiEvent PROGRAM_CHANGE, t=0, track=10, channel=1> in .data: None,cannot parse Program Change; ignored.\n",
      "midi.base.py: WARNING: Conversion error for <MidiEvent PROGRAM_CHANGE, t=0, track=11, channel=1>: Got incorrect data for <MidiEvent PROGRAM_CHANGE, t=0, track=11, channel=1> in .data: None,cannot parse Program Change; ignored.\n",
      "midi.base.py: WARNING: Conversion error for <MidiEvent PROGRAM_CHANGE, t=0, track=12, channel=1>: Got incorrect data for <MidiEvent PROGRAM_CHANGE, t=0, track=12, channel=1> in .data: None,cannot parse Program Change; ignored.\n"
     ]
    },
    {
     "name": "stdout",
     "output_type": "stream",
     "text": [
      "('C', 'major')\n"
     ]
    },
    {
     "name": "stderr",
     "output_type": "stream",
     "text": [
      "midi.base.py: WARNING: Conversion error for <MidiEvent PROGRAM_CHANGE, t=0, track=1, channel=1>: Got incorrect data for <MidiEvent PROGRAM_CHANGE, t=0, track=1, channel=1> in .data: None,cannot parse Program Change; ignored.\n",
      "midi.base.py: WARNING: Conversion error for <MidiEvent PROGRAM_CHANGE, t=0, track=1, channel=1>: Got incorrect data for <MidiEvent PROGRAM_CHANGE, t=0, track=1, channel=1> in .data: None,cannot parse Program Change; ignored.\n",
      "midi.base.py: WARNING: Conversion error for <MidiEvent PROGRAM_CHANGE, t=0, track=1, channel=1>: Got incorrect data for <MidiEvent PROGRAM_CHANGE, t=0, track=1, channel=1> in .data: None,cannot parse Program Change; ignored.\n"
     ]
    },
    {
     "name": "stdout",
     "output_type": "stream",
     "text": [
      "('C', 'minor')\n"
     ]
    },
    {
     "name": "stderr",
     "output_type": "stream",
     "text": [
      "midi.base.py: WARNING: Conversion error for <MidiEvent PROGRAM_CHANGE, t=0, track=3, channel=3>: Got incorrect data for <MidiEvent PROGRAM_CHANGE, t=0, track=3, channel=3> in .data: None,cannot parse Program Change; ignored.\n",
      "midi.base.py: WARNING: Conversion error for <MidiEvent PROGRAM_CHANGE, t=0, track=5, channel=3>: Got incorrect data for <MidiEvent PROGRAM_CHANGE, t=0, track=5, channel=3> in .data: None,cannot parse Program Change; ignored.\n",
      "midi.base.py: WARNING: Conversion error for <MidiEvent PROGRAM_CHANGE, t=0, track=6, channel=3>: Got incorrect data for <MidiEvent PROGRAM_CHANGE, t=0, track=6, channel=3> in .data: None,cannot parse Program Change; ignored.\n"
     ]
    },
    {
     "name": "stdout",
     "output_type": "stream",
     "text": [
      "('C', 'major')\n"
     ]
    },
    {
     "name": "stderr",
     "output_type": "stream",
     "text": [
      "midi.base.py: WARNING: Conversion error for <MidiEvent PROGRAM_CHANGE, t=0, track=1, channel=1>: Got incorrect data for <MidiEvent PROGRAM_CHANGE, t=0, track=1, channel=1> in .data: None,cannot parse Program Change; ignored.\n",
      "midi.base.py: WARNING: Conversion error for <MidiEvent PROGRAM_CHANGE, t=0, track=1, channel=1>: Got incorrect data for <MidiEvent PROGRAM_CHANGE, t=0, track=1, channel=1> in .data: None,cannot parse Program Change; ignored.\n",
      "midi.base.py: WARNING: Conversion error for <MidiEvent PROGRAM_CHANGE, t=0, track=1, channel=1>: Got incorrect data for <MidiEvent PROGRAM_CHANGE, t=0, track=1, channel=1> in .data: None,cannot parse Program Change; ignored.\n"
     ]
    },
    {
     "ename": "IndexError",
     "evalue": "string index out of range",
     "output_type": "error",
     "traceback": [
      "\u001b[0;31m-----------------------------------------------------------\u001b[0m",
      "\u001b[0;31mIndexError\u001b[0m                Traceback (most recent call last)",
      "\u001b[0;32m<ipython-input-4-c6a212ee6ea3>\u001b[0m in \u001b[0;36m<module>\u001b[0;34m()\u001b[0m\n\u001b[1;32m     11\u001b[0m \u001b[0;34m\u001b[0m\u001b[0m\n\u001b[1;32m     12\u001b[0m \u001b[0;32mfor\u001b[0m \u001b[0mfile\u001b[0m \u001b[0;32min\u001b[0m \u001b[0mglob\u001b[0m\u001b[0;34m.\u001b[0m\u001b[0mglob\u001b[0m\u001b[0;34m(\u001b[0m\u001b[0;34m\"*.mid\"\u001b[0m\u001b[0;34m)\u001b[0m\u001b[0;34m:\u001b[0m\u001b[0;34m\u001b[0m\u001b[0m\n\u001b[0;32m---> 13\u001b[0;31m     \u001b[0mscore\u001b[0m \u001b[0;34m=\u001b[0m \u001b[0mmusic21\u001b[0m\u001b[0;34m.\u001b[0m\u001b[0mconverter\u001b[0m\u001b[0;34m.\u001b[0m\u001b[0mparse\u001b[0m\u001b[0;34m(\u001b[0m\u001b[0mfile\u001b[0m\u001b[0;34m)\u001b[0m\u001b[0;34m\u001b[0m\u001b[0m\n\u001b[0m\u001b[1;32m     14\u001b[0m     \u001b[0mkey\u001b[0m \u001b[0;34m=\u001b[0m \u001b[0mscore\u001b[0m\u001b[0;34m.\u001b[0m\u001b[0manalyze\u001b[0m\u001b[0;34m(\u001b[0m\u001b[0;34m'key'\u001b[0m\u001b[0;34m)\u001b[0m\u001b[0;34m\u001b[0m\u001b[0m\n\u001b[1;32m     15\u001b[0m     \u001b[0mhalfSteps\u001b[0m \u001b[0;34m=\u001b[0m \u001b[0mkey_halfsteps\u001b[0m\u001b[0;34m[\u001b[0m\u001b[0mkey\u001b[0m\u001b[0;34m.\u001b[0m\u001b[0mtonic\u001b[0m\u001b[0;34m.\u001b[0m\u001b[0mname\u001b[0m\u001b[0;34m]\u001b[0m\u001b[0;34m\u001b[0m\u001b[0m\n",
      "\u001b[0;32m/home/eko/anaconda2/lib/python2.7/site-packages/music21/converter/__init__.pyc\u001b[0m in \u001b[0;36mparse\u001b[0;34m(value, *args, **keywords)\u001b[0m\n\u001b[1;32m   1085\u001b[0m     \u001b[0;32melif\u001b[0m \u001b[0mos\u001b[0m\u001b[0;34m.\u001b[0m\u001b[0mpath\u001b[0m\u001b[0;34m.\u001b[0m\u001b[0mexists\u001b[0m\u001b[0;34m(\u001b[0m\u001b[0mvalue\u001b[0m\u001b[0;34m)\u001b[0m\u001b[0;34m:\u001b[0m\u001b[0;34m\u001b[0m\u001b[0m\n\u001b[1;32m   1086\u001b[0m         return parseFile(value, number=number, format=m21Format, \n\u001b[0;32m-> 1087\u001b[0;31m                          forceSource=forceSource, **keywords)\n\u001b[0m\u001b[1;32m   1088\u001b[0m     \u001b[0;32melif\u001b[0m \u001b[0mos\u001b[0m\u001b[0;34m.\u001b[0m\u001b[0mpath\u001b[0m\u001b[0;34m.\u001b[0m\u001b[0mexists\u001b[0m\u001b[0;34m(\u001b[0m\u001b[0mcommon\u001b[0m\u001b[0;34m.\u001b[0m\u001b[0mcleanpath\u001b[0m\u001b[0;34m(\u001b[0m\u001b[0mvalue\u001b[0m\u001b[0;34m)\u001b[0m\u001b[0;34m)\u001b[0m\u001b[0;34m:\u001b[0m\u001b[0;34m\u001b[0m\u001b[0m\n\u001b[1;32m   1089\u001b[0m         return parseFile(common.cleanpath(value), number=number, format=m21Format, \n",
      "\u001b[0;32m/home/eko/anaconda2/lib/python2.7/site-packages/music21/converter/__init__.pyc\u001b[0m in \u001b[0;36mparseFile\u001b[0;34m(fp, number, format, forceSource, **keywords)\u001b[0m\n\u001b[1;32m    973\u001b[0m     \u001b[0mv\u001b[0m \u001b[0;34m=\u001b[0m \u001b[0mConverter\u001b[0m\u001b[0;34m(\u001b[0m\u001b[0;34m)\u001b[0m\u001b[0;34m\u001b[0m\u001b[0m\n\u001b[1;32m    974\u001b[0m     \u001b[0mfp\u001b[0m \u001b[0;34m=\u001b[0m \u001b[0mcommon\u001b[0m\u001b[0;34m.\u001b[0m\u001b[0mcleanpath\u001b[0m\u001b[0;34m(\u001b[0m\u001b[0mfp\u001b[0m\u001b[0;34m)\u001b[0m\u001b[0;34m\u001b[0m\u001b[0m\n\u001b[0;32m--> 975\u001b[0;31m     \u001b[0mv\u001b[0m\u001b[0;34m.\u001b[0m\u001b[0mparseFile\u001b[0m\u001b[0;34m(\u001b[0m\u001b[0mfp\u001b[0m\u001b[0;34m,\u001b[0m \u001b[0mnumber\u001b[0m\u001b[0;34m=\u001b[0m\u001b[0mnumber\u001b[0m\u001b[0;34m,\u001b[0m \u001b[0mformat\u001b[0m\u001b[0;34m=\u001b[0m\u001b[0mformat\u001b[0m\u001b[0;34m,\u001b[0m \u001b[0mforceSource\u001b[0m\u001b[0;34m=\u001b[0m\u001b[0mforceSource\u001b[0m\u001b[0;34m,\u001b[0m \u001b[0;34m**\u001b[0m\u001b[0mkeywords\u001b[0m\u001b[0;34m)\u001b[0m\u001b[0;34m\u001b[0m\u001b[0m\n\u001b[0m\u001b[1;32m    976\u001b[0m     \u001b[0;32mreturn\u001b[0m \u001b[0mv\u001b[0m\u001b[0;34m.\u001b[0m\u001b[0mstream\u001b[0m\u001b[0;34m\u001b[0m\u001b[0m\n\u001b[1;32m    977\u001b[0m \u001b[0;34m\u001b[0m\u001b[0m\n",
      "\u001b[0;32m/home/eko/anaconda2/lib/python2.7/site-packages/music21/converter/__init__.pyc\u001b[0m in \u001b[0;36mparseFile\u001b[0;34m(self, fp, number, format, forceSource, storePickle, **keywords)\u001b[0m\n\u001b[1;32m    507\u001b[0m         \u001b[0;32melse\u001b[0m\u001b[0;34m:\u001b[0m\u001b[0;34m\u001b[0m\u001b[0m\n\u001b[1;32m    508\u001b[0m             \u001b[0menvironLocal\u001b[0m\u001b[0;34m.\u001b[0m\u001b[0mprintDebug\u001b[0m\u001b[0;34m(\u001b[0m\u001b[0;34m\"Loading original version\"\u001b[0m\u001b[0;34m)\u001b[0m\u001b[0;34m\u001b[0m\u001b[0m\n\u001b[0;32m--> 509\u001b[0;31m             \u001b[0mself\u001b[0m\u001b[0;34m.\u001b[0m\u001b[0mparseFileNoPickle\u001b[0m\u001b[0;34m(\u001b[0m\u001b[0mfp\u001b[0m\u001b[0;34m,\u001b[0m \u001b[0mnumber\u001b[0m\u001b[0;34m,\u001b[0m \u001b[0mformat\u001b[0m\u001b[0;34m,\u001b[0m \u001b[0mforceSource\u001b[0m\u001b[0;34m,\u001b[0m \u001b[0;34m**\u001b[0m\u001b[0mkeywords\u001b[0m\u001b[0;34m)\u001b[0m\u001b[0;34m\u001b[0m\u001b[0m\n\u001b[0m\u001b[1;32m    510\u001b[0m             \u001b[0;32mif\u001b[0m \u001b[0mwritePickle\u001b[0m \u001b[0;32mis\u001b[0m \u001b[0mTrue\u001b[0m \u001b[0;32mand\u001b[0m \u001b[0mfpPickle\u001b[0m \u001b[0;32mis\u001b[0m \u001b[0;32mnot\u001b[0m \u001b[0mNone\u001b[0m \u001b[0;32mand\u001b[0m \u001b[0mstorePickle\u001b[0m \u001b[0;32mis\u001b[0m \u001b[0mTrue\u001b[0m\u001b[0;34m:\u001b[0m\u001b[0;34m\u001b[0m\u001b[0m\n\u001b[1;32m    511\u001b[0m                 \u001b[0;31m# save the stream to disk...\u001b[0m\u001b[0;34m\u001b[0m\u001b[0;34m\u001b[0m\u001b[0m\n",
      "\u001b[0;32m/home/eko/anaconda2/lib/python2.7/site-packages/music21/converter/__init__.pyc\u001b[0m in \u001b[0;36mparseFileNoPickle\u001b[0;34m(self, fp, number, format, forceSource, **keywords)\u001b[0m\n\u001b[1;32m    444\u001b[0m         \u001b[0mself\u001b[0m\u001b[0;34m.\u001b[0m\u001b[0msetSubconverterFromFormat\u001b[0m\u001b[0;34m(\u001b[0m\u001b[0museFormat\u001b[0m\u001b[0;34m)\u001b[0m\u001b[0;34m\u001b[0m\u001b[0m\n\u001b[1;32m    445\u001b[0m         \u001b[0mself\u001b[0m\u001b[0;34m.\u001b[0m\u001b[0msubConverter\u001b[0m\u001b[0;34m.\u001b[0m\u001b[0mkeywords\u001b[0m \u001b[0;34m=\u001b[0m \u001b[0mkeywords\u001b[0m\u001b[0;34m\u001b[0m\u001b[0m\n\u001b[0;32m--> 446\u001b[0;31m         \u001b[0mself\u001b[0m\u001b[0;34m.\u001b[0m\u001b[0msubConverter\u001b[0m\u001b[0;34m.\u001b[0m\u001b[0mparseFile\u001b[0m\u001b[0;34m(\u001b[0m\u001b[0mfp\u001b[0m\u001b[0;34m,\u001b[0m \u001b[0mnumber\u001b[0m\u001b[0;34m=\u001b[0m\u001b[0mnumber\u001b[0m\u001b[0;34m,\u001b[0m \u001b[0;34m**\u001b[0m\u001b[0mkeywords\u001b[0m\u001b[0;34m)\u001b[0m\u001b[0;34m\u001b[0m\u001b[0m\n\u001b[0m\u001b[1;32m    447\u001b[0m         \u001b[0mself\u001b[0m\u001b[0;34m.\u001b[0m\u001b[0mstream\u001b[0m\u001b[0;34m.\u001b[0m\u001b[0mfilePath\u001b[0m \u001b[0;34m=\u001b[0m \u001b[0mfp\u001b[0m\u001b[0;34m\u001b[0m\u001b[0m\n\u001b[1;32m    448\u001b[0m         \u001b[0mself\u001b[0m\u001b[0;34m.\u001b[0m\u001b[0mstream\u001b[0m\u001b[0;34m.\u001b[0m\u001b[0mfileNumber\u001b[0m \u001b[0;34m=\u001b[0m \u001b[0mnumber\u001b[0m\u001b[0;34m\u001b[0m\u001b[0m\n",
      "\u001b[0;32m/home/eko/anaconda2/lib/python2.7/site-packages/music21/converter/subConverters.pyc\u001b[0m in \u001b[0;36mparseFile\u001b[0;34m(self, fp, number, **keywords)\u001b[0m\n\u001b[1;32m    848\u001b[0m         '''\n\u001b[1;32m    849\u001b[0m         \u001b[0;32mfrom\u001b[0m \u001b[0mmusic21\u001b[0m\u001b[0;34m.\u001b[0m\u001b[0mmidi\u001b[0m \u001b[0;32mimport\u001b[0m \u001b[0mtranslate\u001b[0m \u001b[0;32mas\u001b[0m \u001b[0mmidiTranslate\u001b[0m\u001b[0;34m\u001b[0m\u001b[0m\n\u001b[0;32m--> 850\u001b[0;31m         \u001b[0mmidiTranslate\u001b[0m\u001b[0;34m.\u001b[0m\u001b[0mmidiFilePathToStream\u001b[0m\u001b[0;34m(\u001b[0m\u001b[0mfp\u001b[0m\u001b[0;34m,\u001b[0m \u001b[0mself\u001b[0m\u001b[0;34m.\u001b[0m\u001b[0mstream\u001b[0m\u001b[0;34m,\u001b[0m \u001b[0;34m**\u001b[0m\u001b[0mkeywords\u001b[0m\u001b[0;34m)\u001b[0m\u001b[0;34m\u001b[0m\u001b[0m\n\u001b[0m\u001b[1;32m    851\u001b[0m \u001b[0;34m\u001b[0m\u001b[0m\n\u001b[1;32m    852\u001b[0m     \u001b[0;32mdef\u001b[0m \u001b[0mwrite\u001b[0m\u001b[0;34m(\u001b[0m\u001b[0mself\u001b[0m\u001b[0;34m,\u001b[0m \u001b[0mobj\u001b[0m\u001b[0;34m,\u001b[0m \u001b[0mfmt\u001b[0m\u001b[0;34m,\u001b[0m \u001b[0mfp\u001b[0m\u001b[0;34m=\u001b[0m\u001b[0mNone\u001b[0m\u001b[0;34m,\u001b[0m \u001b[0msubformats\u001b[0m\u001b[0;34m=\u001b[0m\u001b[0mNone\u001b[0m\u001b[0;34m,\u001b[0m \u001b[0;34m**\u001b[0m\u001b[0mkeywords\u001b[0m\u001b[0;34m)\u001b[0m\u001b[0;34m:\u001b[0m\u001b[0;34m\u001b[0m\u001b[0m\n",
      "\u001b[0;32m/home/eko/anaconda2/lib/python2.7/site-packages/music21/midi/translate.pyc\u001b[0m in \u001b[0;36mmidiFilePathToStream\u001b[0;34m(filePath, inputM21, **keywords)\u001b[0m\n\u001b[1;32m   1943\u001b[0m     \u001b[0mmf\u001b[0m \u001b[0;34m=\u001b[0m \u001b[0mmidiModule\u001b[0m\u001b[0;34m.\u001b[0m\u001b[0mMidiFile\u001b[0m\u001b[0;34m(\u001b[0m\u001b[0;34m)\u001b[0m\u001b[0;34m\u001b[0m\u001b[0m\n\u001b[1;32m   1944\u001b[0m     \u001b[0mmf\u001b[0m\u001b[0;34m.\u001b[0m\u001b[0mopen\u001b[0m\u001b[0;34m(\u001b[0m\u001b[0mfilePath\u001b[0m\u001b[0;34m)\u001b[0m\u001b[0;34m\u001b[0m\u001b[0m\n\u001b[0;32m-> 1945\u001b[0;31m     \u001b[0mmf\u001b[0m\u001b[0;34m.\u001b[0m\u001b[0mread\u001b[0m\u001b[0;34m(\u001b[0m\u001b[0;34m)\u001b[0m\u001b[0;34m\u001b[0m\u001b[0m\n\u001b[0m\u001b[1;32m   1946\u001b[0m     \u001b[0mmf\u001b[0m\u001b[0;34m.\u001b[0m\u001b[0mclose\u001b[0m\u001b[0;34m(\u001b[0m\u001b[0;34m)\u001b[0m\u001b[0;34m\u001b[0m\u001b[0m\n\u001b[1;32m   1947\u001b[0m     \u001b[0;32mreturn\u001b[0m \u001b[0mmidiFileToStream\u001b[0m\u001b[0;34m(\u001b[0m\u001b[0mmf\u001b[0m\u001b[0;34m,\u001b[0m \u001b[0minputM21\u001b[0m\u001b[0;34m,\u001b[0m \u001b[0;34m**\u001b[0m\u001b[0mkeywords\u001b[0m\u001b[0;34m)\u001b[0m\u001b[0;34m\u001b[0m\u001b[0m\n",
      "\u001b[0;32m/home/eko/anaconda2/lib/python2.7/site-packages/music21/midi/__init__.pyc\u001b[0m in \u001b[0;36mread\u001b[0;34m(self)\u001b[0m\n\u001b[1;32m   1236\u001b[0m         \u001b[0mRead\u001b[0m \u001b[0;32mand\u001b[0m \u001b[0mparse\u001b[0m \u001b[0mMIDI\u001b[0m \u001b[0mdata\u001b[0m \u001b[0mstored\u001b[0m \u001b[0;32min\u001b[0m \u001b[0ma\u001b[0m \u001b[0mfile\u001b[0m\u001b[0;34m.\u001b[0m\u001b[0;34m\u001b[0m\u001b[0m\n\u001b[1;32m   1237\u001b[0m         '''\n\u001b[0;32m-> 1238\u001b[0;31m         \u001b[0mself\u001b[0m\u001b[0;34m.\u001b[0m\u001b[0mreadstr\u001b[0m\u001b[0;34m(\u001b[0m\u001b[0mself\u001b[0m\u001b[0;34m.\u001b[0m\u001b[0mfile\u001b[0m\u001b[0;34m.\u001b[0m\u001b[0mread\u001b[0m\u001b[0;34m(\u001b[0m\u001b[0;34m)\u001b[0m\u001b[0;34m)\u001b[0m\u001b[0;34m\u001b[0m\u001b[0m\n\u001b[0m\u001b[1;32m   1239\u001b[0m \u001b[0;34m\u001b[0m\u001b[0m\n\u001b[1;32m   1240\u001b[0m     \u001b[0;32mdef\u001b[0m \u001b[0mreadstr\u001b[0m\u001b[0;34m(\u001b[0m\u001b[0mself\u001b[0m\u001b[0;34m,\u001b[0m \u001b[0mmidiStr\u001b[0m\u001b[0;34m)\u001b[0m\u001b[0;34m:\u001b[0m\u001b[0;34m\u001b[0m\u001b[0m\n",
      "\u001b[0;32m/home/eko/anaconda2/lib/python2.7/site-packages/music21/midi/__init__.pyc\u001b[0m in \u001b[0;36mreadstr\u001b[0;34m(self, midiStr)\u001b[0m\n\u001b[1;32m   1279\u001b[0m         \u001b[0;32mfor\u001b[0m \u001b[0mi\u001b[0m \u001b[0;32min\u001b[0m \u001b[0mrange\u001b[0m\u001b[0;34m(\u001b[0m\u001b[0mnumTracks\u001b[0m\u001b[0;34m)\u001b[0m\u001b[0;34m:\u001b[0m\u001b[0;34m\u001b[0m\u001b[0m\n\u001b[1;32m   1280\u001b[0m             \u001b[0mtrk\u001b[0m \u001b[0;34m=\u001b[0m \u001b[0mMidiTrack\u001b[0m\u001b[0;34m(\u001b[0m\u001b[0mi\u001b[0m\u001b[0;34m)\u001b[0m \u001b[0;31m# sets the MidiTrack index parameters\u001b[0m\u001b[0;34m\u001b[0m\u001b[0m\n\u001b[0;32m-> 1281\u001b[0;31m             \u001b[0mmidiStr\u001b[0m \u001b[0;34m=\u001b[0m \u001b[0mtrk\u001b[0m\u001b[0;34m.\u001b[0m\u001b[0mread\u001b[0m\u001b[0;34m(\u001b[0m\u001b[0mmidiStr\u001b[0m\u001b[0;34m)\u001b[0m \u001b[0;31m# pass all the remaining string, reassing\u001b[0m\u001b[0;34m\u001b[0m\u001b[0m\n\u001b[0m\u001b[1;32m   1282\u001b[0m             \u001b[0mself\u001b[0m\u001b[0;34m.\u001b[0m\u001b[0mtracks\u001b[0m\u001b[0;34m.\u001b[0m\u001b[0mappend\u001b[0m\u001b[0;34m(\u001b[0m\u001b[0mtrk\u001b[0m\u001b[0;34m)\u001b[0m\u001b[0;34m\u001b[0m\u001b[0m\n\u001b[1;32m   1283\u001b[0m \u001b[0;34m\u001b[0m\u001b[0m\n",
      "\u001b[0;32m/home/eko/anaconda2/lib/python2.7/site-packages/music21/midi/__init__.pyc\u001b[0m in \u001b[0;36mread\u001b[0;34m(self, midiStr)\u001b[0m\n\u001b[1;32m   1089\u001b[0m             \u001b[0;31m# some midi events may raise errors; simply skip for now\u001b[0m\u001b[0;34m\u001b[0m\u001b[0;34m\u001b[0m\u001b[0m\n\u001b[1;32m   1090\u001b[0m             \u001b[0;32mtry\u001b[0m\u001b[0;34m:\u001b[0m\u001b[0;34m\u001b[0m\u001b[0m\n\u001b[0;32m-> 1091\u001b[0;31m                 \u001b[0mtrackStrCandidate\u001b[0m \u001b[0;34m=\u001b[0m \u001b[0me\u001b[0m\u001b[0;34m.\u001b[0m\u001b[0mread\u001b[0m\u001b[0;34m(\u001b[0m\u001b[0mtimeCandidate\u001b[0m\u001b[0;34m,\u001b[0m \u001b[0mtrackStrCandidate\u001b[0m\u001b[0;34m)\u001b[0m\u001b[0;34m\u001b[0m\u001b[0m\n\u001b[0m\u001b[1;32m   1092\u001b[0m             \u001b[0;32mexcept\u001b[0m \u001b[0mMidiException\u001b[0m\u001b[0;34m:\u001b[0m\u001b[0;34m\u001b[0m\u001b[0m\n\u001b[1;32m   1093\u001b[0m                 \u001b[0;31m# assume that trackStr, after delta extraction, is still correct\u001b[0m\u001b[0;34m\u001b[0m\u001b[0;34m\u001b[0m\u001b[0m\n",
      "\u001b[0;32m/home/eko/anaconda2/lib/python2.7/site-packages/music21/midi/__init__.pyc\u001b[0m in \u001b[0;36mread\u001b[0;34m(self, time, midiStr)\u001b[0m\n\u001b[1;32m    773\u001b[0m \u001b[0;34m\u001b[0m\u001b[0m\n\u001b[1;32m    774\u001b[0m         \u001b[0;32mif\u001b[0m \u001b[0mchannelVoiceMessages\u001b[0m\u001b[0;34m.\u001b[0m\u001b[0mhasValue\u001b[0m\u001b[0;34m(\u001b[0m\u001b[0my\u001b[0m\u001b[0;34m)\u001b[0m\u001b[0;34m:\u001b[0m\u001b[0;34m\u001b[0m\u001b[0m\n\u001b[0;32m--> 775\u001b[0;31m             \u001b[0;32mreturn\u001b[0m \u001b[0mself\u001b[0m\u001b[0;34m.\u001b[0m\u001b[0m_parseChannelVoiceMessage\u001b[0m\u001b[0;34m(\u001b[0m\u001b[0mmidiStr\u001b[0m\u001b[0;34m)\u001b[0m\u001b[0;34m\u001b[0m\u001b[0m\n\u001b[0m\u001b[1;32m    776\u001b[0m \u001b[0;34m\u001b[0m\u001b[0m\n\u001b[1;32m    777\u001b[0m         \u001b[0;32melif\u001b[0m \u001b[0my\u001b[0m \u001b[0;34m==\u001b[0m \u001b[0;36m0xB0\u001b[0m \u001b[0;32mand\u001b[0m \u001b[0mchannelModeMessages\u001b[0m\u001b[0;34m.\u001b[0m\u001b[0mhasValue\u001b[0m\u001b[0;34m(\u001b[0m\u001b[0mz\u001b[0m\u001b[0;34m)\u001b[0m\u001b[0;34m:\u001b[0m\u001b[0;34m\u001b[0m\u001b[0m\n",
      "\u001b[0;32m/home/eko/anaconda2/lib/python2.7/site-packages/music21/midi/__init__.pyc\u001b[0m in \u001b[0;36m_parseChannelVoiceMessage\u001b[0;34m(self, midiStr)\u001b[0m\n\u001b[1;32m    668\u001b[0m         \u001b[0;32melse\u001b[0m\u001b[0;34m:\u001b[0m\u001b[0;34m\u001b[0m\u001b[0m\n\u001b[1;32m    669\u001b[0m             \u001b[0mz\u001b[0m \u001b[0;34m=\u001b[0m \u001b[0mord\u001b[0m\u001b[0;34m(\u001b[0m\u001b[0mmidiStr\u001b[0m\u001b[0;34m[\u001b[0m\u001b[0;36m1\u001b[0m\u001b[0;34m]\u001b[0m\u001b[0;34m)\u001b[0m  \u001b[0;31m# given a string representation, get decimal number\u001b[0m\u001b[0;34m\u001b[0m\u001b[0m\n\u001b[0;32m--> 670\u001b[0;31m         \u001b[0;32mif\u001b[0m \u001b[0mcommon\u001b[0m\u001b[0;34m.\u001b[0m\u001b[0misNum\u001b[0m\u001b[0;34m(\u001b[0m\u001b[0mmidiStr\u001b[0m\u001b[0;34m[\u001b[0m\u001b[0;36m2\u001b[0m\u001b[0;34m]\u001b[0m\u001b[0;34m)\u001b[0m\u001b[0;34m:\u001b[0m\u001b[0;34m\u001b[0m\u001b[0m\n\u001b[0m\u001b[1;32m    671\u001b[0m             \u001b[0mthirdByte\u001b[0m \u001b[0;34m=\u001b[0m \u001b[0mmidiStr\u001b[0m\u001b[0;34m[\u001b[0m\u001b[0;36m2\u001b[0m\u001b[0;34m]\u001b[0m\u001b[0;34m\u001b[0m\u001b[0m\n\u001b[1;32m    672\u001b[0m         \u001b[0;32melse\u001b[0m\u001b[0;34m:\u001b[0m\u001b[0;34m\u001b[0m\u001b[0m\n",
      "\u001b[0;31mIndexError\u001b[0m: string index out of range"
     ]
    }
   ],
   "source": [
    "#See http://nickkellyresearch.com/python-script-transpose-midi-files-c-minor/\n",
    "#converts all midi files in the current folder\n",
    "#converting everything into the key of C major or C minor\n",
    "\n",
    "# major conversions\n",
    "key_halfsteps = dict([('G#', 4),(\"A-\", 4),(\"A\", 3),(\"A#\", 2),(\"B-\", 2),(\"B\", 1),(\"C\", 0),(\"C#\", -1),(\"D-\", -1),(\"D\", -2),(\"D#\", -3),(\"E-\", -3),(\"E\", -4),(\"F\", -5),(\"F#\", 6),(\"G-\", 6),(\"G\", 5)])\n",
    "\n",
    "\n",
    "# os.chdir(\"./audio_files/bach/JSB Chorales/test\")\n",
    "os.chdir(\"/home/eko/Downloads/lakh_train/\")\n",
    "\n",
    "for file in glob.glob(\"*.mid\"):\n",
    "    score = music21.converter.parse(file)\n",
    "    key = score.analyze('key')\n",
    "    halfSteps = key_halfsteps[key.tonic.name]\n",
    "    \n",
    "    newscore = score.transpose(halfSteps)\n",
    "    key = newscore.analyze('key')\n",
    "    print(key.tonic.name, key.mode)\n",
    "    newFileName = \"/home/eko/Downloads/lakh_train/preprocessing/CN_\" + file\n",
    "    newscore.write('midi',newFileName)\n"
   ]
  },
  {
   "cell_type": "code",
   "execution_count": null,
   "metadata": {
    "collapsed": true
   },
   "outputs": [],
   "source": []
  },
  {
   "cell_type": "markdown",
   "metadata": {},
   "source": [
    "## Create the mudb\n",
    "\n",
    "The Bach chorales are all the same tempo, so all we need to do is segment the file into frames"
   ]
  },
  {
   "cell_type": "code",
   "execution_count": 13,
   "metadata": {
    "collapsed": true
   },
   "outputs": [],
   "source": [
    "# import mido\n",
    "# import warnings\n",
    "\n",
    "def create_mudb(data='train', num_bars=8):\n",
    "    bars = []\n",
    "    T = 2 * num_bars #Every fs time steps is half a bar\n",
    "    fs = 100\n",
    "    for file in glob.glob(\"/home/eko/winter2018/Nottingham/%s/*.mid\" % data):\n",
    "#     for file in glob.glob(\"/home/eko/Downloads/lakh_train/preprocessing/*.mid\"):\n",
    "\n",
    "        pm = pretty_midi.PrettyMIDI(file)\n",
    "#         pm = mido.MidiFile(file, debug=True)\n",
    "        warnings.simplefilter('ignore')\n",
    "\n",
    "        initial_tempo = pm.get_tempo_changes()[1][0]\n",
    "        fs = (initial_tempo / 60) * 8\n",
    "        piano_roll = pm.get_piano_roll(fs=fs)\n",
    "        piano_roll = (piano_roll.T > 0).astype(np.float32)\n",
    "        #Add an empty bar before the start\n",
    "        piano_roll = np.vstack((np.zeros((int(fs), len(piano_roll[0])), dtype=np.float32), piano_roll))\n",
    "#         fs = (initial_tempo / 60) * 8\n",
    "        windowSize = T * fs\n",
    "        \n",
    "#         print len(piano_roll)\n",
    "\n",
    "        if len(piano_roll) > windowSize:\n",
    "            for bar in slidingWindow(sequence=piano_roll, winSize=int(windowSize), step=int(fs)):\n",
    "                bars.append(bar)\n",
    "\n",
    "    bars = np.asarray(bars)\n",
    "    np.savez('/home/eko/winter2018/Nottingham/preprocessing/CN_mudb_%s.npz' % data, bars=bars, fs=fs, T=T, num_bars=num_bars)"
   ]
  },
  {
   "cell_type": "code",
   "execution_count": 15,
   "metadata": {
    "collapsed": false
   },
   "outputs": [],
   "source": [
    "# create_mudb('train')\n",
    "create_mudb('valid')\n",
    "create_mudb('test')"
   ]
  },
  {
   "cell_type": "code",
   "execution_count": null,
   "metadata": {
    "collapsed": true
   },
   "outputs": [],
   "source": []
  }
 ],
 "metadata": {
  "kernelspec": {
   "display_name": "Python 2",
   "language": "python",
   "name": "python2"
  },
  "language_info": {
   "codemirror_mode": {
    "name": "ipython",
    "version": 2
   },
   "file_extension": ".py",
   "mimetype": "text/x-python",
   "name": "python",
   "nbconvert_exporter": "python",
   "pygments_lexer": "ipython2",
   "version": "2.7.13"
  }
 },
 "nbformat": 4,
 "nbformat_minor": 2
}
